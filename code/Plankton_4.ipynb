{
 "cells": [
  {
   "cell_type": "markdown",
   "id": "e2a4f57f",
   "metadata": {
    "id": "e2a4f57f"
   },
   "source": [
    "# Machine Learning Project 2022: Plankton\n",
    "\n",
    "### Authors:\n",
    "- Bram Fresen\n",
    "- Bram Huis\n",
    "- Max Burger\n",
    "- Moos Middelkoop\n",
    "\n",
    "For the Machine Learning Project to finish off the minor Artificial Intelligence, we chose to tackle the plankton problem, originally uploaded as the United States national data science bowl in december 2014. For this problem, the goal is to classify microscopic images of particles in water as one of 121 different classes of plankton. The dataset is 30.000 images large, with varying sizes. The dataset is also imbalanced.\n",
    "\n",
    "In order to solve this problem we will make use of a Convolutional Neural Network using the tensorflow library."
   ]
  },
  {
   "cell_type": "markdown",
   "id": "fb144121",
   "metadata": {
    "id": "fb144121"
   },
   "source": [
    "## Import libraries\n",
    "\n",
    "Firstly, we will import the needed libraries, and check if we are running on a GPU."
   ]
  },
  {
   "cell_type": "code",
   "execution_count": 1,
   "id": "ccc8cd45",
   "metadata": {
    "colab": {
     "base_uri": "https://localhost:8080/"
    },
    "id": "ccc8cd45",
    "outputId": "5ceaf3a6-89a3-4132-b874-2056369f237b"
   },
   "outputs": [
    {
     "name": "stdout",
     "output_type": "stream",
     "text": [
      "[PhysicalDevice(name='/physical_device:GPU:0', device_type='GPU')]\n"
     ]
    }
   ],
   "source": [
    "import tensorflow as tf \n",
    "import numpy as np\n",
    "import cv2\n",
    "import os\n",
    "import random\n",
    "import matplotlib.pyplot as plt\n",
    "import math\n",
    "\n",
    "from tensorflow.keras import layers, models, preprocessing\n",
    "from sklearn.model_selection import train_test_split\n",
    "from sklearn.utils import class_weight\n",
    "\n",
    "print(tf.config.list_physical_devices('GPU'))"
   ]
  },
  {
   "cell_type": "markdown",
   "id": "0d80ec50",
   "metadata": {
    "id": "0d80ec50"
   },
   "source": [
    "## Loading the training data and training labels\n",
    "\n",
    "We use the cv2 library to load the training images (which are .jpg files), and turn them into arrays. This piece of code was found online:\n",
    "\n",
    "https://stackoverflow.com/questions/30230592/loading-all-images-using-imread-from-a-given-folder\n",
    "https://drive.google.com/file/d/1hAaPzDMVEZ8X1tfRS2ieFEqi0R7Ww7uL/view"
   ]
  },
  {
   "cell_type": "markdown",
   "id": "c851be41",
   "metadata": {
    "id": "c851be41"
   },
   "source": [
    "### Training data\n",
    "\n",
    "Training data is sorted into folders by class, this next piece of code reads in the training data, puts it in an array, and constructs an array for the classes by using the names of the folders. At the end, this array for the labels is turned into a one-hot matrix, so that tensorflow can work with it."
   ]
  },
  {
   "cell_type": "code",
   "execution_count": 2,
   "id": "024ae544",
   "metadata": {
    "id": "024ae544"
   },
   "outputs": [],
   "source": [
    "# Create empty lists for the not resized training data, the labels (not one hot encoded yet) and the class sizes\n",
    "train_data = []\n",
    "train_labels = []\n",
    "class_size_list = []\n",
    "\n",
    "# Create a folder path of the different categories\n",
    "folder_train = 'data/train'\n",
    "\n",
    "# Loop through the index (for the one hot matrix) and the categories\n",
    "for number, categories in enumerate(os.listdir(folder_train)):\n",
    "    class_size = 0\n",
    "    \n",
    "    # Loop through the images , add 1 to the class size, read the images in in and add them to a list, \n",
    "    #also add the index 'number' to a list for the one hot matrix\n",
    "    for image in os.listdir(f'data/train/{categories}'):\n",
    "        class_size += 1\n",
    "        train_labels.append(number)\n",
    "        img = cv2.imread(os.path.join(f'data/train/{categories}', image))\n",
    "        train_data.append(img)\n",
    "    \n",
    "    # Append the size of the class to the class size list, in order to check the class sizes later, this way we\n",
    "    # can ananlyze the degree of class imbalance\n",
    "    class_size_list.append(class_size)\n",
    "\n",
    "# Create a one hot matrix from the train labels\n",
    "train_labels_one_hot = tf.keras.utils.to_categorical(train_labels)"
   ]
  },
  {
   "cell_type": "markdown",
   "id": "bb1615b0",
   "metadata": {},
   "source": [
    "Analyzing degree of class imbalance"
   ]
  },
  {
   "cell_type": "code",
   "execution_count": 3,
   "id": "6deaa34b",
   "metadata": {},
   "outputs": [
    {
     "name": "stdout",
     "output_type": "stream",
     "text": [
      "[889, 13, 71, 49, 16, 532, 242, 696, 393, 170, 815, 1934, 694, 77, 681, 173, 96, 178, 63, 286, 106, 49, 87, 30, 899, 1189, 24, 201, 113, 42, 53, 38, 55, 363, 394, 914, 519, 500, 36, 92, 80, 88, 385, 536, 96, 27, 14, 136, 38, 511, 10, 31, 85, 114, 64, 16, 10, 127, 75, 35, 229, 9, 19, 132, 23, 336, 12, 190, 412, 274, 150, 76, 703, 123, 43, 56, 14, 61, 14, 24, 141, 131, 108, 372, 625, 1172, 113, 108, 13, 65, 287, 158, 52, 49, 153, 174, 212, 135, 483, 179, 57, 247, 29, 30, 128, 21, 24, 38, 708, 54, 1979, 678, 29, 439, 417, 352, 236, 73, 317, 175, 425]\n",
      "\n",
      "Biggest class: 1979\n",
      "\n",
      "Smallest class: 9\n"
     ]
    }
   ],
   "source": [
    "print(class_size_list)\n",
    "print()\n",
    "print(f'Biggest class: {max(class_size_list)}')\n",
    "print()\n",
    "print(f'Smallest class: {min(class_size_list)}')"
   ]
  },
  {
   "cell_type": "markdown",
   "id": "89a0704a",
   "metadata": {
    "id": "89a0704a"
   },
   "source": [
    "### Deleting unnecessary channels\n",
    "\n",
    "There are 3 channels in each of the images. The cell below shows that each of the channels have the same values (test 1 and 2). Test 3 and 4 are here to show that the 'np.array_equal' function works; the values from different images return a false."
   ]
  },
  {
   "cell_type": "code",
   "execution_count": 4,
   "id": "2b9048ef",
   "metadata": {
    "id": "2b9048ef",
    "outputId": "8b5b04c2-5173-4bed-919f-2c60161f030c"
   },
   "outputs": [
    {
     "name": "stdout",
     "output_type": "stream",
     "text": [
      " Test 1: True, Test 2: True\n",
      " Test 3: False, Test 4: False\n"
     ]
    }
   ],
   "source": [
    "x = train_data[0]\n",
    "y = train_data[1]\n",
    "\n",
    "a0 = x[:, :, 0]\n",
    "b0 = x[:, :, 1]\n",
    "c0 = x[:, :, 2]\n",
    "\n",
    "a1 = y[:, :, 0]\n",
    "b1 = y[:, :, 1]\n",
    "c1 = y[:, :, 2]\n",
    "\n",
    "test_1 = np.array_equal(a0, b0)\n",
    "test_2 = np.array_equal(b0, c0)\n",
    "\n",
    "test_3 = np.array_equal(a0, a1)\n",
    "test_4 = np.array_equal(b0, c1)\n",
    "\n",
    "\n",
    "print(f' Test 1: {test_1}, Test 2: {test_2}')\n",
    "print(f' Test 3: {test_3}, Test 4: {test_4}')"
   ]
  },
  {
   "cell_type": "markdown",
   "id": "24d6cb5a",
   "metadata": {
    "colab": {
     "base_uri": "https://localhost:8080/",
     "height": 184
    },
    "id": "qaI7P5qy9L3Q",
    "outputId": "7552739a-b447-4b3d-ea37-22a6185e540f"
   },
   "source": [
    "We only proceed with one of the three channels, to eliminate redundant data"
   ]
  },
  {
   "cell_type": "code",
   "execution_count": 5,
   "id": "qaI7P5qy9L3Q",
   "metadata": {
    "colab": {
     "base_uri": "https://localhost:8080/",
     "height": 184
    },
    "id": "qaI7P5qy9L3Q",
    "outputId": "7552739a-b447-4b3d-ea37-22a6185e540f"
   },
   "outputs": [],
   "source": [
    "for i, image in enumerate(train_data):\n",
    "      train_data[i] = image[:, :, 0]"
   ]
  },
  {
   "cell_type": "markdown",
   "id": "1d7d208c",
   "metadata": {
    "id": "1d7d208c"
   },
   "source": [
    "# Resize input images\n",
    "\n",
    "Because all images are differnt sizes, it is necessary to resize all input data to the same size, in order to make tensorflow be able to work with the data. The first cell below analyzes the sizes of the data, and the second cell actually resizes, based on this analysis. Lastly, the data is converted into numpy arrays, so tensorflow will be able to work with them"
   ]
  },
  {
   "cell_type": "code",
   "execution_count": 6,
   "id": "5838d255",
   "metadata": {
    "id": "5838d255",
    "outputId": "333e4faa-c45c-4ba3-e9a6-9943bfa2e55d"
   },
   "outputs": [
    {
     "name": "stdout",
     "output_type": "stream",
     "text": [
      "Average dimensions: 66.66182093881856, 73.50728507383967\n",
      "Lowest first dimension image (21, 71)\n",
      "Lowest second dimension image (31, 49)\n"
     ]
    },
    {
     "data": {
      "image/png": "[encoded data removed]",
      "text/plain": [
       "<Figure size 432x288 with 1 Axes>"
      ]
     },
     "metadata": {
      "needs_background": "light"
     },
     "output_type": "display_data"
    }
   ],
   "source": [
    "# Start with an infinitely large number\n",
    "value_1 = math.inf\n",
    "value_2 = math.inf\n",
    "sum_1 = 0\n",
    "sum_2 = 0\n",
    "count = 0\n",
    "\n",
    "# This checks for the lowest image size in the first and second dimension\n",
    "for image in train_data:\n",
    "    count+=1\n",
    "    sum_1 += image.shape[0]\n",
    "    sum_2 += image.shape[1]\n",
    "    if image.shape[0] < value_1:\n",
    "        \n",
    "        value_1 = image.shape[0]\n",
    "        hold_1 = image.shape\n",
    "    if image.shape[1] < value_2:\n",
    "        \n",
    "        value_2 = image.shape[0]\n",
    "        hold_2 = image.shape\n",
    "        \n",
    "sum_11 = sum_1 / count\n",
    "sum_22 = sum_2 / count\n",
    "\n",
    "print(f'Average dimensions: {sum_11}, {sum_22}')\n",
    "\n",
    "plt.imshow(train_data[0], cmap = 'gray')\n",
    "\n",
    "print(f'Lowest first dimension image {hold_1}')\n",
    "print(f'Lowest second dimension image {hold_2}')"
   ]
  },
  {
   "cell_type": "code",
   "execution_count": 7,
   "id": "ff1a2aa4",
   "metadata": {
    "id": "ff1a2aa4",
    "outputId": "150a5232-50fb-47e4-f6d5-18b8b06b0f37"
   },
   "outputs": [
    {
     "name": "stdout",
     "output_type": "stream",
     "text": [
      "(32, 32, 1)\n"
     ]
    },
    {
     "data": {
      "image/png": "[encoded data removed]",
      "text/plain": [
       "<Figure size 432x288 with 1 Axes>"
      ]
     },
     "metadata": {
      "needs_background": "light"
     },
     "output_type": "display_data"
    }
   ],
   "source": [
    "# Create an empty list for the training data\n",
    "train_data_resized = []\n",
    "\n",
    "# Loop through the images in the training data and resize them to the lowest shape in the dataset, \n",
    "# add a third dimension of 1 to the images and then append the image to the 'train_data_resized' list\n",
    "for image in train_data:\n",
    "    img = cv2.resize(image, dsize = (32, 32), interpolation = cv2.INTER_AREA)\n",
    "    img = np.expand_dims(img, axis = 2)\n",
    "    train_data_resized.append(img)\n",
    "\n",
    "# Test if the image is resized and show the image\n",
    "print(train_data_resized[0].shape)\n",
    "plt.imshow(train_data_resized[0], cmap = 'gray')\n",
    "\n",
    "#Split the data into 70% training and 30% validation\n",
    "im_train, im_val, lab_train, lab_val = train_test_split(train_data_resized, train_labels_one_hot, train_size=0.7, random_state=1265599650)"
   ]
  },
  {
   "cell_type": "code",
   "execution_count": 8,
   "id": "9cddaa21",
   "metadata": {
    "id": "9cddaa21",
    "outputId": "c51e8555-94fe-470f-9215-84e3d0d2ab4f"
   },
   "outputs": [
    {
     "name": "stdout",
     "output_type": "stream",
     "text": [
      "(21235, 32, 32, 1)\n",
      "(21235, 121)\n",
      "(9101, 32, 32, 1)\n",
      "(9101, 121)\n"
     ]
    }
   ],
   "source": [
    "# Convert the data to numpy arrays, so tensorflow can use them\n",
    "image_train = np.array(im_train)\n",
    "label_train = np.array(lab_train)\n",
    "image_val = np.array(im_val)\n",
    "label_val = np.array(lab_val)\n",
    "\n",
    "# Test if the shapes are correct\n",
    "print(image_train.shape)\n",
    "print(label_train.shape)\n",
    "print(image_val.shape)\n",
    "print(label_val.shape)"
   ]
  },
  {
   "cell_type": "markdown",
   "id": "15024880",
   "metadata": {
    "id": "15024880"
   },
   "source": [
    "## Convolutional network\n",
    "\n",
    "We use the function 'train_and_evaluate' which, obviously, trains our model and then evaluates the trained model on the validation data. This function was reused from the CIFAR-assignment from module 6 of ML2."
   ]
  },
  {
   "cell_type": "markdown",
   "id": "e2ce50c7",
   "metadata": {},
   "source": [
    "Y_ints line: https://datascience.stackexchange.com/questions/13490/how-to-set-class-weights-for-imbalanced-classes-in-keras"
   ]
  },
  {
   "cell_type": "code",
   "execution_count": 9,
   "id": "3b49593d",
   "metadata": {
    "id": "3b49593d"
   },
   "outputs": [],
   "source": [
    "def train_and_evaluate(model, train_x, train_y, val_x, val_y, preprocess={}, epochs=20, augment={}):\n",
    "    \n",
    "    model.compile(loss='categorical_crossentropy', optimizer=optimizer, metrics=['accuracy'])\n",
    "\n",
    "    train_gen = preprocessing.image.ImageDataGenerator(**preprocess, **augment)\n",
    "    train_gen.fit(train_x) \n",
    "\n",
    "    val_gen = preprocessing.image.ImageDataGenerator(**preprocess)\n",
    "    val_gen.fit(train_x)\n",
    "    \n",
    "    y_ints = [y.argmax() for y in label_train]\n",
    "    class_weights = class_weight.compute_class_weight('balanced',classes = np.unique(y_ints), y = y_ints)\n",
    "    \n",
    "    history = model.fit(train_gen.flow(train_x, train_y), epochs=epochs, \n",
    "                        validation_data=val_gen.flow(val_x, val_y))\n",
    "\n",
    "    fig, axs = plt.subplots(1,2,figsize=(20,5)) \n",
    "\n",
    "    for i, metric in enumerate(['loss', 'accuracy']):\n",
    "        axs[i].plot(history.history[metric])\n",
    "        axs[i].plot(history.history['val_'+metric])\n",
    "        axs[i].legend(['training', 'validation'], loc='best')\n",
    "\n",
    "        axs[i].set_title('Model '+metric)\n",
    "        axs[i].set_ylabel(metric)\n",
    "        axs[i].set_xlabel('epoch')\n",
    "\n",
    "    plt.show()\n",
    "\n",
    "    print(f\"Validation Accuracy: {model.evaluate(val_gen.flow(val_x, val_y))[1]}\")\n",
    "    "
   ]
  },
  {
   "cell_type": "markdown",
   "id": "3c2820be",
   "metadata": {
    "id": "3c2820be"
   },
   "source": [
    "## The actual model\n",
    "\n",
    "We start with a very simple convolutional neural network, with 2 convolutional layers, both with pooling afterwards, and one dense layer. kernelsize, amount of filters, amount of nodes are specified in the code cell. This first version of the model gives us a validation accuracy of approximately 64%"
   ]
  },
  {
   "cell_type": "code",
   "execution_count": null,
   "id": "74a184d5",
   "metadata": {},
   "outputs": [
    {
     "name": "stdout",
     "output_type": "stream",
     "text": [
      "WARNING:tensorflow:sample_weight modes were coerced from\n",
      "  ...\n",
      "    to  \n",
      "  ['...']\n"
     ]
    },
    {
     "name": "stderr",
     "output_type": "stream",
     "text": [
      "WARNING:tensorflow:sample_weight modes were coerced from\n",
      "  ...\n",
      "    to  \n",
      "  ['...']\n"
     ]
    },
    {
     "name": "stdout",
     "output_type": "stream",
     "text": [
      "WARNING:tensorflow:sample_weight modes were coerced from\n",
      "  ...\n",
      "    to  \n",
      "  ['...']\n"
     ]
    },
    {
     "name": "stderr",
     "output_type": "stream",
     "text": [
      "WARNING:tensorflow:sample_weight modes were coerced from\n",
      "  ...\n",
      "    to  \n",
      "  ['...']\n"
     ]
    },
    {
     "name": "stdout",
     "output_type": "stream",
     "text": [
      "Train for 664 steps, validate for 285 steps\n",
      "Epoch 1/40\n",
      "664/664 [==============================] - 6s 9ms/step - loss: 3.7033 - accuracy: 0.1483 - val_loss: 2.8345 - val_accuracy: 0.2818\n",
      "Epoch 2/40\n",
      "664/664 [==============================] - 5s 8ms/step - loss: 2.6121 - accuracy: 0.3145 - val_loss: 2.2186 - val_accuracy: 0.3902\n",
      "Epoch 3/40\n",
      "664/664 [==============================] - 6s 8ms/step - loss: 2.2290 - accuracy: 0.3936 - val_loss: 1.9559 - val_accuracy: 0.4405\n",
      "Epoch 4/40\n",
      "664/664 [==============================] - 5s 8ms/step - loss: 2.0086 - accuracy: 0.4407 - val_loss: 1.8687 - val_accuracy: 0.4720\n",
      "Epoch 5/40\n",
      "664/664 [==============================] - 5s 8ms/step - loss: 8103.4726 - accuracy: 0.3479 - val_loss: 209.9637 - val_accuracy: 0.0732\n",
      "Epoch 6/40\n",
      "664/664 [==============================] - 5s 8ms/step - loss: 71.1527 - accuracy: 0.0508 - val_loss: 25.8736 - val_accuracy: 0.0527\n",
      "Epoch 7/40\n",
      "664/664 [==============================] - 5s 8ms/step - loss: 35.2763 - accuracy: 0.0567 - val_loss: 6.5300 - val_accuracy: 0.1276\n",
      "Epoch 8/40\n",
      "664/664 [==============================] - 5s 8ms/step - loss: 8711.6581 - accuracy: 0.0336 - val_loss: 13.6791 - val_accuracy: 0.1076\n",
      "Epoch 9/40\n",
      "664/664 [==============================] - 6s 8ms/step - loss: 38.3305 - accuracy: 0.0544 - val_loss: 7.1697 - val_accuracy: 0.1345\n",
      "Epoch 10/40\n",
      "664/664 [==============================] - 5s 8ms/step - loss: 31.0734 - accuracy: 0.0536 - val_loss: 20.4271 - val_accuracy: 0.0763\n",
      "Epoch 11/40\n",
      "664/664 [==============================] - 5s 8ms/step - loss: 14.6960 - accuracy: 0.0603 - val_loss: 6.5729 - val_accuracy: 0.0863\n",
      "Epoch 12/40\n",
      "664/664 [==============================] - 6s 8ms/step - loss: 33.8864 - accuracy: 0.0494 - val_loss: 6.9170 - val_accuracy: 0.0764\n",
      "Epoch 13/40\n",
      "664/664 [==============================] - 6s 8ms/step - loss: 120.7995 - accuracy: 0.0406 - val_loss: 4.8306 - val_accuracy: 0.0955\n",
      "Epoch 14/40\n",
      "664/664 [==============================] - 6s 9ms/step - loss: 6.3648 - accuracy: 0.0659 - val_loss: 4.1317 - val_accuracy: 0.1149\n",
      "Epoch 15/40\n",
      "664/664 [==============================] - 6s 8ms/step - loss: 4.9560 - accuracy: 0.0810 - val_loss: 5.5137 - val_accuracy: 0.0761\n",
      "Epoch 16/40\n",
      "141/664 [=====>........................] - ETA: 3s - loss: 5917.5084 - accuracy: 0.0601"
     ]
    },
    {
     "name": "stderr",
     "output_type": "stream",
     "text": [
      "ERROR:root:Internal Python error in the inspect module.\n",
      "Below is the traceback from this internal error.\n",
      "\n",
      "ERROR:root:Internal Python error in the inspect module.\n",
      "Below is the traceback from this internal error.\n",
      "\n"
     ]
    },
    {
     "name": "stdout",
     "output_type": "stream",
     "text": [
      "Traceback (most recent call last):\n",
      "  File \"C:\\Users\\bramh\\anaconda3\\envs\\progLab\\lib\\site-packages\\IPython\\core\\interactiveshell.py\", line 3444, in run_code\n",
      "    exec(code_obj, self.user_global_ns, self.user_ns)\n",
      "  File \"C:\\Users\\bramh\\AppData\\Local\\Temp/ipykernel_6872/1427779340.py\", line 45, in <module>\n",
      "    train_and_evaluate(model_1, image_train, label_train, image_val, label_val, epochs = 40, augment = {'horizontal_flip':  True, 'vertical_flip': True, 'rotation_range': 0.15, 'zoom_range': 0.15})\n",
      "  File \"C:\\Users\\bramh\\AppData\\Local\\Temp/ipykernel_6872/331437690.py\", line 15, in train_and_evaluate\n",
      "    validation_data=val_gen.flow(val_x, val_y))\n",
      "  File \"C:\\Users\\bramh\\anaconda3\\envs\\progLab\\lib\\site-packages\\tensorflow_core\\python\\keras\\engine\\training.py\", line 819, in fit\n",
      "    use_multiprocessing=use_multiprocessing)\n",
      "  File \"C:\\Users\\bramh\\anaconda3\\envs\\progLab\\lib\\site-packages\\tensorflow_core\\python\\keras\\engine\\training_v2.py\", line 342, in fit\n",
      "    total_epochs=epochs)\n",
      "  File \"C:\\Users\\bramh\\anaconda3\\envs\\progLab\\lib\\site-packages\\tensorflow_core\\python\\keras\\engine\\training_v2.py\", line 128, in run_one_epoch\n",
      "    batch_outs = execution_function(iterator)\n",
      "  File \"C:\\Users\\bramh\\anaconda3\\envs\\progLab\\lib\\site-packages\\tensorflow_core\\python\\keras\\engine\\training_v2_utils.py\", line 98, in execution_function\n",
      "    distributed_function(input_fn))\n",
      "  File \"C:\\Users\\bramh\\anaconda3\\envs\\progLab\\lib\\site-packages\\tensorflow_core\\python\\util\\nest.py\", line 568, in map_structure\n",
      "    structure[0], [func(*x) for x in entries],\n",
      "  File \"C:\\Users\\bramh\\anaconda3\\envs\\progLab\\lib\\site-packages\\tensorflow_core\\python\\util\\nest.py\", line 568, in <listcomp>\n",
      "    structure[0], [func(*x) for x in entries],\n",
      "  File \"C:\\Users\\bramh\\anaconda3\\envs\\progLab\\lib\\site-packages\\tensorflow_core\\python\\keras\\engine\\training_v2_utils.py\", line 130, in _non_none_constant_value\n",
      "    constant_value = tensor_util.constant_value(v)\n",
      "  File \"C:\\Users\\bramh\\anaconda3\\envs\\progLab\\lib\\site-packages\\tensorflow_core\\python\\framework\\tensor_util.py\", line 822, in constant_value\n",
      "    return tensor.numpy()\n",
      "  File \"C:\\Users\\bramh\\anaconda3\\envs\\progLab\\lib\\site-packages\\tensorflow_core\\python\\framework\\ops.py\", line 942, in numpy\n",
      "    maybe_arr = self._numpy()  # pylint: disable=protected-access\n",
      "  File \"C:\\Users\\bramh\\anaconda3\\envs\\progLab\\lib\\site-packages\\tensorflow_core\\python\\framework\\ops.py\", line 908, in _numpy\n",
      "    return self._numpy_internal()\n",
      "KeyboardInterrupt\n",
      "\n",
      "During handling of the above exception, another exception occurred:\n",
      "\n",
      "Traceback (most recent call last):\n",
      "  File \"C:\\Users\\bramh\\anaconda3\\envs\\progLab\\lib\\site-packages\\IPython\\core\\interactiveshell.py\", line 2064, in showtraceback\n",
      "    stb = value._render_traceback_()\n",
      "AttributeError: 'KeyboardInterrupt' object has no attribute '_render_traceback_'\n",
      "\n",
      "During handling of the above exception, another exception occurred:\n",
      "\n",
      "Traceback (most recent call last):\n",
      "  File \"C:\\Users\\bramh\\anaconda3\\envs\\progLab\\lib\\site-packages\\IPython\\core\\ultratb.py\", line 1101, in get_records\n",
      "    return _fixed_getinnerframes(etb, number_of_lines_of_context, tb_offset)\n",
      "  File \"C:\\Users\\bramh\\anaconda3\\envs\\progLab\\lib\\site-packages\\IPython\\core\\ultratb.py\", line 248, in wrapped\n",
      "    return f(*args, **kwargs)\n",
      "  File \"C:\\Users\\bramh\\anaconda3\\envs\\progLab\\lib\\site-packages\\IPython\\core\\ultratb.py\", line 281, in _fixed_getinnerframes\n",
      "    records = fix_frame_records_filenames(inspect.getinnerframes(etb, context))\n",
      "  File \"C:\\Users\\bramh\\anaconda3\\envs\\progLab\\lib\\inspect.py\", line 1502, in getinnerframes\n",
      "    frameinfo = (tb.tb_frame,) + getframeinfo(tb, context)\n",
      "  File \"C:\\Users\\bramh\\anaconda3\\envs\\progLab\\lib\\inspect.py\", line 1460, in getframeinfo\n",
      "    filename = getsourcefile(frame) or getfile(frame)\n",
      "  File \"C:\\Users\\bramh\\anaconda3\\envs\\progLab\\lib\\inspect.py\", line 696, in getsourcefile\n",
      "    if getattr(getmodule(object, filename), '__loader__', None) is not None:\n",
      "  File \"C:\\Users\\bramh\\anaconda3\\envs\\progLab\\lib\\inspect.py\", line 733, in getmodule\n",
      "    if ismodule(module) and hasattr(module, '__file__'):\n",
      "  File \"C:\\Users\\bramh\\anaconda3\\envs\\progLab\\lib\\site-packages\\tensorflow\\__init__.py\", line 50, in __getattr__\n",
      "    module = self._load()\n",
      "  File \"C:\\Users\\bramh\\anaconda3\\envs\\progLab\\lib\\site-packages\\tensorflow\\__init__.py\", line 44, in _load\n",
      "    module = _importlib.import_module(self.__name__)\n",
      "  File \"C:\\Users\\bramh\\anaconda3\\envs\\progLab\\lib\\importlib\\__init__.py\", line 127, in import_module\n",
      "    return _bootstrap._gcd_import(name[level:], package, level)\n",
      "  File \"<frozen importlib._bootstrap>\", line 1006, in _gcd_import\n",
      "  File \"<frozen importlib._bootstrap>\", line 983, in _find_and_load\n",
      "  File \"<frozen importlib._bootstrap>\", line 965, in _find_and_load_unlocked\n",
      "ModuleNotFoundError: No module named 'tensorflow_core.estimator'\n",
      "Traceback (most recent call last):\n",
      "  File \"C:\\Users\\bramh\\anaconda3\\envs\\progLab\\lib\\site-packages\\IPython\\core\\interactiveshell.py\", line 3444, in run_code\n",
      "    exec(code_obj, self.user_global_ns, self.user_ns)\n",
      "  File \"C:\\Users\\bramh\\AppData\\Local\\Temp/ipykernel_6872/1427779340.py\", line 45, in <module>\n",
      "    train_and_evaluate(model_1, image_train, label_train, image_val, label_val, epochs = 40, augment = {'horizontal_flip':  True, 'vertical_flip': True, 'rotation_range': 0.15, 'zoom_range': 0.15})\n",
      "  File \"C:\\Users\\bramh\\AppData\\Local\\Temp/ipykernel_6872/331437690.py\", line 15, in train_and_evaluate\n",
      "    validation_data=val_gen.flow(val_x, val_y))\n",
      "  File \"C:\\Users\\bramh\\anaconda3\\envs\\progLab\\lib\\site-packages\\tensorflow_core\\python\\keras\\engine\\training.py\", line 819, in fit\n",
      "    use_multiprocessing=use_multiprocessing)\n",
      "  File \"C:\\Users\\bramh\\anaconda3\\envs\\progLab\\lib\\site-packages\\tensorflow_core\\python\\keras\\engine\\training_v2.py\", line 342, in fit\n",
      "    total_epochs=epochs)\n",
      "  File \"C:\\Users\\bramh\\anaconda3\\envs\\progLab\\lib\\site-packages\\tensorflow_core\\python\\keras\\engine\\training_v2.py\", line 128, in run_one_epoch\n",
      "    batch_outs = execution_function(iterator)\n",
      "  File \"C:\\Users\\bramh\\anaconda3\\envs\\progLab\\lib\\site-packages\\tensorflow_core\\python\\keras\\engine\\training_v2_utils.py\", line 98, in execution_function\n",
      "    distributed_function(input_fn))\n",
      "  File \"C:\\Users\\bramh\\anaconda3\\envs\\progLab\\lib\\site-packages\\tensorflow_core\\python\\util\\nest.py\", line 568, in map_structure\n",
      "    structure[0], [func(*x) for x in entries],\n",
      "  File \"C:\\Users\\bramh\\anaconda3\\envs\\progLab\\lib\\site-packages\\tensorflow_core\\python\\util\\nest.py\", line 568, in <listcomp>\n",
      "    structure[0], [func(*x) for x in entries],\n",
      "  File \"C:\\Users\\bramh\\anaconda3\\envs\\progLab\\lib\\site-packages\\tensorflow_core\\python\\keras\\engine\\training_v2_utils.py\", line 130, in _non_none_constant_value\n",
      "    constant_value = tensor_util.constant_value(v)\n",
      "  File \"C:\\Users\\bramh\\anaconda3\\envs\\progLab\\lib\\site-packages\\tensorflow_core\\python\\framework\\tensor_util.py\", line 822, in constant_value\n",
      "    return tensor.numpy()\n",
      "  File \"C:\\Users\\bramh\\anaconda3\\envs\\progLab\\lib\\site-packages\\tensorflow_core\\python\\framework\\ops.py\", line 942, in numpy\n",
      "    maybe_arr = self._numpy()  # pylint: disable=protected-access\n",
      "  File \"C:\\Users\\bramh\\anaconda3\\envs\\progLab\\lib\\site-packages\\tensorflow_core\\python\\framework\\ops.py\", line 908, in _numpy\n",
      "    return self._numpy_internal()\n",
      "KeyboardInterrupt\n",
      "\n",
      "During handling of the above exception, another exception occurred:\n",
      "\n",
      "Traceback (most recent call last):\n",
      "  File \"C:\\Users\\bramh\\anaconda3\\envs\\progLab\\lib\\site-packages\\IPython\\core\\interactiveshell.py\", line 2064, in showtraceback\n",
      "    stb = value._render_traceback_()\n",
      "AttributeError: 'KeyboardInterrupt' object has no attribute '_render_traceback_'\n",
      "\n",
      "During handling of the above exception, another exception occurred:\n",
      "\n",
      "Traceback (most recent call last):\n",
      "  File \"C:\\Users\\bramh\\anaconda3\\envs\\progLab\\lib\\site-packages\\IPython\\core\\interactiveshell.py\", line 3364, in run_ast_nodes\n",
      "    if (await self.run_code(code, result,  async_=asy)):\n",
      "  File \"C:\\Users\\bramh\\anaconda3\\envs\\progLab\\lib\\site-packages\\IPython\\core\\interactiveshell.py\", line 3461, in run_code\n",
      "    self.showtraceback(running_compiled_code=True)\n",
      "  File \"C:\\Users\\bramh\\anaconda3\\envs\\progLab\\lib\\site-packages\\IPython\\core\\interactiveshell.py\", line 2067, in showtraceback\n",
      "    value, tb, tb_offset=tb_offset)\n",
      "  File \"C:\\Users\\bramh\\anaconda3\\envs\\progLab\\lib\\site-packages\\IPython\\core\\ultratb.py\", line 1368, in structured_traceback\n",
      "    self, etype, value, tb, tb_offset, number_of_lines_of_context)\n",
      "  File \"C:\\Users\\bramh\\anaconda3\\envs\\progLab\\lib\\site-packages\\IPython\\core\\ultratb.py\", line 1268, in structured_traceback\n",
      "    self, etype, value, tb, tb_offset, number_of_lines_of_context\n",
      "  File \"C:\\Users\\bramh\\anaconda3\\envs\\progLab\\lib\\site-packages\\IPython\\core\\ultratb.py\", line 1125, in structured_traceback\n",
      "    tb_offset)\n",
      "  File \"C:\\Users\\bramh\\anaconda3\\envs\\progLab\\lib\\site-packages\\IPython\\core\\ultratb.py\", line 1082, in format_exception_as_a_whole\n",
      "    last_unique, recursion_repeat = find_recursion(orig_etype, evalue, records)\n",
      "  File \"C:\\Users\\bramh\\anaconda3\\envs\\progLab\\lib\\site-packages\\IPython\\core\\ultratb.py\", line 382, in find_recursion\n",
      "    return len(records), 0\n",
      "TypeError: object of type 'NoneType' has no len()\n",
      "\n",
      "During handling of the above exception, another exception occurred:\n",
      "\n",
      "Traceback (most recent call last):\n",
      "  File \"C:\\Users\\bramh\\anaconda3\\envs\\progLab\\lib\\site-packages\\IPython\\core\\interactiveshell.py\", line 2064, in showtraceback\n",
      "    stb = value._render_traceback_()\n",
      "AttributeError: 'TypeError' object has no attribute '_render_traceback_'\n",
      "\n",
      "During handling of the above exception, another exception occurred:\n",
      "\n",
      "Traceback (most recent call last):\n",
      "  File \"C:\\Users\\bramh\\anaconda3\\envs\\progLab\\lib\\site-packages\\IPython\\core\\ultratb.py\", line 1101, in get_records\n",
      "    return _fixed_getinnerframes(etb, number_of_lines_of_context, tb_offset)\n",
      "  File \"C:\\Users\\bramh\\anaconda3\\envs\\progLab\\lib\\site-packages\\IPython\\core\\ultratb.py\", line 248, in wrapped\n",
      "    return f(*args, **kwargs)\n",
      "  File \"C:\\Users\\bramh\\anaconda3\\envs\\progLab\\lib\\site-packages\\IPython\\core\\ultratb.py\", line 281, in _fixed_getinnerframes\n",
      "    records = fix_frame_records_filenames(inspect.getinnerframes(etb, context))\n",
      "  File \"C:\\Users\\bramh\\anaconda3\\envs\\progLab\\lib\\inspect.py\", line 1502, in getinnerframes\n",
      "    frameinfo = (tb.tb_frame,) + getframeinfo(tb, context)\n",
      "  File \"C:\\Users\\bramh\\anaconda3\\envs\\progLab\\lib\\inspect.py\", line 1460, in getframeinfo\n",
      "    filename = getsourcefile(frame) or getfile(frame)\n",
      "  File \"C:\\Users\\bramh\\anaconda3\\envs\\progLab\\lib\\inspect.py\", line 696, in getsourcefile\n",
      "    if getattr(getmodule(object, filename), '__loader__', None) is not None:\n",
      "  File \"C:\\Users\\bramh\\anaconda3\\envs\\progLab\\lib\\inspect.py\", line 733, in getmodule\n",
      "    if ismodule(module) and hasattr(module, '__file__'):\n",
      "  File \"C:\\Users\\bramh\\anaconda3\\envs\\progLab\\lib\\site-packages\\tensorflow\\__init__.py\", line 50, in __getattr__\n",
      "    module = self._load()\n",
      "  File \"C:\\Users\\bramh\\anaconda3\\envs\\progLab\\lib\\site-packages\\tensorflow\\__init__.py\", line 44, in _load\n",
      "    module = _importlib.import_module(self.__name__)\n",
      "  File \"C:\\Users\\bramh\\anaconda3\\envs\\progLab\\lib\\importlib\\__init__.py\", line 127, in import_module\n",
      "    return _bootstrap._gcd_import(name[level:], package, level)\n",
      "  File \"<frozen importlib._bootstrap>\", line 1006, in _gcd_import\n",
      "  File \"<frozen importlib._bootstrap>\", line 983, in _find_and_load\n",
      "  File \"<frozen importlib._bootstrap>\", line 965, in _find_and_load_unlocked\n",
      "ModuleNotFoundError: No module named 'tensorflow_core.estimator'\n"
     ]
    },
    {
     "name": "stderr",
     "output_type": "stream",
     "text": [
      "ERROR:root:Internal Python error in the inspect module.\n",
      "Below is the traceback from this internal error.\n",
      "\n"
     ]
    },
    {
     "name": "stdout",
     "output_type": "stream",
     "text": [
      "Traceback (most recent call last):\n",
      "  File \"C:\\Users\\bramh\\anaconda3\\envs\\progLab\\lib\\site-packages\\IPython\\core\\interactiveshell.py\", line 3444, in run_code\n",
      "    exec(code_obj, self.user_global_ns, self.user_ns)\n",
      "  File \"C:\\Users\\bramh\\AppData\\Local\\Temp/ipykernel_6872/1427779340.py\", line 45, in <module>\n",
      "    train_and_evaluate(model_1, image_train, label_train, image_val, label_val, epochs = 40, augment = {'horizontal_flip':  True, 'vertical_flip': True, 'rotation_range': 0.15, 'zoom_range': 0.15})\n",
      "  File \"C:\\Users\\bramh\\AppData\\Local\\Temp/ipykernel_6872/331437690.py\", line 15, in train_and_evaluate\n",
      "    validation_data=val_gen.flow(val_x, val_y))\n",
      "  File \"C:\\Users\\bramh\\anaconda3\\envs\\progLab\\lib\\site-packages\\tensorflow_core\\python\\keras\\engine\\training.py\", line 819, in fit\n",
      "    use_multiprocessing=use_multiprocessing)\n",
      "  File \"C:\\Users\\bramh\\anaconda3\\envs\\progLab\\lib\\site-packages\\tensorflow_core\\python\\keras\\engine\\training_v2.py\", line 342, in fit\n",
      "    total_epochs=epochs)\n",
      "  File \"C:\\Users\\bramh\\anaconda3\\envs\\progLab\\lib\\site-packages\\tensorflow_core\\python\\keras\\engine\\training_v2.py\", line 128, in run_one_epoch\n",
      "    batch_outs = execution_function(iterator)\n",
      "  File \"C:\\Users\\bramh\\anaconda3\\envs\\progLab\\lib\\site-packages\\tensorflow_core\\python\\keras\\engine\\training_v2_utils.py\", line 98, in execution_function\n",
      "    distributed_function(input_fn))\n",
      "  File \"C:\\Users\\bramh\\anaconda3\\envs\\progLab\\lib\\site-packages\\tensorflow_core\\python\\util\\nest.py\", line 568, in map_structure\n",
      "    structure[0], [func(*x) for x in entries],\n",
      "  File \"C:\\Users\\bramh\\anaconda3\\envs\\progLab\\lib\\site-packages\\tensorflow_core\\python\\util\\nest.py\", line 568, in <listcomp>\n",
      "    structure[0], [func(*x) for x in entries],\n",
      "  File \"C:\\Users\\bramh\\anaconda3\\envs\\progLab\\lib\\site-packages\\tensorflow_core\\python\\keras\\engine\\training_v2_utils.py\", line 130, in _non_none_constant_value\n",
      "    constant_value = tensor_util.constant_value(v)\n",
      "  File \"C:\\Users\\bramh\\anaconda3\\envs\\progLab\\lib\\site-packages\\tensorflow_core\\python\\framework\\tensor_util.py\", line 822, in constant_value\n",
      "    return tensor.numpy()\n",
      "  File \"C:\\Users\\bramh\\anaconda3\\envs\\progLab\\lib\\site-packages\\tensorflow_core\\python\\framework\\ops.py\", line 942, in numpy\n",
      "    maybe_arr = self._numpy()  # pylint: disable=protected-access\n",
      "  File \"C:\\Users\\bramh\\anaconda3\\envs\\progLab\\lib\\site-packages\\tensorflow_core\\python\\framework\\ops.py\", line 908, in _numpy\n",
      "    return self._numpy_internal()\n",
      "KeyboardInterrupt\n",
      "\n",
      "During handling of the above exception, another exception occurred:\n",
      "\n",
      "Traceback (most recent call last):\n",
      "  File \"C:\\Users\\bramh\\anaconda3\\envs\\progLab\\lib\\site-packages\\IPython\\core\\interactiveshell.py\", line 2064, in showtraceback\n",
      "    stb = value._render_traceback_()\n",
      "AttributeError: 'KeyboardInterrupt' object has no attribute '_render_traceback_'\n",
      "\n",
      "During handling of the above exception, another exception occurred:\n",
      "\n",
      "Traceback (most recent call last):\n",
      "  File \"C:\\Users\\bramh\\anaconda3\\envs\\progLab\\lib\\site-packages\\IPython\\core\\interactiveshell.py\", line 3364, in run_ast_nodes\n",
      "    if (await self.run_code(code, result,  async_=asy)):\n",
      "  File \"C:\\Users\\bramh\\anaconda3\\envs\\progLab\\lib\\site-packages\\IPython\\core\\interactiveshell.py\", line 3461, in run_code\n",
      "    self.showtraceback(running_compiled_code=True)\n",
      "  File \"C:\\Users\\bramh\\anaconda3\\envs\\progLab\\lib\\site-packages\\IPython\\core\\interactiveshell.py\", line 2067, in showtraceback\n",
      "    value, tb, tb_offset=tb_offset)\n",
      "  File \"C:\\Users\\bramh\\anaconda3\\envs\\progLab\\lib\\site-packages\\IPython\\core\\ultratb.py\", line 1368, in structured_traceback\n",
      "    self, etype, value, tb, tb_offset, number_of_lines_of_context)\n",
      "  File \"C:\\Users\\bramh\\anaconda3\\envs\\progLab\\lib\\site-packages\\IPython\\core\\ultratb.py\", line 1268, in structured_traceback\n",
      "    self, etype, value, tb, tb_offset, number_of_lines_of_context\n",
      "  File \"C:\\Users\\bramh\\anaconda3\\envs\\progLab\\lib\\site-packages\\IPython\\core\\ultratb.py\", line 1125, in structured_traceback\n",
      "    tb_offset)\n",
      "  File \"C:\\Users\\bramh\\anaconda3\\envs\\progLab\\lib\\site-packages\\IPython\\core\\ultratb.py\", line 1082, in format_exception_as_a_whole\n",
      "    last_unique, recursion_repeat = find_recursion(orig_etype, evalue, records)\n",
      "  File \"C:\\Users\\bramh\\anaconda3\\envs\\progLab\\lib\\site-packages\\IPython\\core\\ultratb.py\", line 382, in find_recursion\n",
      "    return len(records), 0\n",
      "TypeError: object of type 'NoneType' has no len()\n",
      "\n",
      "During handling of the above exception, another exception occurred:\n",
      "\n",
      "Traceback (most recent call last):\n",
      "  File \"C:\\Users\\bramh\\anaconda3\\envs\\progLab\\lib\\site-packages\\IPython\\core\\interactiveshell.py\", line 2064, in showtraceback\n",
      "    stb = value._render_traceback_()\n",
      "AttributeError: 'TypeError' object has no attribute '_render_traceback_'\n",
      "\n",
      "During handling of the above exception, another exception occurred:\n",
      "\n",
      "Traceback (most recent call last):\n",
      "  File \"C:\\Users\\bramh\\anaconda3\\envs\\progLab\\lib\\site-packages\\IPython\\core\\interactiveshell.py\", line 2947, in _run_cell\n",
      "    return runner(coro)\n",
      "  File \"C:\\Users\\bramh\\anaconda3\\envs\\progLab\\lib\\site-packages\\IPython\\core\\async_helpers.py\", line 68, in _pseudo_sync_runner\n",
      "    coro.send(None)\n",
      "  File \"C:\\Users\\bramh\\anaconda3\\envs\\progLab\\lib\\site-packages\\IPython\\core\\interactiveshell.py\", line 3173, in run_cell_async\n",
      "    interactivity=interactivity, compiler=compiler, result=result)\n",
      "  File \"C:\\Users\\bramh\\anaconda3\\envs\\progLab\\lib\\site-packages\\IPython\\core\\interactiveshell.py\", line 3383, in run_ast_nodes\n",
      "    self.showtraceback()\n",
      "  File \"C:\\Users\\bramh\\anaconda3\\envs\\progLab\\lib\\site-packages\\IPython\\core\\interactiveshell.py\", line 2067, in showtraceback\n",
      "    value, tb, tb_offset=tb_offset)\n",
      "  File \"C:\\Users\\bramh\\anaconda3\\envs\\progLab\\lib\\site-packages\\IPython\\core\\ultratb.py\", line 1368, in structured_traceback\n",
      "    self, etype, value, tb, tb_offset, number_of_lines_of_context)\n",
      "  File \"C:\\Users\\bramh\\anaconda3\\envs\\progLab\\lib\\site-packages\\IPython\\core\\ultratb.py\", line 1268, in structured_traceback\n",
      "    self, etype, value, tb, tb_offset, number_of_lines_of_context\n",
      "  File \"C:\\Users\\bramh\\anaconda3\\envs\\progLab\\lib\\site-packages\\IPython\\core\\ultratb.py\", line 1143, in structured_traceback\n",
      "    chained_exceptions_tb_offset)\n",
      "  File \"C:\\Users\\bramh\\anaconda3\\envs\\progLab\\lib\\site-packages\\IPython\\core\\ultratb.py\", line 1082, in format_exception_as_a_whole\n",
      "    last_unique, recursion_repeat = find_recursion(orig_etype, evalue, records)\n",
      "  File \"C:\\Users\\bramh\\anaconda3\\envs\\progLab\\lib\\site-packages\\IPython\\core\\ultratb.py\", line 382, in find_recursion\n",
      "    return len(records), 0\n",
      "TypeError: object of type 'NoneType' has no len()\n",
      "\n",
      "During handling of the above exception, another exception occurred:\n",
      "\n",
      "Traceback (most recent call last):\n",
      "  File \"C:\\Users\\bramh\\anaconda3\\envs\\progLab\\lib\\site-packages\\IPython\\core\\interactiveshell.py\", line 2064, in showtraceback\n",
      "    stb = value._render_traceback_()\n",
      "AttributeError: 'TypeError' object has no attribute '_render_traceback_'\n",
      "\n",
      "During handling of the above exception, another exception occurred:\n",
      "\n",
      "Traceback (most recent call last):\n",
      "  File \"C:\\Users\\bramh\\anaconda3\\envs\\progLab\\lib\\site-packages\\IPython\\core\\ultratb.py\", line 1101, in get_records\n",
      "    return _fixed_getinnerframes(etb, number_of_lines_of_context, tb_offset)\n",
      "  File \"C:\\Users\\bramh\\anaconda3\\envs\\progLab\\lib\\site-packages\\IPython\\core\\ultratb.py\", line 248, in wrapped\n",
      "    return f(*args, **kwargs)\n",
      "  File \"C:\\Users\\bramh\\anaconda3\\envs\\progLab\\lib\\site-packages\\IPython\\core\\ultratb.py\", line 281, in _fixed_getinnerframes\n",
      "    records = fix_frame_records_filenames(inspect.getinnerframes(etb, context))\n",
      "  File \"C:\\Users\\bramh\\anaconda3\\envs\\progLab\\lib\\inspect.py\", line 1502, in getinnerframes\n",
      "    frameinfo = (tb.tb_frame,) + getframeinfo(tb, context)\n",
      "  File \"C:\\Users\\bramh\\anaconda3\\envs\\progLab\\lib\\inspect.py\", line 1460, in getframeinfo\n",
      "    filename = getsourcefile(frame) or getfile(frame)\n",
      "  File \"C:\\Users\\bramh\\anaconda3\\envs\\progLab\\lib\\inspect.py\", line 696, in getsourcefile\n",
      "    if getattr(getmodule(object, filename), '__loader__', None) is not None:\n",
      "  File \"C:\\Users\\bramh\\anaconda3\\envs\\progLab\\lib\\inspect.py\", line 733, in getmodule\n",
      "    if ismodule(module) and hasattr(module, '__file__'):\n",
      "  File \"C:\\Users\\bramh\\anaconda3\\envs\\progLab\\lib\\site-packages\\tensorflow\\__init__.py\", line 50, in __getattr__\n",
      "    module = self._load()\n",
      "  File \"C:\\Users\\bramh\\anaconda3\\envs\\progLab\\lib\\site-packages\\tensorflow\\__init__.py\", line 44, in _load\n",
      "    module = _importlib.import_module(self.__name__)\n",
      "  File \"C:\\Users\\bramh\\anaconda3\\envs\\progLab\\lib\\importlib\\__init__.py\", line 127, in import_module\n",
      "    return _bootstrap._gcd_import(name[level:], package, level)\n",
      "  File \"<frozen importlib._bootstrap>\", line 1006, in _gcd_import\n",
      "  File \"<frozen importlib._bootstrap>\", line 983, in _find_and_load\n",
      "  File \"<frozen importlib._bootstrap>\", line 965, in _find_and_load_unlocked\n",
      "ModuleNotFoundError: No module named 'tensorflow_core.estimator'\n"
     ]
    }
   ],
   "source": [
    "first_layer_filters = 32\n",
    "second_layer_filters = 64\n",
    "third_layer_filters = 128\n",
    "fourth_layer_filters = 256\n",
    "\n",
    "kernelsize = (3,3)\n",
    "inputshape = (32,32, 1)\n",
    "first_hidden_layer_nodes = 256\n",
    "second_hidden_layer_nodes = 128\n",
    "output_nodes = 121\n",
    "# optimizer = 'adam'\n",
    "optimizer = tf.keras.optimizers.Adam(lr=0.00001)\n",
    "\n",
    "model_1 = models.Sequential()\n",
    "\n",
    "model_1.add(layers.Conv2D(first_layer_filters, kernelsize, activation = layers.LeakyReLU(alpha=0.1), padding = 'same', input_shape = inputshape))\n",
    "model_1.add(layers.Conv2D(first_layer_filters, kernelsize, activation = layers.LeakyReLU(alpha=0.1), padding = 'same'))\n",
    "model_1.add(layers.MaxPooling2D((2, 2)))\n",
    "\n",
    "\n",
    "model_1.add(layers.Conv2D(second_layer_filters, kernelsize, activation = layers.LeakyReLU(alpha=0.1), padding = 'same'))\n",
    "model_1.add(layers.Conv2D(second_layer_filters, kernelsize, activation = layers.LeakyReLU(alpha=0.1), padding = 'same'))\n",
    "model_1.add(layers.MaxPooling2D((2, 2)))\n",
    "\n",
    "\n",
    "model_1.add(layers.Conv2D(third_layer_filters, kernelsize, activation = layers.LeakyReLU(alpha=0.1), padding = 'same'))\n",
    "model_1.add(layers.Conv2D(third_layer_filters, kernelsize, activation = layers.LeakyReLU(alpha=0.1), padding = 'same'))\n",
    "model_1.add(layers.MaxPooling2D((2, 2)))\n",
    "\n",
    "\n",
    "model_1.add(layers.Conv2D(fourth_layer_filters, kernelsize, activation = layers.LeakyReLU(alpha=0.1), padding = 'same'))\n",
    "model_1.add(layers.Conv2D(fourth_layer_filters, kernelsize, activation = layers.LeakyReLU(alpha=0.1), padding = 'same'))\n",
    "model_1.add(layers.MaxPooling2D((2, 2)))\n",
    "\n",
    "\n",
    "model_1.add(layers.Flatten())\n",
    "\n",
    "model_1.add(layers.Dense(first_hidden_layer_nodes, activation = layers.LeakyReLU(alpha=0.1)))\n",
    "model_1.add(layers.Dropout(0.15))\n",
    "model_1.add(layers.Dense(second_hidden_layer_nodes, activation = layers.LeakyReLU(alpha=0.1)))\n",
    "model_1.add(layers.Dropout(0.15))\n",
    "model_1.add(layers.Dense(output_nodes, activation = 'softmax'))\n",
    "\n",
    "\n",
    "train_and_evaluate(model_1, image_train, label_train, image_val, label_val, epochs = 40, augment = {'horizontal_flip':  True, 'vertical_flip': True, 'rotation_range': 0.15, 'zoom_range': 0.15})"
   ]
  },
  {
   "cell_type": "code",
   "execution_count": null,
   "id": "f8ace847",
   "metadata": {},
   "outputs": [],
   "source": [
    "model_1.summary()"
   ]
  },
  {
   "cell_type": "markdown",
   "id": "d91dae72",
   "metadata": {},
   "source": [
    "https://machinelearningmastery.com/how-to-implement-major-architecture-innovations-for-convolutional-neural-networks/"
   ]
  },
  {
   "cell_type": "code",
   "execution_count": null,
   "id": "38b7070c",
   "metadata": {},
   "outputs": [],
   "source": []
  }
 ],
 "metadata": {
  "colab": {
   "name": "Plankton.ipynb",
   "provenance": []
  },
  "kernelspec": {
   "display_name": "Python 3 (ipykernel)",
   "language": "python",
   "name": "python3"
  },
  "language_info": {
   "codemirror_mode": {
    "name": "ipython",
    "version": 3
   },
   "file_extension": ".py",
   "mimetype": "text/x-python",
   "name": "python",
   "nbconvert_exporter": "python",
   "pygments_lexer": "ipython3",
   "version": "3.7.11"
  }
 },
 "nbformat": 4,
 "nbformat_minor": 5
}
