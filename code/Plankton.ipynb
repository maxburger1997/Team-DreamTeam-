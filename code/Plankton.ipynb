{
 "cells": [
  {
   "cell_type": "markdown",
   "id": "fb144121",
   "metadata": {},
   "source": [
    "# Plankton\n"
   ]
  },
  {
   "cell_type": "code",
   "execution_count": 28,
   "id": "ccc8cd45",
   "metadata": {},
   "outputs": [
    {
     "name": "stdout",
     "output_type": "stream",
     "text": [
      "[PhysicalDevice(name='/physical_device:GPU:0', device_type='GPU')]\n"
     ]
    }
   ],
   "source": [
    "import tensorflow as tf\n",
    "import cv2\n",
    "import os\n",
    "import matplotlib.pyplot as plt\n",
    "\n",
    "print(tf.config.list_physical_devices('GPU'))"
   ]
  },
  {
   "cell_type": "markdown",
   "id": "1f406387",
   "metadata": {},
   "source": [
    "Link naar waar ik code hieronder vandaan heb\n",
    "https://drive.google.com/file/d/1hAaPzDMVEZ8X1tfRS2ieFEqi0R7Ww7uL/view\n",
    "\n",
    "https://stackoverflow.com/questions/30230592/loading-all-images-using-imread-from-a-given-folder"
   ]
  },
  {
   "cell_type": "code",
   "execution_count": 29,
   "id": "ac59c106",
   "metadata": {},
   "outputs": [],
   "source": [
    "test_data = []\n",
    "folder_test = 'data/test'\n",
    "\n",
    "for filename in os.listdir(folder_test):\n",
    "    img = cv2.imread(os.path.join(folder_test, filename))\n",
    "    test_data.append(img)\n"
   ]
  },
  {
   "cell_type": "code",
   "execution_count": 30,
   "id": "024ae544",
   "metadata": {},
   "outputs": [],
   "source": [
    "train_data = []\n",
    "train_labels_not_categorical = []\n",
    "\n",
    "folder_train = 'data/train'\n",
    "\n",
    "for number, categories in enumerate(os.listdir(folder_train)):\n",
    "    for filename in os.listdir(f'data/train/{categories}'):\n",
    "        train_labels_not_categorical.append(number)\n",
    "        img = cv2.imread(os.path.join(f'data/train/{categories}', filename))\n",
    "        train_data.append(img)\n",
    "\n",
    "train_labels = tf.keras.utils.to_categorical(train_labels)"
   ]
  }
 ],
 "metadata": {
  "kernelspec": {
   "display_name": "Python 3 (ipykernel)",
   "language": "python",
   "name": "python3"
  },
  "language_info": {
   "codemirror_mode": {
    "name": "ipython",
    "version": 3
   },
   "file_extension": ".py",
   "mimetype": "text/x-python",
   "name": "python",
   "nbconvert_exporter": "python",
   "pygments_lexer": "ipython3",
   "version": "3.7.11"
  }
 },
 "nbformat": 4,
 "nbformat_minor": 5
}
