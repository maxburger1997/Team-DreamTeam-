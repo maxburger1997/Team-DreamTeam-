{
 "cells": [
  {
   "cell_type": "markdown",
   "id": "e2a4f57f",
   "metadata": {},
   "source": [
    "# Machine Learning Project 2022: Plankton\n",
    "\n",
    "### Authors:\n",
    "- Bram Fresen\n",
    "- Bram Huis\n",
    "- Max Burger\n",
    "- Moos Middelkoop\n",
    "\n",
    "For the Machine Learning Project to finish off the minor Artificial Intelligence, we chose to tackle the plankton problem, originally uploaded as the United States national data science bowl in december 2014. For this problem, the goal is to classify microscopic images of particles in water as one of 121 different classes of plankton. The dataset is 30.000 images large, with varying sizes. The dataset is also imbalanced.\n",
    "\n",
    "In order to solve this problem we will make use of a Convolutional Neural Network using the tensorflow library."
   ]
  },
  {
   "cell_type": "markdown",
   "id": "fb144121",
   "metadata": {},
   "source": [
    "## Import libraries\n",
    "\n",
    "Firstly, we will import the needed libraries, and check if we are running on a GPU."
   ]
  },
  {
   "cell_type": "code",
   "execution_count": 1,
   "id": "ccc8cd45",
   "metadata": {},
   "outputs": [
    {
     "name": "stdout",
     "output_type": "stream",
     "text": [
      "[PhysicalDevice(name='/physical_device:GPU:0', device_type='GPU')]\n"
     ]
    }
   ],
   "source": [
    "import tensorflow as tf\n",
    "import numpy as np\n",
    "import cv2\n",
    "import os\n",
    "import random\n",
    "import matplotlib.pyplot as plt\n",
    "import math\n",
    "\n",
    "from PIL import Image\n",
    "from tensorflow.keras import layers, models, preprocessing\n",
    "from sklearn.model_selection import train_test_split\n",
    "\n",
    "print(tf.config.list_physical_devices('GPU'))"
   ]
  },
  {
   "cell_type": "markdown",
   "id": "0d80ec50",
   "metadata": {},
   "source": [
    "## Loading the training data, training labels and test data\n",
    "\n",
    "We use the cv2 library to load the training images (which are .jpg files), and turn them into arrays. This piece of code was found online:\n",
    "\n",
    "https://stackoverflow.com/questions/30230592/loading-all-images-using-imread-from-a-given-folder\n",
    "https://drive.google.com/file/d/1hAaPzDMVEZ8X1tfRS2ieFEqi0R7Ww7uL/view"
   ]
  },
  {
   "cell_type": "markdown",
   "id": "0eaee28b",
   "metadata": {},
   "source": [
    "### Test data\n",
    "\n",
    "The test data is unlabeled, so we can't use it for our own training, we can only try to predict the classes and submit our solution to kaggle to see how we did. We will probably not use this data much"
   ]
  },
  {
   "cell_type": "code",
   "execution_count": null,
   "id": "8c6bcd22",
   "metadata": {},
   "outputs": [],
   "source": [
    "# Create an empty list for the test data\n",
    "test_data = []\n",
    "\n",
    "# Path to folder for the test data\n",
    "folder_test = 'data/test'\n",
    "\n",
    "# Loop through the images, read them in and add them to a list\n",
    "for image in os.listdir(folder_test):\n",
    "    img = cv2.imread(os.path.join(folder_test, image))\n",
    "    test_data.append(img)"
   ]
  },
  {
   "cell_type": "markdown",
   "id": "c851be41",
   "metadata": {},
   "source": [
    "### Training data"
   ]
  },
  {
   "cell_type": "code",
   "execution_count": 3,
   "id": "024ae544",
   "metadata": {},
   "outputs": [],
   "source": [
    "# Create empty lists for the not resized training data and then labels (not one hot encoded yet)\n",
    "train_data = []\n",
    "train_labels = []\n",
    "\n",
    "# Create a folder path of the different categories\n",
    "folder_train = 'data/train'\n",
    "\n",
    "# Loop through the index (for the one hot matrix) and the categories\n",
    "for number, categories in enumerate(os.listdir(folder_train)):\n",
    "    \n",
    "    # Loop through the images , read them in and add them to a list, also add the index 'number' to \n",
    "    # a list for the one hot matrix\n",
    "    for image in os.listdir(f'data/train/{categories}'):\n",
    "        train_labels.append(number)\n",
    "        img = cv2.imread(os.path.join(f'data/train/{categories}', image))\n",
    "        train_data.append(img)\n",
    "\n",
    "# Create a one hot matrix from the train labels\n",
    "train_labels_one_hot = tf.keras.utils.to_categorical(train_labels)"
   ]
  },
  {
   "cell_type": "markdown",
   "id": "1d7d208c",
   "metadata": {},
   "source": [
    "# Resize input images"
   ]
  },
  {
   "cell_type": "code",
   "execution_count": 22,
   "id": "5838d255",
   "metadata": {},
   "outputs": [
    {
     "name": "stdout",
     "output_type": "stream",
     "text": [
      "Average dimensions: 66.66182093881856, 73.50728507383967\n",
      "Lowest first dimension image (21, 71, 3)\n",
      "Lowest second dimension image (31, 49, 3)\n"
     ]
    },
    {
     "data": {
      "image/png": "[encoded data removed]",
      "text/plain": [
       "<Figure size 432x288 with 1 Axes>"
      ]
     },
     "metadata": {
      "needs_background": "light"
     },
     "output_type": "display_data"
    }
   ],
   "source": [
    "# Start with an infinitely large number\n",
    "value_1 = math.inf\n",
    "value_2 = math.inf\n",
    "sum_1 = 0\n",
    "sum_2 = 0\n",
    "count = 0\n",
    "\n",
    "# This checks for the lowest image size in the first and second dimension\n",
    "for image in train_data:\n",
    "    count+=1\n",
    "    sum_1 += image.shape[0]\n",
    "    sum_2 += image.shape[1]\n",
    "    if image.shape[0] < value_1:\n",
    "        \n",
    "        value_1 = image.shape[0]\n",
    "        hold_1 = image.shape\n",
    "    if image.shape[1] < value_2:\n",
    "        \n",
    "        value_2 = image.shape[0]\n",
    "        hold_2 = image.shape\n",
    "        \n",
    "sum_11 = sum_1 / count\n",
    "sum_22 = sum_2 / count\n",
    "\n",
    "print(f'Average dimensions: {sum_11}, {sum_22}')\n",
    "\n",
    "plt.imshow(train_data[0])\n",
    "\n",
    "print(f'Lowest first dimension image {hold_1}')\n",
    "print(f'Lowest second dimension image {hold_2}')"
   ]
  },
  {
   "cell_type": "code",
   "execution_count": 17,
   "id": "ff1a2aa4",
   "metadata": {},
   "outputs": [
    {
     "name": "stdout",
     "output_type": "stream",
     "text": [
      "(28, 28, 3)\n"
     ]
    },
    {
     "data": {
      "image/png": "[encoded data removed]",
      "text/plain": [
       "<Figure size 432x288 with 1 Axes>"
      ]
     },
     "metadata": {
      "needs_background": "light"
     },
     "output_type": "display_data"
    }
   ],
   "source": [
    "# Create an empty list for the training data\n",
    "train_data_resized = []\n",
    "\n",
    "# Loop through the images in the training data and resize them to the lowest shape in the dataset, \n",
    "# then append the image to the 'train_data_resized' list\n",
    "for image in train_data:\n",
    "    img = cv2.resize(image, (28, 28))\n",
    "    train_data_resized.append(img)\n",
    "\n",
    "# Test if the image is resized and show the image\n",
    "print(train_data_resized[0].shape)\n",
    "plt.imshow(train_data_resized[0])\n",
    "\n",
    "#Split the data into 70% training and 30% validation\n",
    "im_train, im_val, lab_train, lab_val = train_test_split(train_data_resized, train_labels_one_hot, train_size=0.7, random_state=1265599650)"
   ]
  },
  {
   "cell_type": "code",
   "execution_count": 18,
   "id": "9cddaa21",
   "metadata": {},
   "outputs": [
    {
     "name": "stdout",
     "output_type": "stream",
     "text": [
      "(21235, 28, 28, 3)\n",
      "(21235, 121)\n",
      "(9101, 28, 28, 3)\n",
      "(9101, 121)\n"
     ]
    }
   ],
   "source": [
    "# Convert the data to numpy arrays, so tensorflow can use them\n",
    "image_train = np.array(im_train)\n",
    "label_train = np.array(lab_train)\n",
    "image_val = np.array(im_val)\n",
    "label_val = np.array(lab_val)\n",
    "\n",
    "# Test if the shapes are correct\n",
    "print(image_train.shape)\n",
    "print(label_train.shape)\n",
    "print(image_val.shape)\n",
    "print(label_val.shape)"
   ]
  },
  {
   "cell_type": "markdown",
   "id": "15024880",
   "metadata": {},
   "source": [
    "## Convolutional network\n",
    "\n",
    "We use the function 'train_and_evaluate' which, obviously, trains our model and then evaluates the trained model on the validation data. This function was reused from the CIFAR-assignment from module 6 of ML2."
   ]
  },
  {
   "cell_type": "code",
   "execution_count": 19,
   "id": "3b49593d",
   "metadata": {},
   "outputs": [],
   "source": [
    "def train_and_evaluate(model, train_x, train_y, val_x, val_y, preprocess={}, epochs=20, augment={}):\n",
    "    \n",
    "    model.compile(loss='categorical_crossentropy', optimizer='adam', metrics=['accuracy'])\n",
    "\n",
    "    train_gen = preprocessing.image.ImageDataGenerator(**preprocess, **augment)\n",
    "    train_gen.fit(train_x) \n",
    "\n",
    "    val_gen = preprocessing.image.ImageDataGenerator(**preprocess)\n",
    "    val_gen.fit(train_x)\n",
    "\n",
    "    history = model.fit(train_gen.flow(train_x, train_y), epochs=epochs, \n",
    "                        validation_data=val_gen.flow(val_x, val_y))\n",
    "\n",
    "    fig, axs = plt.subplots(1,2,figsize=(20,5)) \n",
    "\n",
    "    for i, metric in enumerate(['loss', 'accuracy']):\n",
    "        axs[i].plot(history.history[metric])\n",
    "        axs[i].plot(history.history['val_'+metric])\n",
    "        axs[i].legend(['training', 'validation'], loc='best')\n",
    "\n",
    "        axs[i].set_title('Model '+metric)\n",
    "        axs[i].set_ylabel(metric)\n",
    "        axs[i].set_xlabel('epoch')\n",
    "\n",
    "    plt.show()\n",
    "\n",
    "    print(f\"Validation Accuracy: {model.evaluate(val_gen.flow(val_x, val_y))[1]}\")"
   ]
  },
  {
   "cell_type": "markdown",
   "id": "3c2820be",
   "metadata": {},
   "source": [
    "## The actual model\n",
    "\n",
    "We start with a very simple convolutional neural network, with 2 convolutional layers, both with pooling afterwards, and one dense layer. kernelsize, amount of filters, amount of nodes are specified in the code cell."
   ]
  },
  {
   "cell_type": "code",
   "execution_count": 20,
   "id": "54f63f17",
   "metadata": {},
   "outputs": [
    {
     "name": "stdout",
     "output_type": "stream",
     "text": [
      "ERROR! Session/line number was not unique in database. History logging moved to new session 573\n",
      "WARNING:tensorflow:sample_weight modes were coerced from\n",
      "  ...\n",
      "    to  \n",
      "  ['...']\n"
     ]
    },
    {
     "name": "stderr",
     "output_type": "stream",
     "text": [
      "WARNING:tensorflow:sample_weight modes were coerced from\n",
      "  ...\n",
      "    to  \n",
      "  ['...']\n"
     ]
    },
    {
     "name": "stdout",
     "output_type": "stream",
     "text": [
      "WARNING:tensorflow:sample_weight modes were coerced from\n",
      "  ...\n",
      "    to  \n",
      "  ['...']\n"
     ]
    },
    {
     "name": "stderr",
     "output_type": "stream",
     "text": [
      "WARNING:tensorflow:sample_weight modes were coerced from\n",
      "  ...\n",
      "    to  \n",
      "  ['...']\n"
     ]
    },
    {
     "name": "stdout",
     "output_type": "stream",
     "text": [
      "Train for 664 steps, validate for 285 steps\n",
      "Epoch 1/20\n",
      "664/664 [==============================] - 3s 5ms/step - loss: 4.3906 - accuracy: 0.2478 - val_loss: 2.5467 - val_accuracy: 0.3491\n",
      "Epoch 2/20\n",
      "664/664 [==============================] - 2s 3ms/step - loss: 2.3205 - accuracy: 0.3899 - val_loss: 2.2715 - val_accuracy: 0.4045\n",
      "Epoch 3/20\n",
      "664/664 [==============================] - 2s 4ms/step - loss: 2.0469 - accuracy: 0.4492 - val_loss: 2.1091 - val_accuracy: 0.4426\n",
      "Epoch 4/20\n",
      "664/664 [==============================] - 2s 3ms/step - loss: 1.8583 - accuracy: 0.4852 - val_loss: 2.0216 - val_accuracy: 0.4672\n",
      "Epoch 5/20\n",
      "664/664 [==============================] - 2s 3ms/step - loss: 1.7347 - accuracy: 0.5102 - val_loss: 2.0064 - val_accuracy: 0.4730\n",
      "Epoch 6/20\n",
      "664/664 [==============================] - 2s 3ms/step - loss: 1.6155 - accuracy: 0.5378 - val_loss: 1.9555 - val_accuracy: 0.5004\n",
      "Epoch 7/20\n",
      "664/664 [==============================] - 2s 3ms/step - loss: 1.5115 - accuracy: 0.5644 - val_loss: 2.0091 - val_accuracy: 0.4792\n",
      "Epoch 8/20\n",
      "664/664 [==============================] - 2s 3ms/step - loss: 1.4417 - accuracy: 0.5759 - val_loss: 1.9945 - val_accuracy: 0.5014\n",
      "Epoch 9/20\n",
      "664/664 [==============================] - 2s 3ms/step - loss: 1.3651 - accuracy: 0.5937 - val_loss: 2.0737 - val_accuracy: 0.4969\n",
      "Epoch 10/20\n",
      "664/664 [==============================] - 2s 3ms/step - loss: 1.3037 - accuracy: 0.6101 - val_loss: 2.1261 - val_accuracy: 0.4946\n",
      "Epoch 11/20\n",
      "664/664 [==============================] - 2s 4ms/step - loss: 1.2311 - accuracy: 0.6269 - val_loss: 2.1830 - val_accuracy: 0.4829\n",
      "Epoch 12/20\n",
      "664/664 [==============================] - 2s 4ms/step - loss: 1.1721 - accuracy: 0.6419 - val_loss: 2.2474 - val_accuracy: 0.4868\n",
      "Epoch 13/20\n",
      "664/664 [==============================] - 2s 3ms/step - loss: 1.1117 - accuracy: 0.6589 - val_loss: 2.5639 - val_accuracy: 0.4771\n",
      "Epoch 14/20\n",
      "664/664 [==============================] - 2s 3ms/step - loss: 1.0599 - accuracy: 0.6740 - val_loss: 2.5144 - val_accuracy: 0.5032\n",
      "Epoch 15/20\n",
      "664/664 [==============================] - 2s 3ms/step - loss: 1.0077 - accuracy: 0.6889 - val_loss: 2.7806 - val_accuracy: 0.4803\n",
      "Epoch 16/20\n",
      "664/664 [==============================] - 2s 3ms/step - loss: 0.9389 - accuracy: 0.7052 - val_loss: 2.6875 - val_accuracy: 0.4988\n",
      "Epoch 17/20\n",
      "664/664 [==============================] - 2s 3ms/step - loss: 0.9037 - accuracy: 0.7206 - val_loss: 2.6574 - val_accuracy: 0.5028\n",
      "Epoch 18/20\n",
      "664/664 [==============================] - 2s 3ms/step - loss: 0.8940 - accuracy: 0.7172 - val_loss: 3.0539 - val_accuracy: 0.4959\n",
      "Epoch 19/20\n",
      "664/664 [==============================] - 2s 3ms/step - loss: 0.8217 - accuracy: 0.7389 - val_loss: 3.3815 - val_accuracy: 0.4914\n",
      "Epoch 20/20\n",
      "664/664 [==============================] - 2s 3ms/step - loss: 0.7976 - accuracy: 0.7472 - val_loss: 3.3123 - val_accuracy: 0.4785\n"
     ]
    },
    {
     "data": {
      "image/png": "[encoded data removed]",
      "text/plain": [
       "<Figure size 1440x360 with 2 Axes>"
      ]
     },
     "metadata": {
      "needs_background": "light"
     },
     "output_type": "display_data"
    },
    {
     "name": "stdout",
     "output_type": "stream",
     "text": [
      "WARNING:tensorflow:sample_weight modes were coerced from\n",
      "  ...\n",
      "    to  \n",
      "  ['...']\n"
     ]
    },
    {
     "name": "stderr",
     "output_type": "stream",
     "text": [
      "WARNING:tensorflow:sample_weight modes were coerced from\n",
      "  ...\n",
      "    to  \n",
      "  ['...']\n"
     ]
    },
    {
     "name": "stdout",
     "output_type": "stream",
     "text": [
      "285/285 [==============================] - 0s 2ms/step - loss: 3.3131 - accuracy: 0.4785\n",
      "Validation Accuracy: 0.47851884365081787\n"
     ]
    }
   ],
   "source": [
    "first_layer_filters = 32\n",
    "second_layer_filters = 64\n",
    "kernelsize = (3,3)\n",
    "inputshape = (28,28,3)\n",
    "first_hidden_layer_nodes = 128\n",
    "output_nodes = 121\n",
    "\n",
    "model_1 = models.Sequential()\n",
    "\n",
    "model_1.add(layers.Conv2D(first_layer_filters, kernelsize, activation = 'relu', padding = 'same', input_shape = inputshape))\n",
    "model_1.add(layers.MaxPooling2D((2, 2)))\n",
    "model_1.add(layers.Conv2D(second_layer_filters, kernelsize, activation = 'relu', padding = 'same', input_shape = inputshape))\n",
    "model_1.add(layers.MaxPooling2D((2, 2)))\n",
    "\n",
    "model_1.add(layers.Flatten())\n",
    "model_1.add(layers.Dense(first_hidden_layer_nodes, activation = 'relu'))\n",
    "model_1.add(layers.Dense(output_nodes, activation = 'softmax'))\n",
    "\n",
    "train_and_evaluate(model_1, image_train, label_train, image_val, label_val, epochs = 20)"
   ]
  },
  {
   "cell_type": "code",
   "execution_count": null,
   "id": "fc7d7c81",
   "metadata": {},
   "outputs": [],
   "source": []
  }
 ],
 "metadata": {
  "kernelspec": {
   "display_name": "Python 3 (ipykernel)",
   "language": "python",
   "name": "python3"
  },
  "language_info": {
   "codemirror_mode": {
    "name": "ipython",
    "version": 3
   },
   "file_extension": ".py",
   "mimetype": "text/x-python",
   "name": "python",
   "nbconvert_exporter": "python",
   "pygments_lexer": "ipython3",
   "version": "3.7.11"
  }
 },
 "nbformat": 4,
 "nbformat_minor": 5
}
