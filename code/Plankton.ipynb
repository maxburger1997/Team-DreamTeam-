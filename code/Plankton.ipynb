{
 "cells": [
  {
   "cell_type": "markdown",
   "id": "fb144121",
   "metadata": {},
   "source": [
    "# Plankton\n"
   ]
  },
  {
   "cell_type": "code",
   "execution_count": 1,
   "id": "ccc8cd45",
   "metadata": {},
   "outputs": [
    {
     "name": "stdout",
     "output_type": "stream",
     "text": [
      "[PhysicalDevice(name='/physical_device:GPU:0', device_type='GPU')]\n"
     ]
    }
   ],
   "source": [
    "import tensorflow as tf\n",
    "import numpy as np\n",
    "import cv2\n",
    "import os\n",
    "import matplotlib.pyplot as plt\n",
    "import math\n",
    "\n",
    "from PIL import Image\n",
    "from tensorflow.keras import layers, models, preprocessing\n",
    "from sklearn.model_selection import train_test_split\n",
    "\n",
    "print(tf.config.list_physical_devices('GPU'))"
   ]
  },
  {
   "cell_type": "markdown",
   "id": "1f406387",
   "metadata": {},
   "source": [
    "Link naar waar ik code hieronder vandaan heb\n",
    "https://drive.google.com/file/d/1hAaPzDMVEZ8X1tfRS2ieFEqi0R7Ww7uL/view\n",
    "\n",
    "https://stackoverflow.com/questions/30230592/loading-all-images-using-imread-from-a-given-folder"
   ]
  },
  {
   "cell_type": "markdown",
   "id": "0eaee28b",
   "metadata": {},
   "source": [
    "# Loading the training data, training labels and test data"
   ]
  },
  {
   "cell_type": "code",
   "execution_count": 2,
   "id": "ac59c106",
   "metadata": {},
   "outputs": [],
   "source": [
    "# Create an empty list for the test data\n",
    "test_data = []\n",
    "\n",
    "# Path to folder for the test data\n",
    "folder_test = 'data/test'\n",
    "\n",
    "# Loop through the images, read them in and add them to a list\n",
    "for image in os.listdir(folder_test):\n",
    "    img = cv2.imread(os.path.join(folder_test, image))\n",
    "    test_data.append(img)"
   ]
  },
  {
   "cell_type": "code",
   "execution_count": 3,
   "id": "024ae544",
   "metadata": {},
   "outputs": [],
   "source": [
    "# Create empty lists for the not resized training data and then non one hot matrix labels\n",
    "train_data_not_resized = []\n",
    "train_labels_not_categorical = []\n",
    "\n",
    "# Create a folder path of the different categories\n",
    "folder_train = 'data/train'\n",
    "\n",
    "# Loop through the index (for the one hot matrix) and the categories\n",
    "for number, categories in enumerate(os.listdir(folder_train)):\n",
    "    \n",
    "    # Loop through the images , read them in and add them to a list, also add the index 'number' to \n",
    "    # a list for the one hot matrix\n",
    "    for image in os.listdir(f'data/train/{categories}'):\n",
    "        train_labels_not_categorical.append(number)\n",
    "        img = cv2.imread(os.path.join(f'data/train/{categories}', image))\n",
    "        train_data_not_resized.append(img)\n",
    "\n",
    "# Create a one hot matrix from the train labels\n",
    "train_labels = tf.keras.utils.to_categorical(train_labels_not_categorical)"
   ]
  },
  {
   "cell_type": "markdown",
   "id": "1d7d208c",
   "metadata": {},
   "source": [
    "# Resize input images"
   ]
  },
  {
   "cell_type": "code",
   "execution_count": 4,
   "id": "5838d255",
   "metadata": {},
   "outputs": [
    {
     "name": "stdout",
     "output_type": "stream",
     "text": [
      "(33, 43, 3)\n",
      "(33, 43, 3)\n"
     ]
    }
   ],
   "source": [
    "# Start with an infinitely large number\n",
    "value = math.inf\n",
    "\n",
    "# This checks for the lowest image size in the first and second dimension\n",
    "# Both come out at the exact same shape, so this must me the smallest shape\n",
    "for image in train_data_not_resized:\n",
    "    if image.shape[0] < value:\n",
    "        hold_1 = image.shape\n",
    "    if image.shape[1] < value:\n",
    "        hold_2 = image.shape\n",
    "    \n",
    "    \n",
    "print(hold_1)\n",
    "print(hold_2)"
   ]
  },
  {
   "cell_type": "code",
   "execution_count": 5,
   "id": "ff1a2aa4",
   "metadata": {},
   "outputs": [
    {
     "name": "stdout",
     "output_type": "stream",
     "text": [
      "(33, 43, 3)\n"
     ]
    },
    {
     "data": {
      "image/png": "[encoded data removed]",
      "text/plain": [
       "<Figure size 432x288 with 1 Axes>"
      ]
     },
     "metadata": {
      "needs_background": "light"
     },
     "output_type": "display_data"
    }
   ],
   "source": [
    "# Create an empty list for the training data\n",
    "train_data = []\n",
    "\n",
    "# Loop through the images in the training data and resize them to the lowest shape in the dataset, \n",
    "# then append the image to the 'train_data' list\n",
    "for image in train_data_not_resized:\n",
    "    img = cv2.resize(image, (43, 33))\n",
    "    train_data.append(img)\n",
    "\n",
    "# Test if the image is resized and show the image\n",
    "print(train_data[0].shape)\n",
    "plt.imshow(train_data[0])\n",
    "\n",
    "#Split the data into 70% training and 30% validation\n",
    "image_train, image_val, label_train, label_val = train_test_split(train_data, train_labels, train_size=0.7, random_state=1265599650)"
   ]
  },
  {
   "cell_type": "code",
   "execution_count": 7,
   "id": "9cddaa21",
   "metadata": {},
   "outputs": [
    {
     "name": "stdout",
     "output_type": "stream",
     "text": [
      "ERROR! Session/line number was not unique in database. History logging moved to new session 557\n",
      "(21235, 33, 43, 3)\n",
      "(21235, 121)\n",
      "(9101, 33, 43, 3)\n",
      "(9101, 121)\n"
     ]
    }
   ],
   "source": [
    "# Convert the data to numpy arrays, so tensorflow can use them\n",
    "image_train = np.array(image_train)\n",
    "label_train = np.array(label_train)\n",
    "image_val = np.array(image_val)\n",
    "label_val = np.array(label_val)\n",
    "\n",
    "# Test if the shapes are correct\n",
    "print(image_train.shape)\n",
    "print(label_train.shape)\n",
    "print(image_val.shape)\n",
    "print(label_val.shape)"
   ]
  },
  {
   "cell_type": "markdown",
   "id": "15024880",
   "metadata": {},
   "source": [
    "# Convolutional network"
   ]
  },
  {
   "cell_type": "code",
   "execution_count": 8,
   "id": "3b49593d",
   "metadata": {},
   "outputs": [],
   "source": [
    "def train_and_evaluate(model, train_x, train_y, val_x, val_y, preprocess={}, epochs=20, augment={}):\n",
    "\n",
    "    model.compile(loss='categorical_crossentropy', optimizer='adam', metrics=['accuracy'])\n",
    "\n",
    "    train_gen = preprocessing.image.ImageDataGenerator(**preprocess, **augment)\n",
    "    train_gen.fit(train_x) \n",
    "\n",
    "    val_gen = preprocessing.image.ImageDataGenerator(**preprocess)\n",
    "    val_gen.fit(train_x)\n",
    "\n",
    "    history = model.fit(train_gen.flow(train_x, train_y), epochs=epochs, \n",
    "                        validation_data=val_gen.flow(val_x, val_y))\n",
    "\n",
    "    fig, axs = plt.subplots(1,2,figsize=(20,5)) \n",
    "\n",
    "    for i, metric in enumerate(['loss', 'accuracy']):\n",
    "        axs[i].plot(history.history[metric])\n",
    "        axs[i].plot(history.history['val_'+metric])\n",
    "        axs[i].legend(['training', 'validation'], loc='best')\n",
    "\n",
    "        axs[i].set_title('Model '+metric)\n",
    "        axs[i].set_ylabel(metric)\n",
    "        axs[i].set_xlabel('epoch')\n",
    "\n",
    "    plt.show()\n",
    "\n",
    "    print(f\"Validation Accuracy: {model.evaluate(val_gen.flow(val_x, val_y))[1]}\")"
   ]
  },
  {
   "cell_type": "code",
   "execution_count": 9,
   "id": "54f63f17",
   "metadata": {},
   "outputs": [
    {
     "name": "stdout",
     "output_type": "stream",
     "text": [
      "WARNING:tensorflow:sample_weight modes were coerced from\n",
      "  ...\n",
      "    to  \n",
      "  ['...']\n"
     ]
    },
    {
     "name": "stderr",
     "output_type": "stream",
     "text": [
      "WARNING:tensorflow:sample_weight modes were coerced from\n",
      "  ...\n",
      "    to  \n",
      "  ['...']\n"
     ]
    },
    {
     "name": "stdout",
     "output_type": "stream",
     "text": [
      "WARNING:tensorflow:sample_weight modes were coerced from\n",
      "  ...\n",
      "    to  \n",
      "  ['...']\n"
     ]
    },
    {
     "name": "stderr",
     "output_type": "stream",
     "text": [
      "WARNING:tensorflow:sample_weight modes were coerced from\n",
      "  ...\n",
      "    to  \n",
      "  ['...']\n"
     ]
    },
    {
     "name": "stdout",
     "output_type": "stream",
     "text": [
      "Train for 664 steps, validate for 285 steps\n",
      "Epoch 1/10\n",
      "664/664 [==============================] - 9s 14ms/step - loss: 3.8824 - accuracy: 0.2904 - val_loss: 2.4571 - val_accuracy: 0.3894\n",
      "Epoch 2/10\n",
      "664/664 [==============================] - 2s 3ms/step - loss: 2.1691 - accuracy: 0.4350 - val_loss: 2.2341 - val_accuracy: 0.4285\n",
      "Epoch 3/10\n",
      "664/664 [==============================] - 2s 3ms/step - loss: 1.8334 - accuracy: 0.4946 - val_loss: 2.0247 - val_accuracy: 0.4782\n",
      "Epoch 4/10\n",
      "664/664 [==============================] - 2s 3ms/step - loss: 1.6106 - accuracy: 0.5448 - val_loss: 1.9887 - val_accuracy: 0.4761\n",
      "Epoch 5/10\n",
      "664/664 [==============================] - 2s 3ms/step - loss: 1.4304 - accuracy: 0.5833 - val_loss: 2.0111 - val_accuracy: 0.4968\n",
      "Epoch 6/10\n",
      "664/664 [==============================] - 2s 3ms/step - loss: 1.2953 - accuracy: 0.6176 - val_loss: 2.1462 - val_accuracy: 0.4906\n",
      "Epoch 7/10\n",
      "664/664 [==============================] - 2s 3ms/step - loss: 1.1700 - accuracy: 0.6450 - val_loss: 2.2994 - val_accuracy: 0.4877\n",
      "Epoch 8/10\n",
      "664/664 [==============================] - 2s 3ms/step - loss: 1.0477 - accuracy: 0.6796 - val_loss: 2.3177 - val_accuracy: 0.4992\n",
      "Epoch 9/10\n",
      "664/664 [==============================] - 2s 3ms/step - loss: 0.9431 - accuracy: 0.7076 - val_loss: 2.5307 - val_accuracy: 0.4848\n",
      "Epoch 10/10\n",
      "664/664 [==============================] - 2s 3ms/step - loss: 0.8643 - accuracy: 0.7303 - val_loss: 2.7221 - val_accuracy: 0.4817\n"
     ]
    },
    {
     "data": {
      "image/png": "[encoded data removed]",
      "text/plain": [
       "<Figure size 1440x360 with 2 Axes>"
      ]
     },
     "metadata": {
      "needs_background": "light"
     },
     "output_type": "display_data"
    },
    {
     "name": "stdout",
     "output_type": "stream",
     "text": [
      "WARNING:tensorflow:sample_weight modes were coerced from\n",
      "  ...\n",
      "    to  \n",
      "  ['...']\n"
     ]
    },
    {
     "name": "stderr",
     "output_type": "stream",
     "text": [
      "WARNING:tensorflow:sample_weight modes were coerced from\n",
      "  ...\n",
      "    to  \n",
      "  ['...']\n"
     ]
    },
    {
     "name": "stdout",
     "output_type": "stream",
     "text": [
      "285/285 [==============================] - 0s 1ms/step - loss: 2.7208 - accuracy: 0.4817\n",
      "Validation Accuracy: 0.48170530796051025\n"
     ]
    }
   ],
   "source": [
    "first_layer_filters = 32\n",
    "second_layer_filters = 64\n",
    "kernelsize = (3,3)\n",
    "inputshape = (33,43,3)\n",
    "first_hidden_layer_nodes = 128\n",
    "output_nodes = 121\n",
    "\n",
    "model_1 = models.Sequential()\n",
    "\n",
    "model_1.add(layers.Conv2D(first_layer_filters, kernelsize, activation = 'relu', padding = 'same', input_shape = inputshape))\n",
    "model_1.add(layers.MaxPooling2D((2, 2)))\n",
    "model_1.add(layers.Conv2D(second_layer_filters, kernelsize, activation = 'relu', padding = 'same', input_shape = inputshape))\n",
    "model_1.add(layers.MaxPooling2D((2, 2)))\n",
    "\n",
    "model_1.add(layers.Flatten())\n",
    "model_1.add(layers.Dense(first_hidden_layer_nodes, activation = 'relu'))\n",
    "model_1.add(layers.Dense(output_nodes, activation = 'softmax'))\n",
    "\n",
    "train_and_evaluate(model_1, image_train, label_train, image_val, label_val, epochs = 10)"
   ]
  },
  {
   "cell_type": "code",
   "execution_count": null,
   "id": "fc7d7c81",
   "metadata": {},
   "outputs": [],
   "source": []
  }
 ],
 "metadata": {
  "kernelspec": {
   "display_name": "Python 3 (ipykernel)",
   "language": "python",
   "name": "python3"
  },
  "language_info": {
   "codemirror_mode": {
    "name": "ipython",
    "version": 3
   },
   "file_extension": ".py",
   "mimetype": "text/x-python",
   "name": "python",
   "nbconvert_exporter": "python",
   "pygments_lexer": "ipython3",
   "version": "3.7.11"
  }
 },
 "nbformat": 4,
 "nbformat_minor": 5
}
