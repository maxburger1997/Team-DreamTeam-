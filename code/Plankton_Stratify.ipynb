{
 "cells": [
  {
   "cell_type": "markdown",
   "id": "e2a4f57f",
   "metadata": {
    "id": "e2a4f57f"
   },
   "source": [
    "# Machine Learning Project 2022: Plankton\n",
    "\n",
    "### Authors:\n",
    "- Bram Fresen\n",
    "- Bram Huis\n",
    "- Max Burger\n",
    "- Moos Middelkoop\n",
    "\n",
    "For the Machine Learning Project to finish off the minor Artificial Intelligence, we chose to tackle the plankton problem, originally uploaded as the United States national data science bowl in december 2014. For this problem, the goal is to classify microscopic images of particles in water as one of 121 different classes of plankton. The dataset is 30.000 images large, with varying sizes. The dataset is also imbalanced.\n",
    "\n",
    "In order to solve this problem we will make use of a Convolutional Neural Network using the tensorflow library."
   ]
  },
  {
   "cell_type": "markdown",
   "id": "fb144121",
   "metadata": {
    "id": "fb144121"
   },
   "source": [
    "## Import libraries\n",
    "\n",
    "Firstly, we will import the needed libraries, and check if we are running on a GPU."
   ]
  },
  {
   "cell_type": "code",
   "execution_count": 1,
   "id": "ccc8cd45",
   "metadata": {
    "id": "ccc8cd45"
   },
   "outputs": [
    {
     "name": "stdout",
     "output_type": "stream",
     "text": [
      "[PhysicalDevice(name='/physical_device:GPU:0', device_type='GPU')]\n"
     ]
    }
   ],
   "source": [
    "import tensorflow as tf \n",
    "import numpy as np\n",
    "import cv2\n",
    "import os\n",
    "import random\n",
    "import matplotlib.pyplot as plt\n",
    "import math\n",
    "import seaborn as sns\n",
    "from tensorflow import math as tfmath\n",
    "\n",
    "from tensorflow.keras import layers, models, preprocessing\n",
    "from sklearn.model_selection import train_test_split, StratifiedKFold\n",
    "from sklearn.utils import class_weight\n",
    "\n",
    "print(tf.config.list_physical_devices('GPU'))"
   ]
  },
  {
   "cell_type": "markdown",
   "id": "0d80ec50",
   "metadata": {
    "id": "0d80ec50"
   },
   "source": [
    "## Loading the training data and training labels\n",
    "\n",
    "We use the cv2 library to load the training images (which are .jpg files), and turn them into arrays. This piece of code was found online:\n",
    "\n",
    "https://stackoverflow.com/questions/30230592/loading-all-images-using-imread-from-a-given-folder\n",
    "https://drive.google.com/file/d/1hAaPzDMVEZ8X1tfRS2ieFEqi0R7Ww7uL/view"
   ]
  },
  {
   "cell_type": "markdown",
   "id": "c851be41",
   "metadata": {
    "id": "c851be41"
   },
   "source": [
    "### Training data\n",
    "\n",
    "Training data is sorted into folders by class, this next piece of code reads in the training data, puts it in an array, and constructs an array for the classes by using the names of the folders. At the end, this array for the labels is turned into a one-hot matrix, so that tensorflow can work with it."
   ]
  },
  {
   "cell_type": "code",
   "execution_count": 3,
   "id": "024ae544",
   "metadata": {
    "id": "024ae544"
   },
   "outputs": [],
   "source": [
    "# Create empty lists for the not resized training data, the labels (not one hot encoded yet) and the class sizes\n",
    "train_data = []\n",
    "train_labels = []\n",
    "class_size_list = []\n",
    "\n",
    "# Create a folder path of the different categories\n",
    "folder_train = 'data/train'\n",
    "\n",
    "# Loop through the index (for the one hot matrix) and the categories\n",
    "for number, categories in enumerate(os.listdir(folder_train)):\n",
    "    class_size = 0\n",
    "    \n",
    "    # Loop through the images , add 1 to the class size, read the images in in and add them to a list, \n",
    "    #also add the index 'number' to a list for the one hot matrix\n",
    "    for image in os.listdir(f'data/train/{categories}'):\n",
    "        class_size += 1\n",
    "        train_labels.append(number)\n",
    "        img = cv2.imread(os.path.join(f'data/train/{categories}', image))\n",
    "        train_data.append(img)\n",
    "    \n",
    "    # Append the size of the class to the class size list, in order to check the class sizes later, this way we\n",
    "    # can ananlyze the degree of class imbalance\n",
    "    class_size_list.append(class_size)\n",
    "\n",
    "# Create a one hot matrix from the train labels\n",
    "train_labels_one_hot = tf.keras.utils.to_categorical(train_labels)"
   ]
  },
  {
   "cell_type": "markdown",
   "id": "bb1615b0",
   "metadata": {
    "id": "bb1615b0"
   },
   "source": [
    "Analyzing degree of class imbalance"
   ]
  },
  {
   "cell_type": "code",
   "execution_count": 4,
   "id": "6deaa34b",
   "metadata": {
    "id": "6deaa34b"
   },
   "outputs": [
    {
     "name": "stdout",
     "output_type": "stream",
     "text": [
      "[889, 13, 71, 49, 16, 532, 242, 696, 393, 170, 815, 1934, 694, 77, 681, 173, 96, 178, 63, 286, 106, 49, 87, 30, 899, 1189, 24, 201, 113, 42, 53, 38, 55, 363, 394, 914, 519, 500, 36, 92, 80, 88, 385, 536, 96, 27, 14, 136, 38, 511, 10, 31, 85, 114, 64, 16, 10, 127, 75, 35, 229, 9, 19, 132, 23, 336, 12, 190, 412, 274, 150, 76, 703, 123, 43, 56, 14, 61, 14, 24, 141, 131, 108, 372, 625, 1172, 113, 108, 13, 65, 287, 158, 52, 49, 153, 174, 212, 135, 483, 179, 57, 247, 29, 30, 128, 21, 24, 38, 708, 54, 1979, 678, 29, 439, 417, 352, 236, 73, 317, 175, 425]\n",
      "\n",
      "Biggest class: 1979\n",
      "\n",
      "Smallest class: 9\n"
     ]
    }
   ],
   "source": [
    "print(class_size_list)\n",
    "print()\n",
    "print(f'Biggest class: {max(class_size_list)}')\n",
    "print()\n",
    "print(f'Smallest class: {min(class_size_list)}')"
   ]
  },
  {
   "cell_type": "markdown",
   "id": "89a0704a",
   "metadata": {
    "id": "89a0704a"
   },
   "source": [
    "### Deleting unnecessary channels\n",
    "\n",
    "There are 3 channels in each of the images. The cell below shows that each of the channels have the same values (test 1 and 2). Test 3 and 4 are here to show that the 'np.array_equal' function works; the values from different images return a false."
   ]
  },
  {
   "cell_type": "code",
   "execution_count": 5,
   "id": "2b9048ef",
   "metadata": {
    "id": "2b9048ef"
   },
   "outputs": [
    {
     "name": "stdout",
     "output_type": "stream",
     "text": [
      " Test 1: True, Test 2: True\n",
      " Test 3: False, Test 4: False\n"
     ]
    }
   ],
   "source": [
    "x = train_data[0]\n",
    "y = train_data[1]\n",
    "\n",
    "a0 = x[:, :, 0]\n",
    "b0 = x[:, :, 1]\n",
    "c0 = x[:, :, 2]\n",
    "\n",
    "a1 = y[:, :, 0]\n",
    "b1 = y[:, :, 1]\n",
    "c1 = y[:, :, 2]\n",
    "\n",
    "test_1 = np.array_equal(a0, b0)\n",
    "test_2 = np.array_equal(b0, c0)\n",
    "\n",
    "test_3 = np.array_equal(a0, a1)\n",
    "test_4 = np.array_equal(b0, c1)\n",
    "\n",
    "\n",
    "print(f' Test 1: {test_1}, Test 2: {test_2}')\n",
    "print(f' Test 3: {test_3}, Test 4: {test_4}')"
   ]
  },
  {
   "cell_type": "markdown",
   "id": "24d6cb5a",
   "metadata": {
    "id": "24d6cb5a",
    "outputId": "7552739a-b447-4b3d-ea37-22a6185e540f"
   },
   "source": [
    "We only proceed with one of the three channels, to eliminate redundant data"
   ]
  },
  {
   "cell_type": "code",
   "execution_count": 6,
   "id": "qaI7P5qy9L3Q",
   "metadata": {
    "id": "qaI7P5qy9L3Q"
   },
   "outputs": [],
   "source": [
    "for i, image in enumerate(train_data):\n",
    "      train_data[i] = image[:, :, 0]"
   ]
  },
  {
   "cell_type": "markdown",
   "id": "1d7d208c",
   "metadata": {
    "id": "1d7d208c"
   },
   "source": [
    "# Resize input images\n",
    "\n",
    "Because all images are differnt sizes, it is necessary to resize all input data to the same size, in order to make tensorflow be able to work with the data. The first cell below analyzes the sizes of the data, and the second cell actually resizes, based on this analysis. Lastly, the data is converted into numpy arrays, so tensorflow will be able to work with them"
   ]
  },
  {
   "cell_type": "code",
   "execution_count": 7,
   "id": "5838d255",
   "metadata": {
    "id": "5838d255"
   },
   "outputs": [
    {
     "name": "stdout",
     "output_type": "stream",
     "text": [
      "Average dimensions: 66.66182093881856, 73.50728507383967\n",
      "Lowest first dimension image (21, 71)\n",
      "Lowest second dimension image (31, 49)\n"
     ]
    },
    {
     "data": {
      "image/png": "[encoded data removed]",
      "text/plain": [
       "<Figure size 432x288 with 1 Axes>"
      ]
     },
     "metadata": {
      "needs_background": "light"
     },
     "output_type": "display_data"
    }
   ],
   "source": [
    "# Start with an infinitely large number\n",
    "value_1 = math.inf\n",
    "value_2 = math.inf\n",
    "sum_1 = 0\n",
    "sum_2 = 0\n",
    "count = 0\n",
    "\n",
    "# This checks for the lowest image size in the first and second dimension\n",
    "for image in train_data:\n",
    "    count+=1\n",
    "    sum_1 += image.shape[0]\n",
    "    sum_2 += image.shape[1]\n",
    "    if image.shape[0] < value_1:\n",
    "        \n",
    "        value_1 = image.shape[0]\n",
    "        hold_1 = image.shape\n",
    "    if image.shape[1] < value_2:\n",
    "        \n",
    "        value_2 = image.shape[0]\n",
    "        hold_2 = image.shape\n",
    "        \n",
    "sum_11 = sum_1 / count\n",
    "sum_22 = sum_2 / count\n",
    "\n",
    "print(f'Average dimensions: {sum_11}, {sum_22}')\n",
    "\n",
    "plt.imshow(train_data[0], cmap = 'gray')\n",
    "\n",
    "print(f'Lowest first dimension image {hold_1}')\n",
    "print(f'Lowest second dimension image {hold_2}')"
   ]
  },
  {
   "cell_type": "code",
   "execution_count": 8,
   "id": "ff1a2aa4",
   "metadata": {
    "id": "ff1a2aa4"
   },
   "outputs": [
    {
     "name": "stdout",
     "output_type": "stream",
     "text": [
      "(32, 32, 1)\n"
     ]
    },
    {
     "data": {
      "image/png": "[encoded data removed]",
      "text/plain": [
       "<Figure size 432x288 with 1 Axes>"
      ]
     },
     "metadata": {
      "needs_background": "light"
     },
     "output_type": "display_data"
    }
   ],
   "source": [
    "# Create an empty list for the training data\n",
    "train_data_resized = []\n",
    "\n",
    "# Loop through the images in the training data and resize them to the lowest shape in the dataset, \n",
    "# add a third dimension of 1 to the images and then append the image to the 'train_data_resized' list\n",
    "for image in train_data:\n",
    "    img = cv2.resize(image, dsize = (32, 32), interpolation = cv2.INTER_LINEAR)\n",
    "    img = np.expand_dims(img, axis = 2)\n",
    "    train_data_resized.append(img)\n",
    "\n",
    "# Test if the image is resized and show the image\n",
    "print(train_data_resized[0].shape)\n",
    "plt.imshow(train_data_resized[0], cmap = 'gray')\n",
    "\n",
    "#Split the data into 70% training and 30% validation\n",
    "im_train, im_val, lab_train, lab_val = train_test_split(train_data_resized, train_labels_one_hot, train_size=0.7, random_state=1265599650)"
   ]
  },
  {
   "cell_type": "code",
   "execution_count": 9,
   "id": "9cddaa21",
   "metadata": {
    "id": "9cddaa21"
   },
   "outputs": [
    {
     "name": "stdout",
     "output_type": "stream",
     "text": [
      "(30336, 32, 32, 1)\n",
      "(30336, 121)\n",
      "(21235, 32, 32, 1)\n",
      "(21235, 121)\n",
      "(9101, 32, 32, 1)\n",
      "(9101, 121)\n"
     ]
    }
   ],
   "source": [
    "# Convert data to array before split to use in stratified kfolds\n",
    "all_image = np.array(train_data_resized)\n",
    "all_labels = np.array(train_labels_one_hot)\n",
    "\n",
    "# Convert the split data to numpy arrays, so tensorflow can use them\n",
    "image_train = np.array(im_train)\n",
    "label_train = np.array(lab_train)\n",
    "image_val = np.array(im_val)\n",
    "label_val = np.array(lab_val)\n",
    "\n",
    "# Test if the shapes are correct\n",
    "print(all_image.shape)\n",
    "print(all_labels.shape)\n",
    "print(image_train.shape)\n",
    "print(label_train.shape)\n",
    "print(image_val.shape)\n",
    "print(label_val.shape)"
   ]
  },
  {
   "cell_type": "markdown",
   "id": "15024880",
   "metadata": {
    "id": "15024880"
   },
   "source": [
    "## Convolutional network\n",
    "\n",
    "We use the function 'train_and_evaluate' which, obviously, trains our model and then evaluates the trained model on the validation data. This function was reused from the CIFAR-assignment from module 6 of ML2."
   ]
  },
  {
   "cell_type": "markdown",
   "id": "e2ce50c7",
   "metadata": {
    "id": "e2ce50c7"
   },
   "source": [
    "Y_ints line: https://datascience.stackexchange.com/questions/13490/how-to-set-class-weights-for-imbalanced-classes-in-keras"
   ]
  },
  {
   "cell_type": "code",
   "execution_count": 10,
   "id": "3b49593d",
   "metadata": {
    "id": "3b49593d"
   },
   "outputs": [],
   "source": [
    "def train_and_evaluate(model, train_x, train_y, val_x, val_y, preprocess={}, epochs=20, augment={}):\n",
    "    \n",
    "    model.compile(loss='categorical_crossentropy', optimizer='adam', metrics=['accuracy'])\n",
    "\n",
    "    train_gen = preprocessing.image.ImageDataGenerator(**preprocess, **augment)\n",
    "    train_gen.fit(train_x) \n",
    "\n",
    "    val_gen = preprocessing.image.ImageDataGenerator(**preprocess)\n",
    "    val_gen.fit(train_x)\n",
    "    \n",
    "    y_ints = [y.argmax() for y in label_train]\n",
    "    #class_weights = class_weight.compute_class_weight('balanced',classes = np.unique(y_ints), y = y_ints)\n",
    "    \n",
    "    history = model.fit(train_gen.flow(train_x, train_y), epochs=epochs, \n",
    "                        validation_data=val_gen.flow(val_x, val_y))\n",
    "\n",
    "    fig, axs = plt.subplots(1,2,figsize=(20,5)) \n",
    "\n",
    "    for i, metric in enumerate(['loss', 'accuracy']):\n",
    "        axs[i].plot(history.history[metric])\n",
    "        axs[i].plot(history.history['val_'+metric])\n",
    "        axs[i].legend(['training', 'validation'], loc='best')\n",
    "\n",
    "        axs[i].set_title('Model '+metric)\n",
    "        axs[i].set_ylabel(metric)\n",
    "        axs[i].set_xlabel('epoch')\n",
    "\n",
    "    plt.show()\n",
    "\n",
    "    print(f\"Validation Accuracy: {model.evaluate(val_gen.flow(val_x, val_y))[1]}\")\n",
    "    return model.evaluate(val_gen.flow(val_x, val_y))[1]\n"
   ]
  },
  {
   "cell_type": "markdown",
   "id": "3c2820be",
   "metadata": {
    "id": "3c2820be"
   },
   "source": [
    "## The actual model\n",
    "\n",
    "We start with a very simple convolutional neural network, with 2 convolutional layers, both with pooling afterwards, and one dense layer. kernelsize, amount of filters, amount of nodes are specified in the code cell. This first version of the model gives us a validation accuracy of approximately 47%"
   ]
  },
  {
   "cell_type": "code",
   "execution_count": 15,
   "id": "54f63f17",
   "metadata": {
    "id": "54f63f17"
   },
   "outputs": [],
   "source": [
    "def build_model(first_layer_filters = 32, second_layer_filters = 64, kernelsize = (3,3), input_shape = (28, 28, 1), first_hidden_layer_nodes = 1024, second_hidden_layer_nodes = 512, pooling_size = (2,2), activation = \"relu\"):\n",
    "    \n",
    "    output_nodes = 121\n",
    "\n",
    "    model_1 = models.Sequential()\n",
    "\n",
    "    model_1.add(layers.Conv2D(first_layer_filters, kernelsize, activation = activation, padding = 'same', input_shape = inputshape))\n",
    "    model_1.add(layers.MaxPooling2D(pooling_size))\n",
    "    model_1.add(layers.Conv2D(second_layer_filters, kernelsize, activation = activation, padding = 'same', input_shape = inputshape))\n",
    "    model_1.add(layers.MaxPooling2D(pooling_size))\n",
    "\n",
    "    model_1.add(layers.Flatten())\n",
    "    model_1.add(layers.Dense(first_hidden_layer_nodes, activation = activation))\n",
    "    model_1.add(layers.Dense(output_nodes, activation = 'softmax'))\n",
    "    return model_1"
   ]
  },
  {
   "cell_type": "markdown",
   "id": "4ea4da84",
   "metadata": {
    "id": "4ea4da84"
   },
   "source": [
    "## Stratified K-folds\n",
    "\n",
    "In the cell below, we can train the model in K stratified folds, meaning we can test the model over different test and train splits that take the distribution of classes into account when making said splits."
   ]
  },
  {
   "cell_type": "code",
   "execution_count": 17,
   "id": "530b18ba",
   "metadata": {
    "id": "530b18ba",
    "scrolled": true
   },
   "outputs": [
    {
     "name": "stderr",
     "output_type": "stream",
     "text": [
      "C:\\Users\\bramm\\.conda\\envs\\progLab\\lib\\site-packages\\keras\\optimizer_v2\\adam.py:105: UserWarning: The `lr` argument is deprecated, use `learning_rate` instead.\n",
      "  super(Adam, self).__init__(name, **kwargs)\n"
     ]
    },
    {
     "name": "stdout",
     "output_type": "stream",
     "text": [
      "TRAIN: [  445   446   447 ... 30333 30334 30335] TEST: [    0     1     2 ... 30120 30121 30122]\n",
      "Epoch 1/10\n",
      "WARNING:tensorflow:AutoGraph could not transform <function Model.make_train_function.<locals>.train_function at 0x000002F46738B168> and will run it as-is.\n",
      "Please report this to the TensorFlow team. When filing the bug, set the verbosity to 10 (on Linux, `export AUTOGRAPH_VERBOSITY=10`) and attach the full output.\n",
      "Cause: 'arguments' object has no attribute 'posonlyargs'\n",
      "To silence this warning, decorate the function with @tf.autograph.experimental.do_not_convert\n",
      "WARNING: AutoGraph could not transform <function Model.make_train_function.<locals>.train_function at 0x000002F46738B168> and will run it as-is.\n",
      "Please report this to the TensorFlow team. When filing the bug, set the verbosity to 10 (on Linux, `export AUTOGRAPH_VERBOSITY=10`) and attach the full output.\n",
      "Cause: 'arguments' object has no attribute 'posonlyargs'\n",
      "To silence this warning, decorate the function with @tf.autograph.experimental.do_not_convert\n",
      "473/474 [============================>.] - ETA: 0s - loss: 4.2900 - accuracy: 0.2830WARNING:tensorflow:AutoGraph could not transform <function Model.make_test_function.<locals>.test_function at 0x000002F469A4B5E8> and will run it as-is.\n",
      "Please report this to the TensorFlow team. When filing the bug, set the verbosity to 10 (on Linux, `export AUTOGRAPH_VERBOSITY=10`) and attach the full output.\n",
      "Cause: 'arguments' object has no attribute 'posonlyargs'\n",
      "To silence this warning, decorate the function with @tf.autograph.experimental.do_not_convert\n",
      "WARNING: AutoGraph could not transform <function Model.make_test_function.<locals>.test_function at 0x000002F469A4B5E8> and will run it as-is.\n",
      "Please report this to the TensorFlow team. When filing the bug, set the verbosity to 10 (on Linux, `export AUTOGRAPH_VERBOSITY=10`) and attach the full output.\n",
      "Cause: 'arguments' object has no attribute 'posonlyargs'\n",
      "To silence this warning, decorate the function with @tf.autograph.experimental.do_not_convert\n",
      "474/474 [==============================] - 11s 22ms/step - loss: 4.2861 - accuracy: 0.2833 - val_loss: 2.4704 - val_accuracy: 0.3686\n",
      "Epoch 2/10\n",
      "474/474 [==============================] - 10s 22ms/step - loss: 2.1279 - accuracy: 0.4386 - val_loss: 2.1688 - val_accuracy: 0.4234\n",
      "Epoch 3/10\n",
      "474/474 [==============================] - 10s 22ms/step - loss: 1.7839 - accuracy: 0.5060 - val_loss: 2.1095 - val_accuracy: 0.4652\n",
      "Epoch 4/10\n",
      "474/474 [==============================] - 10s 22ms/step - loss: 1.5186 - accuracy: 0.5660 - val_loss: 2.0405 - val_accuracy: 0.4806\n",
      "Epoch 5/10\n",
      "474/474 [==============================] - 11s 23ms/step - loss: 1.3196 - accuracy: 0.6123 - val_loss: 2.1094 - val_accuracy: 0.4855\n",
      "Epoch 6/10\n",
      "474/474 [==============================] - 11s 23ms/step - loss: 1.1406 - accuracy: 0.6577 - val_loss: 2.2460 - val_accuracy: 0.4883\n",
      "Epoch 7/10\n",
      "474/474 [==============================] - 11s 24ms/step - loss: 0.9615 - accuracy: 0.7043 - val_loss: 2.3083 - val_accuracy: 0.4772\n",
      "Epoch 8/10\n",
      "474/474 [==============================] - 11s 24ms/step - loss: 0.8331 - accuracy: 0.7379 - val_loss: 2.4358 - val_accuracy: 0.4898\n",
      "Epoch 9/10\n",
      "474/474 [==============================] - 11s 24ms/step - loss: 0.6988 - accuracy: 0.7786 - val_loss: 2.7222 - val_accuracy: 0.4907\n",
      "Epoch 10/10\n",
      "474/474 [==============================] - 11s 24ms/step - loss: 0.5921 - accuracy: 0.8095 - val_loss: 2.7960 - val_accuracy: 0.4842\n"
     ]
    },
    {
     "data": {
      "image/png": "[encoded data removed]",
      "text/plain": [
       "<Figure size 1440x360 with 2 Axes>"
      ]
     },
     "metadata": {
      "needs_background": "light"
     },
     "output_type": "display_data"
    },
    {
     "name": "stdout",
     "output_type": "stream",
     "text": [
      "474/474 [==============================] - 2s 5ms/step - loss: 2.7960 - accuracy: 0.4842\n",
      "Validation Accuracy: 0.48417720198631287\n",
      "474/474 [==============================] - 2s 5ms/step - loss: 2.7960 - accuracy: 0.4842\n",
      "TRAIN: [    0     1     2 ... 30120 30121 30122] TEST: [  445   446   447 ... 30333 30334 30335]\n",
      "Epoch 1/10\n",
      "WARNING:tensorflow:AutoGraph could not transform <function Model.make_train_function.<locals>.train_function at 0x000002F469A7F558> and will run it as-is.\n",
      "Please report this to the TensorFlow team. When filing the bug, set the verbosity to 10 (on Linux, `export AUTOGRAPH_VERBOSITY=10`) and attach the full output.\n",
      "Cause: 'arguments' object has no attribute 'posonlyargs'\n",
      "To silence this warning, decorate the function with @tf.autograph.experimental.do_not_convert\n",
      "WARNING: AutoGraph could not transform <function Model.make_train_function.<locals>.train_function at 0x000002F469A7F558> and will run it as-is.\n",
      "Please report this to the TensorFlow team. When filing the bug, set the verbosity to 10 (on Linux, `export AUTOGRAPH_VERBOSITY=10`) and attach the full output.\n",
      "Cause: 'arguments' object has no attribute 'posonlyargs'\n",
      "To silence this warning, decorate the function with @tf.autograph.experimental.do_not_convert\n",
      "472/474 [============================>.] - ETA: 0s - loss: 5.0665 - accuracy: 0.2269WARNING:tensorflow:AutoGraph could not transform <function Model.make_test_function.<locals>.test_function at 0x000002F46300DA68> and will run it as-is.\n",
      "Please report this to the TensorFlow team. When filing the bug, set the verbosity to 10 (on Linux, `export AUTOGRAPH_VERBOSITY=10`) and attach the full output.\n",
      "Cause: 'arguments' object has no attribute 'posonlyargs'\n",
      "To silence this warning, decorate the function with @tf.autograph.experimental.do_not_convert\n",
      "WARNING: AutoGraph could not transform <function Model.make_test_function.<locals>.test_function at 0x000002F46300DA68> and will run it as-is.\n",
      "Please report this to the TensorFlow team. When filing the bug, set the verbosity to 10 (on Linux, `export AUTOGRAPH_VERBOSITY=10`) and attach the full output.\n",
      "Cause: 'arguments' object has no attribute 'posonlyargs'\n",
      "To silence this warning, decorate the function with @tf.autograph.experimental.do_not_convert\n",
      "474/474 [==============================] - 12s 24ms/step - loss: 5.0558 - accuracy: 0.2275 - val_loss: 2.7033 - val_accuracy: 0.3191\n",
      "Epoch 2/10\n",
      "474/474 [==============================] - 12s 25ms/step - loss: 2.3605 - accuracy: 0.3877 - val_loss: 2.2425 - val_accuracy: 0.4154\n",
      "Epoch 3/10\n",
      "474/474 [==============================] - 12s 25ms/step - loss: 1.9718 - accuracy: 0.4695 - val_loss: 2.1648 - val_accuracy: 0.4341\n",
      "Epoch 4/10\n",
      "474/474 [==============================] - 12s 25ms/step - loss: 1.7265 - accuracy: 0.5169 - val_loss: 2.0658 - val_accuracy: 0.4713\n",
      "Epoch 5/10\n",
      "474/474 [==============================] - 12s 25ms/step - loss: 1.5272 - accuracy: 0.5610 - val_loss: 2.0734 - val_accuracy: 0.4867\n",
      "Epoch 6/10\n",
      "474/474 [==============================] - 12s 25ms/step - loss: 1.3273 - accuracy: 0.6160 - val_loss: 2.1381 - val_accuracy: 0.4776\n",
      "Epoch 7/10\n",
      "474/474 [==============================] - 12s 25ms/step - loss: 1.1608 - accuracy: 0.6499 - val_loss: 2.2899 - val_accuracy: 0.4644\n",
      "Epoch 8/10\n",
      "474/474 [==============================] - 12s 25ms/step - loss: 1.0095 - accuracy: 0.6893 - val_loss: 2.3803 - val_accuracy: 0.4791\n",
      "Epoch 9/10\n",
      "474/474 [==============================] - 12s 25ms/step - loss: 0.9039 - accuracy: 0.7220 - val_loss: 2.5768 - val_accuracy: 0.4840\n",
      "Epoch 10/10\n",
      "474/474 [==============================] - 12s 25ms/step - loss: 0.8002 - accuracy: 0.7537 - val_loss: 2.8499 - val_accuracy: 0.4762\n"
     ]
    },
    {
     "data": {
      "image/png": "[encoded data removed]",
      "text/plain": [
       "<Figure size 1440x360 with 2 Axes>"
      ]
     },
     "metadata": {
      "needs_background": "light"
     },
     "output_type": "display_data"
    },
    {
     "name": "stdout",
     "output_type": "stream",
     "text": [
      "474/474 [==============================] - 3s 6ms/step - loss: 2.8499 - accuracy: 0.4762\n",
      "Validation Accuracy: 0.4761998951435089\n",
      "474/474 [==============================] - 3s 5ms/step - loss: 2.8499 - accuracy: 0.4762\n",
      "------------------------------------------------------------------\n",
      "The mean accuracy of 2 folds is 0.4801885485649109\n"
     ]
    }
   ],
   "source": [
    "# Set learning rate\n",
    "optimizer = tf.keras.optimizers.Adam(lr= 0.0001)\n",
    "\n",
    "# Convert data to array before split to use in stratified kfolds\n",
    "all_image = np.array(train_data_resized)\n",
    "all_labels = np.array(train_labels_one_hot)\n",
    "\n",
    "# Convert one hot matrix back to label vector\n",
    "y_ints_all = [y.argmax() for y in all_labels]\n",
    "y_ints_all = np.array(y_ints_all)\n",
    "\n",
    "n_splits = 2\n",
    "\n",
    "# Define stratified kfold and number of splits\n",
    "skf = StratifiedKFold(n_splits= n_splits)\n",
    "skf.get_n_splits(all_image, all_labels)\n",
    "\n",
    "StratifiedKFold(n_splits= n_splits, random_state= None, shuffle= False)\n",
    "\n",
    "val_accuracy_list = []\n",
    "\n",
    "# Iterate over the splits\n",
    "for train_index, test_index in skf.split(all_image, y_ints_all):\n",
    "    print(\"TRAIN:\", train_index, \"TEST:\", test_index)\n",
    "    X_train, X_test = all_image[train_index], all_image[test_index]\n",
    "    y_train, y_test = all_labels[train_index], all_labels[test_index]\n",
    "\n",
    "    model_1 = build_model()\n",
    "\n",
    "    # Call train and evaluate for every split\n",
    "    val_accuracy = train_and_evaluate(model_1, X_train, y_train, X_test, y_test, epochs = 10)\n",
    "    val_accuracy_list.append(val_accuracy)\n",
    "print(\"------------------------------------------------------------------\")\n",
    "print(f\"The mean accuracy of {n_splits} folds is {np.mean(val_accuracy_list)}\")"
   ]
  },
  {
   "cell_type": "markdown",
   "id": "9b0e0937",
   "metadata": {
    "id": "9b0e0937"
   },
   "source": [
    "## Confusion matrix\n",
    "\n",
    "While we start with a rather decent accuracy compared to the at-random probability, we suspect that the relatively small classes are being 'overlooked' by our model, due to their low sample size. To investigate this suspicion, we plot the confusion matrix, to investigate whether this suspision is true or not."
   ]
  },
  {
   "cell_type": "code",
   "execution_count": null,
   "id": "00da687c",
   "metadata": {
    "id": "00da687c"
   },
   "outputs": [],
   "source": [
    "# First compute the predictions based on the trained model\n",
    "y_pred = model_1.predict_classes(image_val)\n",
    "y_pred = tf.keras.utils.to_categorical(y_pred)\n",
    "\n",
    "# Convert both actual and predict to utilize in conf matrix \n",
    "y_true = tf.argmax(label_val, axis=1)\n",
    "y_pred = tf.argmax(y_pred, axis=1)\n",
    "\n",
    "# Compute matrix\n",
    "conf_matrix = tfmath.confusion_matrix(y_true, y_pred)\n",
    "\n",
    "# Compute heatmap \n",
    "plt.figure(figsize=(30,3060))\n",
    "ax = sns.heatmap(conf_matrix, annot=True, fmt=\"d\")\n",
    "ax.set(xlabel='Predicted Class', ylabel='Actual Class')\n",
    "plt.show()\n",
    "\n",
    "print(conf_matrix)"
   ]
  },
  {
   "cell_type": "markdown",
   "id": "O1GnoUtmLuRy",
   "metadata": {
    "id": "O1GnoUtmLuRy"
   },
   "source": [
    "test 1"
   ]
  },
  {
   "cell_type": "code",
   "execution_count": null,
   "id": "wWV0H51vLvSq",
   "metadata": {
    "id": "wWV0H51vLvSq"
   },
   "outputs": [],
   "source": []
  }
 ],
 "metadata": {
  "colab": {
   "name": "Plankton.ipynb",
   "provenance": []
  },
  "kernelspec": {
   "display_name": "Python 3 (ipykernel)",
   "language": "python",
   "name": "python3"
  },
  "language_info": {
   "codemirror_mode": {
    "name": "ipython",
    "version": 3
   },
   "file_extension": ".py",
   "mimetype": "text/x-python",
   "name": "python",
   "nbconvert_exporter": "python",
   "pygments_lexer": "ipython3",
   "version": "3.7.11"
  }
 },
 "nbformat": 4,
 "nbformat_minor": 5
}
