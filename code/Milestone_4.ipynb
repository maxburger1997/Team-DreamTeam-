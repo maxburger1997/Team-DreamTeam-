{
 "cells": [
  {
   "cell_type": "markdown",
   "id": "e2a4f57f",
   "metadata": {
    "id": "e2a4f57f"
   },
   "source": [
    "# Machine Learning Project 2022: Plankton\n",
    "\n",
    "### Authors:\n",
    "- Bram Fresen\n",
    "- Bram Huis\n",
    "- Max Burger\n",
    "- Moos Middelkoop\n",
    "\n",
    "For the Machine Learning Project to finish off the minor Artificial Intelligence, we chose to tackle the plankton problem, originally uploaded as the United States national data science bowl in december 2014. For this problem, the goal is to classify microscopic images of particles in water as one of 121 different classes of plankton. The dataset is 30.000 images large, with varying sizes. The dataset is also imbalanced.\n",
    "\n",
    "In order to solve this problem we will make use of a Convolutional Neural Network using the tensorflow library."
   ]
  },
  {
   "cell_type": "code",
   "execution_count": null,
   "id": "sNNILgDqcVuS",
   "metadata": {
    "id": "sNNILgDqcVuS"
   },
   "outputs": [],
   "source": [
    "#from google.colab import drive\n",
    "#drive.mount('/content/drive')"
   ]
  },
  {
   "cell_type": "markdown",
   "id": "fb144121",
   "metadata": {
    "id": "fb144121"
   },
   "source": [
    "## Import libraries\n",
    "\n",
    "Firstly, we will import the needed libraries, and check if we are running on a GPU."
   ]
  },
  {
   "cell_type": "code",
   "execution_count": 6,
   "id": "ccc8cd45",
   "metadata": {
    "id": "ccc8cd45"
   },
   "outputs": [
    {
     "name": "stdout",
     "output_type": "stream",
     "text": [
      "[]\n"
     ]
    }
   ],
   "source": [
    "import tensorflow as tf \n",
    "import numpy as np\n",
    "import cv2\n",
    "import os\n",
    "import random\n",
    "import matplotlib.pyplot as plt\n",
    "import math\n",
    "import seaborn as sns\n",
    "\n",
    "from imblearn.over_sampling import SMOTE\n",
    "from tensorflow import math as tfmath\n",
    "from tensorflow.keras import layers, models, preprocessing\n",
    "from sklearn.model_selection import train_test_split, StratifiedKFold\n",
    "from sklearn.utils import class_weight\n",
    "\n",
    "print(tf.config.list_physical_devices('GPU'))"
   ]
  },
  {
   "cell_type": "markdown",
   "id": "0d80ec50",
   "metadata": {
    "id": "0d80ec50"
   },
   "source": [
    "## Loading the training data and training labels\n",
    "\n",
    "We use the cv2 library to load the training images (which are .jpg files), and turn them into arrays. This piece of code was found online:\n",
    "\n",
    "https://stackoverflow.com/questions/30230592/loading-all-images-using-imread-from-a-given-folder\n",
    "https://drive.google.com/file/d/1hAaPzDMVEZ8X1tfRS2ieFEqi0R7Ww7uL/view"
   ]
  },
  {
   "cell_type": "markdown",
   "id": "c851be41",
   "metadata": {
    "id": "c851be41"
   },
   "source": [
    "### Training data\n",
    "\n",
    "Training data is sorted into folders by class, this next piece of code reads in the training data, puts it in an array, and constructs an array for the classes by using the names of the folders. At the end, this array for the labels is turned into a one-hot matrix, so that tensorflow can work with it.\n",
    "\n",
    "We also delete the unnecessary channels here already, all input images consist of 3 channels with exactly the same values, so we drop two of them in order to remove redundant data."
   ]
  },
  {
   "cell_type": "code",
   "execution_count": 7,
   "id": "024ae544",
   "metadata": {
    "id": "024ae544"
   },
   "outputs": [
    {
     "name": "stdout",
     "output_type": "stream",
     "text": [
      "0\n",
      "1\n",
      "2\n",
      "3\n",
      "4\n",
      "5\n",
      "6\n",
      "7\n",
      "8\n",
      "9\n",
      "10\n",
      "11\n",
      "12\n",
      "13\n",
      "14\n",
      "15\n",
      "16\n",
      "17\n",
      "18\n",
      "19\n",
      "20\n",
      "21\n",
      "22\n",
      "23\n",
      "24\n",
      "25\n",
      "26\n",
      "27\n",
      "28\n",
      "29\n",
      "30\n",
      "31\n",
      "32\n",
      "33\n",
      "34\n",
      "35\n",
      "36\n",
      "37\n",
      "38\n",
      "39\n",
      "40\n",
      "41\n",
      "42\n",
      "43\n",
      "44\n",
      "45\n",
      "46\n",
      "47\n",
      "48\n",
      "49\n",
      "50\n",
      "51\n",
      "52\n",
      "53\n",
      "54\n",
      "55\n",
      "56\n",
      "57\n",
      "58\n",
      "59\n",
      "60\n",
      "61\n",
      "62\n",
      "63\n",
      "64\n",
      "65\n",
      "66\n",
      "67\n",
      "68\n",
      "69\n",
      "70\n",
      "71\n",
      "72\n",
      "73\n",
      "74\n",
      "75\n",
      "76\n",
      "77\n",
      "78\n",
      "79\n",
      "80\n",
      "81\n",
      "82\n",
      "83\n",
      "84\n",
      "85\n",
      "86\n",
      "87\n",
      "88\n",
      "89\n",
      "90\n",
      "91\n",
      "92\n",
      "93\n",
      "94\n",
      "95\n",
      "96\n",
      "97\n",
      "98\n",
      "99\n",
      "100\n",
      "101\n",
      "102\n",
      "103\n",
      "104\n",
      "105\n",
      "106\n",
      "107\n",
      "108\n",
      "109\n",
      "110\n",
      "111\n",
      "112\n",
      "113\n",
      "114\n",
      "115\n",
      "116\n",
      "117\n",
      "118\n",
      "119\n",
      "120\n"
     ]
    }
   ],
   "source": [
    "def read_data(folder):\n",
    "    # Create empty lists for the not resized training data, the labels (not one hot encoded yet) and the class sizes\n",
    "    train_data = []\n",
    "    train_labels = []\n",
    "    class_size_list = []\n",
    "    categories_list =[]\n",
    "    offset = 0\n",
    "\n",
    "    # Loop through the index (for the one hot matrix) and the categories\n",
    "    for number, categories in enumerate(os.listdir(folder)):\n",
    "        class_size = 0\n",
    "        categories_list.append(categories)\n",
    "        print(number)\n",
    "\n",
    "        # If we come across a hidden folder (starting with \".\") on mac os, we ignore it\n",
    "        if categories[0] == \".\":\n",
    "            offset += 1\n",
    "            continue\n",
    "\n",
    "        # Loop through the images , add 1 to the class size, read the images in in and add them to a list, \n",
    "        # also add the index 'number' to a list for the one hot matrix\n",
    "        for image in os.listdir(f'{folder}/{categories}'):\n",
    "            class_size += 1\n",
    "            train_labels.append(number - offset)\n",
    "            img = cv2.imread(os.path.join(f'{folder}/{categories}', image))\n",
    "            train_data.append(img[:, :, 0])\n",
    "      \n",
    "        # Append the size of the class to the class size list, in order to check the class sizes later, this way we\n",
    "        # can ananlyze the degree of class imbalance\n",
    "        class_size_list.append(class_size)\n",
    "\n",
    "    # Create a one hot matrix from the train labels\n",
    "    train_labels_one_hot = tf.keras.utils.to_categorical(train_labels, num_classes=121)\n",
    "  \n",
    "    return train_data, train_labels_one_hot, class_size_list, categories_list\n",
    "\n",
    "train_data, train_labels, class_size_list, categories_list = read_data('data/train')\n"
   ]
  },
  {
   "cell_type": "markdown",
   "id": "1d7d208c",
   "metadata": {
    "id": "1d7d208c"
   },
   "source": [
    "# Resize input images\n",
    "\n",
    "Because all images are differnt sizes, it is necessary to resize all input data to the same size, in order to make tensorflow be able to work with the data. The first cell below analyzes the sizes of the data, and the second cell actually resizes, based on this analysis. An essential element is explicitly adding a third dimension with a value of 1 to the images, otherwise tensorflow can't work with the data. Lastly, the data is converted into numpy arrays, so tensorflow will be able to work with them"
   ]
  },
  {
   "cell_type": "code",
   "execution_count": 8,
   "id": "5838d255",
   "metadata": {
    "id": "5838d255"
   },
   "outputs": [
    {
     "name": "stdout",
     "output_type": "stream",
     "text": [
      "Average dimensions: 66.66182093881856, 73.50728507383967\n",
      "Lowest first dimension image (21, 71)\n",
      "Lowest second dimension image (31, 49)\n"
     ]
    },
    {
     "data": {
      "image/png": "[encoded data removed]",
      "text/plain": [
       "<Figure size 432x288 with 1 Axes>"
      ]
     },
     "metadata": {
      "needs_background": "light"
     },
     "output_type": "display_data"
    }
   ],
   "source": [
    "# Start with an infinitely large number\n",
    "value_1 = math.inf\n",
    "value_2 = math.inf\n",
    "sum_1 = 0\n",
    "sum_2 = 0\n",
    "count = 0\n",
    "\n",
    "# This checks for the lowest image size in the first and second dimension\n",
    "for image in train_data:\n",
    "    count+=1\n",
    "    sum_1 += image.shape[0]\n",
    "    sum_2 += image.shape[1]\n",
    "    if image.shape[0] < value_1:\n",
    "        \n",
    "        value_1 = image.shape[0]\n",
    "        hold_1 = image.shape\n",
    "    if image.shape[1] < value_2:\n",
    "        \n",
    "        value_2 = image.shape[0]\n",
    "        hold_2 = image.shape\n",
    "        \n",
    "sum_11 = sum_1 / count\n",
    "sum_22 = sum_2 / count\n",
    "\n",
    "print(f'Average dimensions: {sum_11}, {sum_22}')\n",
    "\n",
    "plt.imshow(train_data[0], cmap = 'gray')\n",
    "\n",
    "print(f'Lowest first dimension image {hold_1}')\n",
    "print(f'Lowest second dimension image {hold_2}')"
   ]
  },
  {
   "cell_type": "markdown",
   "id": "798de0f3",
   "metadata": {},
   "source": [
    "## Resizing Function\n",
    "\n",
    "In the cell below, we define a function that resizes a given image to a dimension given the optimal manner of up- or downscaling. "
   ]
  },
  {
   "cell_type": "code",
   "execution_count": 9,
   "id": "ff1a2aa4",
   "metadata": {
    "id": "ff1a2aa4"
   },
   "outputs": [
    {
     "name": "stdout",
     "output_type": "stream",
     "text": [
      "(64, 64, 1)\n"
     ]
    },
    {
     "data": {
      "image/png": "[encoded data removed]",
      "text/plain": [
       "<Figure size 432x288 with 1 Axes>"
      ]
     },
     "metadata": {
      "needs_background": "light"
     },
     "output_type": "display_data"
    }
   ],
   "source": [
    "def resizer(image, target_dimension):\n",
    "    '''\n",
    "    Takes an image and a desired dimension (tuple), and converts the image given the best interpolation method\n",
    "    '''\n",
    "\n",
    "    if len(image[0]) * len(image[1]) > target_dimension[0] * target_dimension[1]:\n",
    "        rescaled_image = np.expand_dims(cv2.resize(image, dsize = target_dimension, interpolation = cv2.INTER_AREA), axis = 2) \n",
    "    else:\n",
    "        rescaled_image = np.expand_dims(cv2.resize(image, dsize = target_dimension, interpolation = cv2.INTER_CUBIC), axis = 2)        \n",
    "    return rescaled_image    \n",
    "    \n",
    "# Create an empty list for the training data\n",
    "train_data_resized = []\n",
    "target_dim = (64, 64)\n",
    "\n",
    "# Loop through the images in the training data and resize them to desired dimension\n",
    "for image in train_data:\n",
    "    train_data_resized.append(resizer(image, target_dim))\n",
    "\n",
    "# Test if the image is resized and show the image\n",
    "print(train_data_resized[0].shape)\n",
    "plt.imshow(train_data_resized[0], cmap = 'gray')\n",
    "\n",
    "#Split the data into 70% training and 30% validation\n",
    "im_train, im_val, lab_train, lab_val = train_test_split(train_data_resized, train_labels, train_size=0.7, random_state=1265599650, stratify = train_labels)"
   ]
  },
  {
   "cell_type": "code",
   "execution_count": 10,
   "id": "9cddaa21",
   "metadata": {
    "id": "9cddaa21"
   },
   "outputs": [
    {
     "name": "stdout",
     "output_type": "stream",
     "text": [
      "(21235, 64, 64, 1)\n",
      "(21235, 121)\n",
      "(9101, 64, 64, 1)\n",
      "(9101, 121)\n"
     ]
    }
   ],
   "source": [
    "# Convert the data to numpy arrays, so tensorflow can use them\n",
    "image_train = np.array(im_train)\n",
    "label_train = np.array(lab_train)\n",
    "image_val = np.array(im_val)\n",
    "label_val = np.array(lab_val)\n",
    "\n",
    "# Test if the shapes are correct\n",
    "print(image_train.shape)\n",
    "print(label_train.shape)\n",
    "print(image_val.shape)\n",
    "print(label_val.shape)"
   ]
  },
  {
   "cell_type": "markdown",
   "id": "15024880",
   "metadata": {
    "id": "15024880"
   },
   "source": [
    "## Convolutional network\n",
    "\n",
    "We use the function 'train_and_evaluate' which, obviously, trains our model and then evaluates the trained model on the validation data. This function was reused from the CIFAR-assignment from module 6 of ML2."
   ]
  },
  {
   "cell_type": "markdown",
   "id": "e2ce50c7",
   "metadata": {
    "id": "e2ce50c7"
   },
   "source": [
    "Y_ints line: https://datascience.stackexchange.com/questions/13490/how-to-set-class-weights-for-imbalanced-classes-in-keras"
   ]
  },
  {
   "cell_type": "code",
   "execution_count": 13,
   "id": "3b49593d",
   "metadata": {
    "id": "3b49593d"
   },
   "outputs": [],
   "source": [
    "def train_and_evaluate(model, train_x, train_y, val_x, val_y, preprocess={}, epochs=20, augment={}, decay = True, \n",
    "                       initial_learning_rate = 1e-5, learning_rate = 0.00009):\n",
    "    \n",
    "    if decay:\n",
    "        print(\"Learning rate decay is ON\")\n",
    "        \n",
    "        \n",
    "        # Define a learning rate schedule\n",
    "        optimizer = tf.keras.optimizers.SGD(lr=initial_learning_rate, momentum= 0.9, decay= initial_learning_rate/epochs, nesterov=False)\n",
    "        \n",
    "    \n",
    "    else:\n",
    "        optimizer = tf.keras.optimizers.Adam(lr = learning_rate)\n",
    "        print(f\"Learning rate decay is OFF. Learning rate is {learning_rate}\")\n",
    "    \n",
    "    model.compile(loss='categorical_crossentropy', optimizer=optimizer, metrics=['accuracy'])\n",
    "\n",
    "    train_gen = preprocessing.image.ImageDataGenerator(**preprocess, **augment)\n",
    "    train_gen.fit(train_x) \n",
    "\n",
    "    val_gen = preprocessing.image.ImageDataGenerator(**preprocess)\n",
    "    val_gen.fit(train_x)\n",
    "    \n",
    "    # used for k-fold\n",
    "    y_ints = [y.argmax() for y in label_train]\n",
    "    class_weights = class_weight.compute_class_weight('balanced',classes = np.unique(y_ints), y = y_ints)\n",
    "    \n",
    "    history = model.fit(train_gen.flow(train_x, train_y), epochs=epochs, \n",
    "                        validation_data=val_gen.flow(val_x, val_y))\n",
    "\n",
    "    fig, axs = plt.subplots(1,2,figsize=(20,5)) \n",
    "\n",
    "    for i, metric in enumerate(['loss', 'accuracy']):\n",
    "        axs[i].plot(history.history[metric])\n",
    "        axs[i].plot(history.history['val_'+metric])\n",
    "        axs[i].legend(['training', 'validation'], loc='best')\n",
    "\n",
    "        axs[i].set_title('Model '+metric)\n",
    "        axs[i].set_ylabel(metric)\n",
    "        axs[i].set_xlabel('epoch')\n",
    "\n",
    "    plt.show()\n",
    "\n",
    "    print(f\"Validation Accuracy: {model.evaluate(val_gen.flow(val_x, val_y))[1]}\")\n",
    "    return model.evaluate(val_gen.flow(val_x, val_y))[1]"
   ]
  },
  {
   "cell_type": "markdown",
   "id": "3c2820be",
   "metadata": {
    "id": "3c2820be"
   },
   "source": [
    "## The actual model\n",
    "\n",
    "We start with a very simple convolutional neural network, with 2 convolutional layers, both with pooling afterwards, and one dense layer. kernelsize, amount of filters, amount of nodes are specified in the code cell. This first version of the model gives us a validation accuracy of approximately 64%"
   ]
  },
  {
   "cell_type": "code",
   "execution_count": 14,
   "id": "74a184d5",
   "metadata": {
    "id": "74a184d5"
   },
   "outputs": [
    {
     "name": "stdout",
     "output_type": "stream",
     "text": [
      "Learning rate decay is ON\n"
     ]
    },
    {
     "ename": "NameError",
     "evalue": "name 'inital_learning_rate' is not defined",
     "output_type": "error",
     "traceback": [
      "\u001b[1;31m---------------------------------------------------------------------------\u001b[0m",
      "\u001b[1;31mNameError\u001b[0m                                 Traceback (most recent call last)",
      "\u001b[1;32m~\\AppData\\Local\\Temp/ipykernel_6336/2722673180.py\u001b[0m in \u001b[0;36m<module>\u001b[1;34m\u001b[0m\n\u001b[0;32m     42\u001b[0m \u001b[0mmodel_1\u001b[0m \u001b[1;33m=\u001b[0m \u001b[0mbuild_model\u001b[0m\u001b[1;33m(\u001b[0m\u001b[1;33m)\u001b[0m\u001b[1;33m\u001b[0m\u001b[1;33m\u001b[0m\u001b[0m\n\u001b[0;32m     43\u001b[0m \u001b[1;33m\u001b[0m\u001b[0m\n\u001b[1;32m---> 44\u001b[1;33m \u001b[0mtrain_and_evaluate\u001b[0m\u001b[1;33m(\u001b[0m\u001b[0mmodel_1\u001b[0m\u001b[1;33m,\u001b[0m \u001b[0mimage_train\u001b[0m\u001b[1;33m,\u001b[0m \u001b[0mlabel_train\u001b[0m\u001b[1;33m,\u001b[0m \u001b[0mimage_val\u001b[0m\u001b[1;33m,\u001b[0m \u001b[0mlabel_val\u001b[0m\u001b[1;33m,\u001b[0m \u001b[0mepochs\u001b[0m \u001b[1;33m=\u001b[0m \u001b[1;36m10\u001b[0m\u001b[1;33m)\u001b[0m\u001b[1;33m\u001b[0m\u001b[1;33m\u001b[0m\u001b[0m\n\u001b[0m",
      "\u001b[1;32m~\\AppData\\Local\\Temp/ipykernel_6336/1347199347.py\u001b[0m in \u001b[0;36mtrain_and_evaluate\u001b[1;34m(model, train_x, train_y, val_x, val_y, preprocess, epochs, augment, decay, initial_learning_rate, learning_rate)\u001b[0m\n\u001b[0;32m      7\u001b[0m \u001b[1;33m\u001b[0m\u001b[0m\n\u001b[0;32m      8\u001b[0m         \u001b[1;31m# Define a learning rate schedule\u001b[0m\u001b[1;33m\u001b[0m\u001b[1;33m\u001b[0m\u001b[1;33m\u001b[0m\u001b[0m\n\u001b[1;32m----> 9\u001b[1;33m         \u001b[0moptimizer\u001b[0m \u001b[1;33m=\u001b[0m \u001b[0mtf\u001b[0m\u001b[1;33m.\u001b[0m\u001b[0mkeras\u001b[0m\u001b[1;33m.\u001b[0m\u001b[0moptimizers\u001b[0m\u001b[1;33m.\u001b[0m\u001b[0mSGD\u001b[0m\u001b[1;33m(\u001b[0m\u001b[0mlr\u001b[0m\u001b[1;33m=\u001b[0m\u001b[0minital_learning_rate\u001b[0m\u001b[1;33m,\u001b[0m \u001b[0mmomentum\u001b[0m\u001b[1;33m=\u001b[0m \u001b[1;36m0.9\u001b[0m\u001b[1;33m,\u001b[0m \u001b[0mdecay\u001b[0m\u001b[1;33m=\u001b[0m \u001b[0minitial_learning_rate\u001b[0m\u001b[1;33m/\u001b[0m\u001b[0mepochs\u001b[0m\u001b[1;33m,\u001b[0m \u001b[0mnesterov\u001b[0m\u001b[1;33m=\u001b[0m\u001b[1;32mFalse\u001b[0m\u001b[1;33m)\u001b[0m\u001b[1;33m\u001b[0m\u001b[1;33m\u001b[0m\u001b[0m\n\u001b[0m\u001b[0;32m     10\u001b[0m \u001b[1;33m\u001b[0m\u001b[0m\n\u001b[0;32m     11\u001b[0m \u001b[1;33m\u001b[0m\u001b[0m\n",
      "\u001b[1;31mNameError\u001b[0m: name 'inital_learning_rate' is not defined"
     ]
    }
   ],
   "source": [
    "def build_model(first_layer_filters = 32, second_layer_filters = 64, third_layer_filters = 128,fourth_layer_filters = 128, \n",
    "                kernelsize = (3,3), inputshape = (64, 64, 1), first_hidden_layer_nodes = 1024, second_hidden_layer_nodes = 512, \n",
    "                pooling_size = (2,2), activation = layers.LeakyReLU(alpha= 0.15)):\n",
    "    \n",
    "    \"\"\"\n",
    "    Function that builds a sequential model with the given architecture\n",
    "    \"\"\"\n",
    "    output_nodes = 121\n",
    "    \n",
    "    model_1 = models.Sequential()\n",
    "\n",
    "    model_1.add(layers.Conv2D(first_layer_filters, kernelsize, activation = activation, padding = 'same', input_shape = inputshape))\n",
    "    model_1.add(layers.Conv2D(first_layer_filters, kernelsize, activation = activation, padding = 'same'))\n",
    "    model_1.add(layers.MaxPooling2D(pooling_size))\n",
    "    model_1.add(layers.Dropout(0.5))\n",
    "    \n",
    "    model_1.add(layers.Conv2D(second_layer_filters, kernelsize, activation = activation, padding = 'same'))\n",
    "    model_1.add(layers.Conv2D(second_layer_filters, kernelsize, activation = activation, padding = 'same'))\n",
    "    model_1.add(layers.MaxPooling2D(pooling_size))\n",
    "    model_1.add(layers.Dropout(0.5))\n",
    "    \n",
    "    model_1.add(layers.Conv2D(third_layer_filters, kernelsize, activation = activation, padding = 'same'))\n",
    "    model_1.add(layers.Conv2D(third_layer_filters, kernelsize, activation = activation, padding = 'same'))\n",
    "    model_1.add(layers.MaxPooling2D(pooling_size))\n",
    "    model_1.add(layers.Dropout(0.5))\n",
    "    \n",
    "    model_1.add(layers.Conv2D(fourth_layer_filters, kernelsize, activation = activation, padding = 'same'))\n",
    "    model_1.add(layers.Conv2D(fourth_layer_filters, kernelsize, activation = activation, padding = 'same'))\n",
    "    model_1.add(layers.MaxPooling2D(pooling_size))\n",
    "    model_1.add(layers.Dropout(0.5))\n",
    "    \n",
    "    model_1.add(layers.Flatten())\n",
    "\n",
    "    model_1.add(layers.Dense(first_hidden_layer_nodes, activation = activation))\n",
    "    model_1.add(layers.Dropout(0.5))\n",
    "    model_1.add(layers.Dense(second_hidden_layer_nodes, activation = activation))\n",
    "    model_1.add(layers.Dropout(0.5))\n",
    "    model_1.add(layers.Dense(output_nodes, activation = 'softmax'))\n",
    "    \n",
    "    return model_1\n",
    "\n",
    "model_1 = build_model()\n",
    "\n",
    "train_and_evaluate(model_1, image_train, label_train, image_val, label_val, epochs = 10)"
   ]
  },
  {
   "cell_type": "code",
   "execution_count": null,
   "id": "f8ace847",
   "metadata": {
    "id": "f8ace847"
   },
   "outputs": [],
   "source": [
    "model_1.summary()\n"
   ]
  },
  {
   "cell_type": "markdown",
   "id": "1FV_kXH6EZA_",
   "metadata": {
    "id": "1FV_kXH6EZA_"
   },
   "source": [
    "## Different resizing "
   ]
  },
  {
   "cell_type": "code",
   "execution_count": null,
   "id": "6ed76964",
   "metadata": {
    "id": "6ed76964"
   },
   "outputs": [],
   "source": [
    "# Filter out the largest example (and possibily the second-largest) to illustrate resizing\n",
    "storage_1 = 0 \n",
    "storage_2 = 0\n",
    "store_img1 = None\n",
    "store_img2 = None\n",
    "for image in train_data:\n",
    "    store = image.shape[0]\n",
    "    if store > storage_1 and store > storage_2:\n",
    "        store_img1 = image\n",
    "        storage_1 = image.shape[0]\n",
    "    if store > storage_2 and store != storage_1:\n",
    "        store_img2 = image\n",
    "        storage_2 = image.shape[0]\n",
    "        \n",
    "\n",
    "# Plot the different manners of interpolation for comparison\n",
    "f, axarr = plt.subplots(2,3, figsize=(12, 12))\n",
    "axarr[0,0].imshow(store_img1, cmap = 'gray')\n",
    "axarr[0,0].set_title('Original picture:')\n",
    "axarr[1,0].imshow(cv2.resize(store_img1, dsize = (32, 32), interpolation = cv2.INTER_LINEAR), cmap = 'gray')\n",
    "axarr[1,0].set_title('Bilinear interpolation:')\n",
    "axarr[0,1].imshow(cv2.resize(store_img1, dsize = (32, 32), interpolation = cv2.INTER_AREA), cmap = 'gray')\n",
    "axarr[0,1].set_title('Pixel area relation interpolation:')\n",
    "axarr[1,1].imshow(cv2.resize(store_img1, dsize = (32, 32), interpolation = cv2.INTER_NEAREST), cmap = 'gray')\n",
    "axarr[1,1].set_title('Nearest-neighbor interpolation:')\n",
    "axarr[0,2].imshow(cv2.resize(store_img1, dsize = (32, 32), interpolation = cv2.INTER_CUBIC), cmap = 'gray')\n",
    "axarr[0,2].set_title('Bicubic interpolation:')\n",
    "axarr[1,2].imshow(cv2.resize(store_img1, dsize = (32, 32), interpolation = cv2.INTER_LANCZOS4), cmap = 'gray')\n",
    "axarr[1,2].set_title('Lanczos interpolation:')\n",
    "\n",
    "#plt.savefig('resizingmethods.png')"
   ]
  },
  {
   "cell_type": "code",
   "execution_count": null,
   "id": "c6cebbf9",
   "metadata": {
    "id": "c6cebbf9"
   },
   "outputs": [],
   "source": [
    "# First compute the predictions based on the trained model\n",
    "y_pred = tf.keras.utils.to_categorical(model_1.predict_classes(image_val))\n",
    "\n",
    "\n",
    "# Convert both actual and predict to utilize in conf matrix \n",
    "y_true = tf.argmax(label_val, axis=1)\n",
    "y_pred = tf.argmax(y_pred, axis=1)\n",
    "\n",
    "# Compute matrix\n",
    "conf_matrix = tfmath.confusion_matrix(y_true, y_pred)\n",
    "\n",
    "# Remove the diagonal for clearer image\n",
    "cnf_mtrx = np.array(conf_matrix)\n",
    "np.fill_diagonal(cnf_mtrx, 0)\n",
    "\n",
    "# Save this version for usage with SMOTE\n",
    "smote_conf_matr = np.copy(cnf_mtrx)\n",
    "\n",
    "# Compute heatmap for abosulte numbers\n",
    "\n",
    "plt.figure(figsize=(60,60))\n",
    "ax = sns.heatmap(cnf_mtrx, annot=True, fmt=\"d\", xticklabels=categories_list, yticklabels=categories_list)\n",
    "ax.set(xlabel='Predicted Class', ylabel='Actual Class')\n",
    "plt.show()\n",
    "\n",
    "# Compute the relative (%) cf matrix and corresponding heatmap\n",
    "\n",
    "cnf_mtrx = np.nan_to_num((cnf_mtrx / cnf_mtrx.astype(np.float).sum()), copy=True, nan=0.0, posinf=None, neginf=None)\n",
    "plt.figure(figsize=(60,60))\n",
    "ax = sns.heatmap(cnf_mtrx, annot=True, xticklabels=categories_list, yticklabels=categories_list)\n",
    "ax.set(xlabel='Predicted Class', ylabel='Actual Class')\n",
    "\n",
    "plt.show()"
   ]
  },
  {
   "cell_type": "markdown",
   "id": "a30e73cd",
   "metadata": {},
   "source": [
    "## Stratified K-folds\n",
    "\n",
    "In the cell below, we can train the model in K stratified folds, meaning we can test the model over different test and train splits that take the distribution of classes into account when making said splits."
   ]
  },
  {
   "cell_type": "code",
   "execution_count": null,
   "id": "ae9e9d96",
   "metadata": {},
   "outputs": [],
   "source": [
    "# Convert data to array before split to use in stratified kfolds\n",
    "all_image = np.array(train_data_resized)\n",
    "all_labels = np.array(train_labels)\n",
    "\n",
    "# Convert one hot matrix back to label vector\n",
    "y_ints_all = [y.argmax() for y in all_labels]\n",
    "y_ints_all = np.array(y_ints_all)\n",
    "\n",
    "\n",
    "def stratified_kfold(n_splits = 2):\n",
    "    \"\"\"\n",
    "    Function that trains and evaluates the model on K stratified train test splits\n",
    "    \"\"\"\n",
    "    \n",
    "    # Define stratified kfold and number of splits\n",
    "    skf = StratifiedKFold(n_splits = n_splits)\n",
    "    skf.get_n_splits(all_image, all_labels)\n",
    "\n",
    "    val_accuracy_list = []\n",
    "\n",
    "    # Iterate over the splits\n",
    "    for train_index, test_index in skf.split(all_image, y_ints_all):\n",
    "        print(\"TRAIN:\", train_index, \"TEST:\", test_index)\n",
    "        X_train, X_test = all_image[train_index], all_image[test_index]\n",
    "        y_train, y_test = all_labels[train_index], all_labels[test_index]\n",
    "\n",
    "        model_1 = build_model()\n",
    "\n",
    "        # Call train and evaluate for every split\n",
    "        val_accuracy = train_and_evaluate(model_1, X_train, y_train, X_test, y_test, epochs = 10)\n",
    "        val_accuracy_list.append(val_accuracy)\n",
    "    \n",
    "    # Print the mean accuracies\n",
    "    print(\"------------------------------------------------------------------\")\n",
    "    print(f\"The mean accuracy of {n_splits} folds is {np.mean(val_accuracy_list)}\")\n",
    "\n",
    "stratified_kfold()"
   ]
  },
  {
   "cell_type": "markdown",
   "id": "317948f9",
   "metadata": {},
   "source": []
  },
  {
   "cell_type": "markdown",
   "id": "bd2573ce",
   "metadata": {},
   "source": [
    "## SMOTE\n",
    "In the cell below, we oversample the minority classes in the training data to try and combat the data imbalance. We can try and adjust the parameters of the smote to set a limit to which classes get oversampled. This is important as it may be ineffective to oversample the smallest classes. \n",
    "    "
   ]
  },
  {
   "cell_type": "code",
   "execution_count": null,
   "id": "1fa740bc",
   "metadata": {},
   "outputs": [],
   "source": [
    "print(smote_conf_matr)\n",
    "def conf_smote_dict(smote_conf_matr, min_errors, smote_value, max_smote_value = 1385, min_smote_value = 400):\n",
    "    smote_dict = {}\n",
    "    j = 0\n",
    "    for pred in smote_conf_matr:\n",
    "        error_classes = list(np.where(pred >= min_errors)[0])\n",
    "        error_values = pred[pred>= min_errors]\n",
    "        if len(error_classes) > 0:\n",
    "                actual_class = j\n",
    "                smote_dict[actual_class] = np.clip(sum(error_values) * 2, min_smote_value, max_smote_value)\n",
    "        for i in range(len(error_classes)):\n",
    "            smote_dict[error_classes[i]] = np.clip(error_values[i] * 4, min_smote_value, max_smote_value)\n",
    "        j += 1\n",
    "    return smote_dict\n",
    "\n",
    "conf_smote_dict = conf_smote_dict(smote_conf_matr, 100, 800)\n",
    "print(conf_smote_dict)"
   ]
  },
  {
   "cell_type": "code",
   "execution_count": null,
   "id": "15105815",
   "metadata": {},
   "outputs": [],
   "source": [
    "def smote_dict(class_size_list, label_train, smote_size = 1385, smallest_oversample = 45):\n",
    "    one_hot_list = np.unique(label_train, axis = 0)\n",
    "    int_list = [y.argmax() for y in one_hot_list]\n",
    "    smote_dict = {}\n",
    "    \n",
    "    for i in range(len(int_list)):\n",
    "        if class_size_list[i] > smallest_oversample:\n",
    "            smote_dict[int_list[i]] = smote_size\n",
    "        \n",
    "    return smote_dict\n",
    "\n",
    "smote_dict = smote_dict(class_size_list, label_train)\n"
   ]
  },
  {
   "cell_type": "code",
   "execution_count": null,
   "id": "953e7904",
   "metadata": {},
   "outputs": [],
   "source": [
    "def smote_data(image_train, smote_dict, k = 4):\n",
    "    \"\"\"\n",
    "    Function that oversamples the minority classes of the given data based on K neighbors\n",
    "    \"\"\"\n",
    "    # Convert labels into ints\n",
    "    y_ints = [y.argmax() for y in label_train]\n",
    "    \n",
    "    # Get shape of the train data\n",
    "    nsamples, nx, ny, nz = image_train.shape\n",
    "\n",
    "    # Create two dimensional traindata\n",
    "    d2_train_dataset = image_train.reshape((nsamples, nx * ny * nz))\n",
    "\n",
    "    # Define smote for minority classes\n",
    "    smote = SMOTE(sampling_strategy = smote_dict, k_neighbors = k)\n",
    "\n",
    "    # Apply smote to our 2 dim traning data\n",
    "    X_smote, y_smote = smote.fit_resample(d2_train_dataset , y_ints)\n",
    "\n",
    "    # Convert labels back to one hot\n",
    "    y_smote = tf.keras.utils.to_categorical(y_smote, num_classes=121)\n",
    "    \n",
    "    # Print the new shape to see how this affected the data\n",
    "    print(f\"The shape of X after smote is: {X_smote.shape}, the shape of y after smote is: {y_smote.shape}\")\n",
    "\n",
    "    # Reshape the smote data into the original format\n",
    "    smoted_train = X_smote.reshape((X_smote.shape[0], nx, ny, nz))\n",
    "\n",
    "    # Check the shapes\n",
    "    print(f\"The shape of X after smote and reshaping is {smoted_train.shape}\")\n",
    "    \n",
    "    return smoted_train, y_smote\n",
    "\n",
    "smoted_train, y_smote = smote_data(image_train, smote_dict)"
   ]
  },
  {
   "cell_type": "code",
   "execution_count": 3,
   "id": "3d3a1110",
   "metadata": {},
   "outputs": [
    {
     "name": "stdout",
     "output_type": "stream",
     "text": [
      "0.001\n"
     ]
    }
   ],
   "source": [
    "def decayed_learning_rate(step, initial_learning_rate = 0.001, decay_rate = 1, decay_steps = 10000):\n",
    "  return initial_learning_rate * decay_rate ** (step / decay_steps)\n",
    "\n",
    "print(decayed_learning_rate(100))"
   ]
  }
 ],
 "metadata": {
  "accelerator": "GPU",
  "colab": {
   "name": "Plankton.ipynb",
   "provenance": []
  },
  "kernelspec": {
   "display_name": "Python 3 (ipykernel)",
   "language": "python",
   "name": "python3"
  },
  "language_info": {
   "codemirror_mode": {
    "name": "ipython",
    "version": 3
   },
   "file_extension": ".py",
   "mimetype": "text/x-python",
   "name": "python",
   "nbconvert_exporter": "python",
   "pygments_lexer": "ipython3",
   "version": "3.7.11"
  }
 },
 "nbformat": 4,
 "nbformat_minor": 5
}
