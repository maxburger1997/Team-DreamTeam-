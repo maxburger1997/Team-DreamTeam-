{
 "cells": [
  {
   "cell_type": "markdown",
   "id": "e2a4f57f",
   "metadata": {
    "id": "e2a4f57f"
   },
   "source": [
    "# Machine Learning Project 2022: Plankton\n",
    "\n",
    "### Authors:\n",
    "- Bram Fresen\n",
    "- Bram Huis\n",
    "- Max Burger\n",
    "- Moos Middelkoop\n",
    "\n",
    "For the Machine Learning Project to finish off the minor Artificial Intelligence, we chose to tackle the plankton problem, originally uploaded as the United States national data science bowl in december 2014. For this problem, the goal is to classify microscopic images of particles in water as one of 121 different classes of plankton. The dataset is 30.000 images large, with varying sizes. The dataset is also imbalanced.\n",
    "\n",
    "In order to solve this problem we will make use of a Convolutional Neural Network using the tensorflow library."
   ]
  },
  {
   "cell_type": "code",
   "execution_count": null,
   "id": "sNNILgDqcVuS",
   "metadata": {
    "id": "sNNILgDqcVuS"
   },
   "outputs": [],
   "source": [
    "#from google.colab import drive\n",
    "#drive.mount('/content/drive')"
   ]
  },
  {
   "cell_type": "markdown",
   "id": "fb144121",
   "metadata": {
    "id": "fb144121"
   },
   "source": [
    "## Import libraries\n",
    "\n",
    "Firstly, we will import the needed libraries, and check if we are running on a GPU."
   ]
  },
  {
   "cell_type": "code",
   "execution_count": null,
   "id": "ccc8cd45",
   "metadata": {
    "id": "ccc8cd45"
   },
   "outputs": [],
   "source": [
    "import tensorflow as tf \n",
    "import numpy as np\n",
    "import cv2\n",
    "import os\n",
    "import random\n",
    "import matplotlib.pyplot as plt\n",
    "import math\n",
    "import seaborn as sns\n",
    "\n",
    "from imblearn.over_sampling import SMOTE\n",
    "from tensorflow import math as tfmath\n",
    "from tensorflow.keras import layers, models, preprocessing\n",
    "from sklearn.model_selection import train_test_split, StratifiedKFold\n",
    "from sklearn.utils import class_weight\n",
    "\n",
    "print(tf.config.list_physical_devices('GPU'))"
   ]
  },
  {
   "cell_type": "markdown",
   "id": "0d80ec50",
   "metadata": {
    "id": "0d80ec50"
   },
   "source": [
    "## Loading the training data and training labels\n",
    "\n",
    "We use the cv2 library to load the training images (which are .jpg files), and turn them into arrays. This piece of code was found online:\n",
    "\n",
    "https://stackoverflow.com/questions/30230592/loading-all-images-using-imread-from-a-given-folder\n",
    "https://drive.google.com/file/d/1hAaPzDMVEZ8X1tfRS2ieFEqi0R7Ww7uL/view"
   ]
  },
  {
   "cell_type": "markdown",
   "id": "c851be41",
   "metadata": {
    "id": "c851be41"
   },
   "source": [
    "### Training data\n",
    "\n",
    "Training data is sorted into folders by class, this next piece of code reads in the training data, puts it in an array, and constructs an array for the classes by using the names of the folders. At the end, this array for the labels is turned into a one-hot matrix, so that tensorflow can work with it.\n",
    "\n",
    "We also delete the unnecessary channels here already, all input images consist of 3 channels with exactly the same values, so we drop two of them in order to remove redundant data."
   ]
  },
  {
   "cell_type": "code",
   "execution_count": null,
   "id": "024ae544",
   "metadata": {
    "id": "024ae544"
   },
   "outputs": [],
   "source": [
    "def read_data(folder):\n",
    "    # Create empty lists for the not resized training data, the labels (not one hot encoded yet) and the class sizes\n",
    "    train_data = []\n",
    "    train_labels = []\n",
    "    class_size_list = []\n",
    "    categories_list =[]\n",
    "    offset = 0\n",
    "\n",
    "    # Loop through the index (for the one hot matrix) and the categories\n",
    "    for number, categories in enumerate(os.listdir(folder)):\n",
    "        class_size = 0\n",
    "        categories_list.append(categories)\n",
    "        print(number)\n",
    "\n",
    "        # If we come across a hidden folder (starting with \".\") on mac os, we ignore it\n",
    "        if categories[0] == \".\":\n",
    "            offset += 1\n",
    "            continue\n",
    "\n",
    "        # Loop through the images , add 1 to the class size, read the images in in and add them to a list, \n",
    "        # also add the index 'number' to a list for the one hot matrix\n",
    "        for image in os.listdir(f'{folder}/{categories}'):\n",
    "            class_size += 1\n",
    "            train_labels.append(number - offset)\n",
    "            img = cv2.imread(os.path.join(f'{folder}/{categories}', image))\n",
    "            train_data.append(img[:, :, 0])\n",
    "      \n",
    "        # Append the size of the class to the class size list, in order to check the class sizes later, this way we\n",
    "        # can ananlyze the degree of class imbalance\n",
    "        class_size_list.append(class_size)\n",
    "\n",
    "    # Create a one hot matrix from the train labels\n",
    "    train_labels_one_hot = tf.keras.utils.to_categorical(train_labels, num_classes=121)\n",
    "  \n",
    "    return train_data, train_labels_one_hot, class_size_list, categories_list\n",
    "\n",
    "train_data, train_labels, class_size_list, categories_list = read_data('data/train')\n"
   ]
  },
  {
   "cell_type": "markdown",
   "id": "1d7d208c",
   "metadata": {
    "id": "1d7d208c"
   },
   "source": [
    "# Resize input images\n",
    "\n",
    "Because all images are differnt sizes, it is necessary to resize all input data to the same size, in order to make tensorflow be able to work with the data. The first cell below analyzes the sizes of the data, and the second cell actually resizes, based on this analysis. An essential element is explicitly adding a third dimension with a value of 1 to the images, otherwise tensorflow can't work with the data. Lastly, the data is converted into numpy arrays, so tensorflow will be able to work with them"
   ]
  },
  {
   "cell_type": "code",
   "execution_count": null,
   "id": "5838d255",
   "metadata": {
    "id": "5838d255"
   },
   "outputs": [],
   "source": [
    "# Start with an infinitely large number\n",
    "value_1 = math.inf\n",
    "value_2 = math.inf\n",
    "sum_1 = 0\n",
    "sum_2 = 0\n",
    "count = 0\n",
    "\n",
    "# This checks for the lowest image size in the first and second dimension\n",
    "for image in train_data:\n",
    "    count+=1\n",
    "    sum_1 += image.shape[0]\n",
    "    sum_2 += image.shape[1]\n",
    "    if image.shape[0] < value_1:\n",
    "        \n",
    "        value_1 = image.shape[0]\n",
    "        hold_1 = image.shape\n",
    "    if image.shape[1] < value_2:\n",
    "        \n",
    "        value_2 = image.shape[0]\n",
    "        hold_2 = image.shape\n",
    "        \n",
    "sum_11 = sum_1 / count\n",
    "sum_22 = sum_2 / count\n",
    "\n",
    "print(f'Average dimensions: {sum_11}, {sum_22}')\n",
    "\n",
    "plt.imshow(train_data[0], cmap = 'gray')\n",
    "\n",
    "print(f'Lowest first dimension image {hold_1}')\n",
    "print(f'Lowest second dimension image {hold_2}')"
   ]
  },
  {
   "cell_type": "markdown",
   "id": "b9eabe9d",
   "metadata": {},
   "source": [
    "## Making training and validation split"
   ]
  },
  {
   "cell_type": "code",
   "execution_count": null,
   "id": "4a0b6559",
   "metadata": {},
   "outputs": [],
   "source": [
    "#Split the data into 70% training and 30% validation\n",
    "im_train, im_val, lab_train, lab_val = train_test_split(train_data, train_labels, train_size=0.7, random_state=1265599650)"
   ]
  },
  {
   "cell_type": "markdown",
   "id": "798de0f3",
   "metadata": {},
   "source": [
    "## Resizing Function\n",
    "\n",
    "In the cell below, we define a function that resizes a given image to a dimension given the optimal manner of up- or downscaling. "
   ]
  },
  {
   "cell_type": "code",
   "execution_count": null,
   "id": "ff1a2aa4",
   "metadata": {
    "id": "ff1a2aa4"
   },
   "outputs": [],
   "source": [
    "def resizer(image, target_dimension):\n",
    "    '''\n",
    "    Takes an image and a desired dimension (tuple), and converts the image given the best interpolation method\n",
    "    '''\n",
    "\n",
    "    if len(image[0]) * len(image[1]) > target_dimension[0] * target_dimension[1]:\n",
    "        rescaled_image = np.expand_dims(cv2.resize(image, dsize = target_dimension, interpolation = cv2.INTER_AREA), axis = 2) \n",
    "    else:\n",
    "        rescaled_image = np.expand_dims(cv2.resize(image, dsize = target_dimension, interpolation = cv2.INTER_CUBIC), axis = 2)        \n",
    "    return rescaled_image    \n",
    "    \n",
    "# Create an empty list for the training data\n",
    "train_data_resized = []\n",
    "target_dim = (64, 64)\n",
    "\n",
    "# Loop through the images in the training data and resize them to desired dimension\n",
    "for image in im_train:\n",
    "    train_data_resized.append(resizer(image, target_dim))\n",
    "\n",
    "for image in im_val:\n",
    "    val_data_resized.append(resizer(image, target_dim))\n",
    "\n",
    "# Test if the image is resized and show the image\n",
    "print(train_data_resized[0].shape)\n",
    "plt.imshow(train_data_resized[0], cmap = 'gray')\n"
   ]
  },
  {
   "cell_type": "code",
   "execution_count": null,
   "id": "9cddaa21",
   "metadata": {
    "id": "9cddaa21"
   },
   "outputs": [],
   "source": [
    "# Convert the data to numpy arrays, so tensorflow can use them\n",
    "image_train = np.array(train_data_resized)\n",
    "label_train = np.array(lab_train)\n",
    "image_val = np.array(val_data_resized)\n",
    "label_val = np.array(lab_val)\n",
    "\n",
    "# Test if the shapes are correct\n",
    "print(image_train.shape)\n",
    "print(label_train.shape)\n",
    "print(image_val.shape)\n",
    "print(label_val.shape)"
   ]
  },
  {
   "cell_type": "markdown",
   "id": "15024880",
   "metadata": {
    "id": "15024880"
   },
   "source": [
    "## Convolutional network\n",
    "\n",
    "We use the function 'train_and_evaluate' which, obviously, trains our model and then evaluates the trained model on the validation data. This function was reused from the CIFAR-assignment from module 6 of ML2."
   ]
  },
  {
   "cell_type": "markdown",
   "id": "e2ce50c7",
   "metadata": {
    "id": "e2ce50c7"
   },
   "source": [
    "Y_ints line: https://datascience.stackexchange.com/questions/13490/how-to-set-class-weights-for-imbalanced-classes-in-keras"
   ]
  },
  {
   "cell_type": "code",
   "execution_count": null,
   "id": "3b49593d",
   "metadata": {
    "id": "3b49593d"
   },
   "outputs": [],
   "source": [
    "def train_and_evaluate(model, train_x, train_y, val_x, val_y, preprocess={}, epochs=20, augment={}, decay = True, \n",
    "                       initial_learning_rate = 1e-5, learning_rate = 0.00012):\n",
    "    \n",
    "    if decay:\n",
    "        print(\"Learning rate decay is ON\")\n",
    "        \n",
    "        # Define a learning rate schedule\n",
    "        optimizer = tf.keras.optimizers.SGD(lr=initial_learning_rate, momentum= 0.9, decay= initial_learning_rate/epochs, nesterov=False)\n",
    "           \n",
    "    else:\n",
    "        optimizer = tf.keras.optimizers.Adam(lr = learning_rate)\n",
    "        print(f\"Learning rate decay is OFF. Learning rate is {learning_rate}\")\n",
    "    \n",
    "    model.compile(loss='categorical_crossentropy', optimizer=optimizer, metrics=['accuracy'])\n",
    "\n",
    "    train_gen = preprocessing.image.ImageDataGenerator(**preprocess, **augment)\n",
    "    train_gen.fit(train_x) \n",
    "\n",
    "    val_gen = preprocessing.image.ImageDataGenerator(**preprocess)\n",
    "    val_gen.fit(train_x)\n",
    "    \n",
    "    # used for k-fold\n",
    "    y_ints = [y.argmax() for y in train_x]\n",
    "    class_weights = class_weight.compute_class_weight('balanced',classes = np.unique(y_ints), y = y_ints)\n",
    "    \n",
    "    history = model.fit(train_gen.flow(train_x, train_y), epochs=epochs, \n",
    "                        validation_data=val_gen.flow(val_x, val_y))\n",
    "\n",
    "    fig, axs = plt.subplots(1,2,figsize=(20,5)) \n",
    "\n",
    "    for i, metric in enumerate(['loss', 'accuracy']):\n",
    "        axs[i].plot(history.history[metric])\n",
    "        axs[i].plot(history.history['val_'+metric])\n",
    "        axs[i].legend(['training', 'validation'], loc='best')\n",
    "\n",
    "        axs[i].set_title('Model '+metric)\n",
    "        axs[i].set_ylabel(metric)\n",
    "        axs[i].set_xlabel('epoch')\n",
    "\n",
    "    plt.show()\n",
    "\n",
    "    print(f\"Validation Accuracy: {model.evaluate(val_gen.flow(val_x, val_y))[1]}\")\n",
    "    return model.evaluate(val_gen.flow(val_x, val_y))[1]"
   ]
  },
  {
   "cell_type": "markdown",
   "id": "3c2820be",
   "metadata": {
    "id": "3c2820be"
   },
   "source": [
    "## The actual model\n"
   ]
  },
  {
   "cell_type": "code",
   "execution_count": null,
   "id": "74a184d5",
   "metadata": {
    "id": "74a184d5"
   },
   "outputs": [],
   "source": [
    "def build_model(first_layer_filters=32, second_layer_filters=64, third_layer_filters=128, fourth_layer_filters=256, \n",
    "                kernelsize=(3,3), inputshape=(64, 64, 1), first_hidden_layer_nodes=1024, second_hidden_layer_nodes=512, \n",
    "                pooling_size=(2,2), activation=layers.LeakyReLU(alpha=0.15)):\n",
    "    \n",
    "    \"\"\"\n",
    "    Function that builds a sequential model with the given architecture\n",
    "    \"\"\"\n",
    "    output_nodes = 121\n",
    "    \n",
    "    model_1 = models.Sequential()\n",
    "\n",
    "    model_1.add(layers.Conv2D(first_layer_filters, kernelsize, activation = activation, padding = 'same', input_shape = inputshape))\n",
    "    model_1.add(layers.Conv2D(first_layer_filters, kernelsize, activation = activation, padding = 'same'))\n",
    "    model_1.add(layers.MaxPooling2D(pooling_size))\n",
    "    model_1.add(layers.Dropout(0.5))\n",
    "    \n",
    "    model_1.add(layers.Conv2D(second_layer_filters, kernelsize, activation = activation, padding = 'same'))\n",
    "    model_1.add(layers.Conv2D(second_layer_filters, kernelsize, activation = activation, padding = 'same'))\n",
    "    model_1.add(layers.MaxPooling2D(pooling_size))\n",
    "    model_1.add(layers.Dropout(0.5))\n",
    "    \n",
    "    model_1.add(layers.Conv2D(third_layer_filters, kernelsize, activation = activation, padding = 'same'))\n",
    "    model_1.add(layers.Conv2D(third_layer_filters, kernelsize, activation = activation, padding = 'same'))\n",
    "    model_1.add(layers.MaxPooling2D(pooling_size))\n",
    "    model_1.add(layers.Dropout(0.5))\n",
    "    \n",
    "    model_1.add(layers.Conv2D(fourth_layer_filters, kernelsize, activation = activation, padding = 'same'))\n",
    "    model_1.add(layers.Conv2D(fourth_layer_filters, kernelsize, activation = activation, padding = 'same'))\n",
    "    model_1.add(layers.MaxPooling2D(pooling_size))\n",
    "    model_1.add(layers.Dropout(0.5))\n",
    "    \n",
    "    model_1.add(layers.Flatten())\n",
    "\n",
    "    model_1.add(layers.Dense(first_hidden_layer_nodes, activation = activation))\n",
    "    model_1.add(layers.Dropout(0.5))\n",
    "    model_1.add(layers.Dense(second_hidden_layer_nodes, activation = activation))\n",
    "    model_1.add(layers.Dropout(0.5))\n",
    "    model_1.add(layers.Dense(output_nodes, activation = 'softmax'))\n",
    "    \n",
    "    return model_1\n",
    "\n",
    "model_1 = build_model()\n",
    "\n",
    "train_and_evaluate(model_1, image_train, label_train, image_val, label_val, epochs = 400)"
   ]
  },
  {
   "cell_type": "code",
   "execution_count": null,
   "id": "f8ace847",
   "metadata": {
    "id": "f8ace847"
   },
   "outputs": [],
   "source": [
    "# get a summary\n",
    "model_1.summary()"
   ]
  },
  {
   "cell_type": "markdown",
   "id": "1FV_kXH6EZA_",
   "metadata": {
    "id": "1FV_kXH6EZA_"
   },
   "source": [
    "## Different resizing "
   ]
  },
  {
   "cell_type": "code",
   "execution_count": null,
   "id": "6ed76964",
   "metadata": {
    "id": "6ed76964"
   },
   "outputs": [],
   "source": [
    "# Filter out the largest example (and possibily the second-largest) to illustrate resizing\n",
    "storage_1 = 0 \n",
    "storage_2 = 0\n",
    "store_img1 = None\n",
    "store_img2 = None\n",
    "for image in train_data:\n",
    "    store = image.shape[0]\n",
    "    if store > storage_1 and store > storage_2:\n",
    "        store_img1 = image\n",
    "        storage_1 = image.shape[0]\n",
    "    if store > storage_2 and store != storage_1:\n",
    "        store_img2 = image\n",
    "        storage_2 = image.shape[0]\n",
    "        \n",
    "\n",
    "# Plot the different manners of interpolation for comparison\n",
    "f, axarr = plt.subplots(2,3, figsize=(12, 12))\n",
    "axarr[0,0].imshow(store_img1, cmap = 'gray')\n",
    "axarr[0,0].set_title('Original picture:')\n",
    "axarr[1,0].imshow(cv2.resize(store_img1, dsize = (32, 32), interpolation = cv2.INTER_LINEAR), cmap = 'gray')\n",
    "axarr[1,0].set_title('Bilinear interpolation:')\n",
    "axarr[0,1].imshow(cv2.resize(store_img1, dsize = (32, 32), interpolation = cv2.INTER_AREA), cmap = 'gray')\n",
    "axarr[0,1].set_title('Pixel area relation interpolation:')\n",
    "axarr[1,1].imshow(cv2.resize(store_img1, dsize = (32, 32), interpolation = cv2.INTER_NEAREST), cmap = 'gray')\n",
    "axarr[1,1].set_title('Nearest-neighbor interpolation:')\n",
    "axarr[0,2].imshow(cv2.resize(store_img1, dsize = (32, 32), interpolation = cv2.INTER_CUBIC), cmap = 'gray')\n",
    "axarr[0,2].set_title('Bicubic interpolation:')\n",
    "axarr[1,2].imshow(cv2.resize(store_img1, dsize = (32, 32), interpolation = cv2.INTER_LANCZOS4), cmap = 'gray')\n",
    "axarr[1,2].set_title('Lanczos interpolation:')\n",
    "\n",
    "#plt.savefig('resizingmethods.png')"
   ]
  },
  {
   "cell_type": "code",
   "execution_count": null,
   "id": "c6cebbf9",
   "metadata": {
    "id": "c6cebbf9"
   },
   "outputs": [],
   "source": [
    "# First compute the predictions based on the trained model\n",
    "y_pred = tf.keras.utils.to_categorical(model_1.predict_classes(image_val))\n",
    "\n",
    "\n",
    "# Convert both actual and predict to utilize in conf matrix \n",
    "y_true = tf.argmax(label_val, axis=1)\n",
    "y_pred = tf.argmax(y_pred, axis=1)\n",
    "\n",
    "# Compute matrix\n",
    "conf_matrix = tfmath.confusion_matrix(y_true, y_pred)\n",
    "\n",
    "# Remove the diagonal for clearer image\n",
    "cnf_mtrx = np.array(conf_matrix)\n",
    "np.fill_diagonal(cnf_mtrx, 0)\n",
    "\n",
    "# Save this version for usage with SMOTE\n",
    "smote_conf_matr = np.copy(cnf_mtrx)\n",
    "\n",
    "# Compute heatmap for abosulte numbers\n",
    "\n",
    "plt.figure(figsize=(60,60))\n",
    "ax = sns.heatmap(cnf_mtrx, annot=True, fmt=\"d\", xticklabels=categories_list, yticklabels=categories_list)\n",
    "ax.set(xlabel='Predicted Class', ylabel='Actual Class')\n",
    "plt.show()\n",
    "\n",
    "# Compute the relative (%) cf matrix and corresponding heatmap\n",
    "\n",
    "cnf_mtrx = np.nan_to_num((cnf_mtrx / cnf_mtrx.astype(np.float).sum()), copy=True, nan=0.0, posinf=None, neginf=None)\n",
    "plt.figure(figsize=(60,60))\n",
    "ax = sns.heatmap(cnf_mtrx, annot=True, xticklabels=categories_list, yticklabels=categories_list)\n",
    "ax.set(xlabel='Predicted Class', ylabel='Actual Class')\n",
    "\n",
    "plt.show()"
   ]
  },
  {
   "cell_type": "markdown",
   "id": "a30e73cd",
   "metadata": {},
   "source": [
    "## Stratified K-folds\n",
    "\n",
    "In the cell below, we can train the model in K stratified folds, meaning we can test the model over different test and train splits that take the distribution of classes into account when making said splits."
   ]
  },
  {
   "cell_type": "code",
   "execution_count": null,
   "id": "ae9e9d96",
   "metadata": {},
   "outputs": [],
   "source": [
    "# Convert data to array before split to use in stratified kfolds\n",
    "all_image = np.array(train_data_resized)\n",
    "all_labels = np.array(train_labels)\n",
    "\n",
    "# Convert one hot matrix back to label vector\n",
    "y_ints_all = [y.argmax() for y in all_labels]\n",
    "y_ints_all = np.array(y_ints_all)\n",
    "\n",
    "\n",
    "def stratified_kfold(n_splits = 2):\n",
    "    \"\"\"\n",
    "    Function that trains and evaluates the model on K stratified train test splits\n",
    "    \"\"\"\n",
    "    \n",
    "    # Define stratified kfold and number of splits\n",
    "    skf = StratifiedKFold(n_splits = n_splits)\n",
    "    skf.get_n_splits(all_image, all_labels)\n",
    "\n",
    "    val_accuracy_list = []\n",
    "\n",
    "    # Iterate over the splits\n",
    "    for train_index, test_index in skf.split(all_image, y_ints_all):\n",
    "        print(\"TRAIN:\", train_index, \"TEST:\", test_index)\n",
    "        X_train, X_test = all_image[train_index], all_image[test_index]\n",
    "        y_train, y_test = all_labels[train_index], all_labels[test_index]\n",
    "\n",
    "        model_1 = build_model()\n",
    "\n",
    "        # Call train and evaluate for every split\n",
    "        val_accuracy = train_and_evaluate(model_1, X_train, y_train, X_test, y_test, epochs = 10)\n",
    "        val_accuracy_list.append(val_accuracy)\n",
    "    \n",
    "    # Print the mean accuracies\n",
    "    print(\"------------------------------------------------------------------\")\n",
    "    print(f\"The mean accuracy of {n_splits} folds is {np.mean(val_accuracy_list)}\")\n",
    "\n",
    "stratified_kfold()"
   ]
  },
  {
   "cell_type": "markdown",
   "id": "317948f9",
   "metadata": {},
   "source": []
  },
  {
   "cell_type": "markdown",
   "id": "bd2573ce",
   "metadata": {},
   "source": [
    "## SMOTE\n",
    "In the cell below, we oversample the minority classes in the training data to try and combat the data imbalance. We can try and adjust the parameters of the smote to set a limit to which classes get oversampled. This is important as it may be ineffective to oversample the smallest classes. \n",
    "    "
   ]
  },
  {
   "cell_type": "code",
   "execution_count": null,
   "id": "953e7904",
   "metadata": {},
   "outputs": [],
   "source": [
    "def smote_data(image_train, smote_dict, k = 4):\n",
    "    \"\"\"\n",
    "    Function that oversamples the minority classes of the given data based on K neighbors\n",
    "    \"\"\"\n",
    "    # Convert labels into ints\n",
    "    y_ints = [y.argmax() for y in label_train]\n",
    "    \n",
    "    # Get shape of the train data\n",
    "    nsamples, nx, ny, nz = image_train.shape\n",
    "\n",
    "    # Create two dimensional traindata\n",
    "    d2_train_dataset = image_train.reshape((nsamples, nx * ny * nz))\n",
    "\n",
    "    # Define smote for minority classes\n",
    "    smote = SMOTE(sampling_strategy = smote_dict, k_neighbors = k)\n",
    "\n",
    "    # Apply smote to our 2 dim traning data\n",
    "    X_smote, y_smote = smote.fit_resample(d2_train_dataset , y_ints)\n",
    "\n",
    "    # Convert labels back to one hot\n",
    "    y_smote = tf.keras.utils.to_categorical(y_smote, num_classes=121)\n",
    "    \n",
    "    # Print the new shape to see how this affected the data\n",
    "    print(f\"The shape of X after smote is: {X_smote.shape}, the shape of y after smote is: {y_smote.shape}\")\n",
    "\n",
    "    # Reshape the smote data into the original format\n",
    "    smoted_train = X_smote.reshape((X_smote.shape[0], nx, ny, nz))\n",
    "\n",
    "    # Check the shapes\n",
    "    print(f\"The shape of X after smote and reshaping is {smoted_train.shape}\")\n",
    "    \n",
    "    return smoted_train, y_smote\n",
    "\n",
    "smoted_train, y_smote = smote_data(image_train, smote_dict)"
   ]
  },
  {
   "cell_type": "code",
   "execution_count": null,
   "id": "4bce82af",
   "metadata": {},
   "outputs": [],
   "source": [
    "def decayed_learning_rate(step, initial_learning_rate = 0.001, decay_rate = 1, decay_steps = 10000):\n",
    "  return initial_learning_rate * decay_rate ** (step / decay_steps)\n",
    "\n",
    "print(decayed_learning_rate(100))"
   ]
  },
  {
   "cell_type": "code",
   "execution_count": null,
   "id": "01f2f761",
   "metadata": {},
   "outputs": [],
   "source": [
    "# Define list of class names that our model makes the most errors with\n",
    "error_class_names = [\"trichodesmium_tuft\", \n",
    "                     \"protist_other\", \n",
    "                     \"protist_noctiluca\", \n",
    "                     \"hydromedusae_narco_young\", \n",
    "                     \"fecal_pellet\",\n",
    "                     \"detritus_other\",\n",
    "                     \"detritus_filamentous\",\n",
    "                     \"detritus_blob\",\n",
    "                     \"copepod_calanoid\",\n",
    "                     \"chaetognath_other\",\n",
    "                     \"chaetognath_sagitta\",\n",
    "                     \"chaetognath_non_sagitta\",\n",
    "                     \"appendicularian_straight\",\n",
    "                     \"appendicularian_slight_curve\"]\n",
    "\n",
    "max_class_size = 1300\n",
    "\n",
    "# Define empty list to fill with indexes of the classes thet cause the most errors\n",
    "error_classes_index = []\n",
    "\n",
    "# Define empty list to fill with the class sizes\n",
    "error_classes_size = []\n",
    "\n",
    "# Define empty dictionary with the classes that will be oversampled as keys and the number of total samples to arrive at as values\n",
    "smote_dict_hard = {}\n",
    "\n",
    "# Iterate over the class names to append their indices to the index list\n",
    "for classname in error_class_names:    \n",
    "    error_classes_index.append(np.where(np.array(categories_list) == classname)[0][0])\n",
    "\n",
    "# Iterate over the indices to find the corresponding class size\n",
    "for indice in error_classes_index:\n",
    "    error_classes_size.append(class_size_list[indice])\n",
    "\n",
    "# iterate over the error classes and add them to the dictionary if they are smaller than the max class size\n",
    "for num in range(len(error_classes_index)):\n",
    "    if error_classes_size[num] < max_class_size:\n",
    "        smote_dict_hard[error_classes_index[num]] = max_class_size"
   ]
  },
  {
   "cell_type": "markdown",
   "id": "f93602ba",
   "metadata": {},
   "source": [
    " ## Handling mixed input\n",
    " \n",
    " ### Getting extra features"
   ]
  },
  {
   "cell_type": "code",
   "execution_count": null,
   "id": "22d8e3c3",
   "metadata": {},
   "outputs": [],
   "source": [
    "## LABELS AS TEST FEATURES\n",
    "\n",
    "# turn one-hot categorized labels matrix into one-dimensional list of labels\n",
    "train_class_labels = np.argmax(label_train, axis=1);\n",
    "val_class_labels = np.argmax(label_val, axis=1);\n",
    "\n",
    "# transpose so it works with concatenate\n",
    "train_class_labels = np.transpose(train_class_labels);\n",
    "val_class_labels = np.transpose(val_class_labels);\n",
    "\n",
    "# change dtype so it's compatible with the output of convolutional neural network\n",
    "train_class_labels = np.ndarray.astype(train_class_labels, 'float32');\n",
    "val_class_labels = np.ndarray.astype(val_class_labels, 'float32');\n",
    "\n",
    "# test if things worked\n",
    "print(train_class_labels.shape);\n",
    "print(val_class_labels.shape);\n",
    "print(train_class_labels.dtype);\n",
    "\n",
    "\n",
    "## ACTUAL FEATURES\n",
    "\n",
    "train_heights = []\n",
    "train_widths = []\n",
    "train_ratios = []\n",
    "val_heights = []\n",
    "val_widths = []\n",
    "val_ratios = []\n",
    "\n",
    "for img in im_train:\n",
    "  train_heights.append(img.shape[0])\n",
    "  train_widths.append(img.shape[1])\n",
    "  train_ratios.append(img.shape[0] / img.shape[1])\n",
    "\n",
    "for img in im_val:\n",
    "  val_heights.append(img.shape[0])\n",
    "  val_widths.append(img.shape[1])\n",
    "  val_ratios.append(img.shape[0] / img.shape[1])\n",
    "\n",
    "train_features = np.stack((train_heights, train_widths, train_ratios), axis=1)\n",
    "val_features = np.stack((val_heights, val_widths, val_ratios), axis = 1)"
   ]
  },
  {
   "cell_type": "markdown",
   "id": "0c99a858",
   "metadata": {},
   "source": [
    "## The Model"
   ]
  },
  {
   "cell_type": "code",
   "execution_count": null,
   "id": "5f159020",
   "metadata": {},
   "outputs": [],
   "source": [
    "alpha = 0.15\n",
    "kernelsize = (3,3)\n",
    "num_of_features = 3\n",
    "\n",
    "extra_features = layers.Input(shape=(num_of_features,))\n",
    "\n",
    "conv = models.Sequential()\n",
    "\n",
    "conv.add(layers.Conv2D(32, kernelsize, activation = layers.LeakyReLU(alpha=alpha), padding = 'same', input_shape = (64, 64, 1)))\n",
    "conv.add(layers.Conv2D(32, kernelsize, activation = layers.LeakyReLU(alpha=alpha), padding = 'same'))\n",
    "conv.add(layers.MaxPooling2D((2, 2)))\n",
    "conv.add(layers.Dropout(0.5))\n",
    "\n",
    "conv.add(layers.Conv2D(64, kernelsize, activation = layers.LeakyReLU(alpha = alpha), padding = 'same'))\n",
    "conv.add(layers.Conv2D(64, kernelsize, activation = layers.LeakyReLU(alpha = alpha), padding = 'same'))\n",
    "conv.add(layers.MaxPooling2D((2, 2)))\n",
    "conv.add(layers.Dropout(0.5))\n",
    "\n",
    "conv.add(layers.Conv2D(128, kernelsize, activation = layers.LeakyReLU(alpha = alpha), padding = 'same'))\n",
    "conv.add(layers.Conv2D(128, kernelsize, activation = layers.LeakyReLU(alpha = alpha), padding = 'same'))\n",
    "conv.add(layers.MaxPooling2D((2, 2)))\n",
    "conv.add(layers.Dropout(0.5))\n",
    "\n",
    "conv.add(layers.Conv2D(128, kernelsize, activation = layers.LeakyReLU(alpha = alpha), padding = 'same'))\n",
    "conv.add(layers.Conv2D(128, kernelsize, activation = layers.LeakyReLU(alpha = alpha), padding = 'same'))\n",
    "conv.add(layers.MaxPooling2D((2, 2)))\n",
    "conv.add(layers.Dropout(0.5))\n",
    "\n",
    "conv.add(layers.Flatten())\n",
    "\n",
    "combined_input = layers.concatenate([conv.output, extra_features])\n",
    "\n",
    "final = layers.Dense(1024, activation = layers.LeakyReLU(alpha = alpha))(combined_input)\n",
    "final = layers.Dropout(0.5)(final)\n",
    "final = layers.Dense(512, activation = layers.LeakyReLU(alpha = alpha))(final)\n",
    "final = layers.Dropout(0.5)(final)\n",
    "final = layers.Dense(121, activation = 'softmax')(final)\n",
    "\n",
    "model = models.Model(inputs=[conv.input, extra_features], outputs=final)\n",
    "\n",
    "model.compile(loss='categorical_crossentropy', optimizer=tf.keras.optimizers.Adam(learning_rate=0.00009), metrics=['accuracy'])\n",
    "\n",
    "\n",
    "# TRAIN THE MODEL\n",
    "\n",
    "print(\"[INFO] training model...\")\n",
    "\n",
    "history = model.fit(x=[image_train, train_features],\n",
    "          y=label_train,\n",
    "          validation_data=([image_val, val_features], label_val),\n",
    "          epochs=120)\n",
    "\n",
    "fig, axs = plt.subplots(1,2,figsize=(20,5)) \n",
    "\n",
    "for i, metric in enumerate(['loss', 'accuracy']):\n",
    "        axs[i].plot(history.history[metric])\n",
    "        axs[i].plot(history.history['val_'+metric])\n",
    "        axs[i].legend(['training', 'validation'], loc='best')\n",
    "\n",
    "        axs[i].set_title('Model '+metric)\n",
    "        axs[i].set_ylabel(metric)\n",
    "        axs[i].set_xlabel('epoch')"
   ]
  }
 ],
 "metadata": {
  "accelerator": "GPU",
  "colab": {
   "name": "Plankton.ipynb",
   "provenance": []
  },
  "kernelspec": {
   "display_name": "Python 3 (ipykernel)",
   "language": "python",
   "name": "python3"
  },
  "language_info": {
   "codemirror_mode": {
    "name": "ipython",
    "version": 3
   },
   "file_extension": ".py",
   "mimetype": "text/x-python",
   "name": "python",
   "nbconvert_exporter": "python",
   "pygments_lexer": "ipython3",
   "version": "3.7.11"
  }
 },
 "nbformat": 4,
 "nbformat_minor": 5
}
