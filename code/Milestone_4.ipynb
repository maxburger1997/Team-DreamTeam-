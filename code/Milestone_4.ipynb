{
  "cells": [
    {
      "cell_type": "markdown",
      "id": "e2a4f57f",
      "metadata": {
        "id": "e2a4f57f"
      },
      "source": [
        "# Machine Learning Project 2022: Plankton\n",
        "\n",
        "### Authors:\n",
        "- Bram Fresen\n",
        "- Bram Huis\n",
        "- Max Burger\n",
        "- Moos Middelkoop\n",
        "\n",
        "For the Machine Learning Project to finish off the minor Artificial Intelligence, we chose to tackle the plankton problem, originally uploaded as the United States national data science bowl in december 2014. For this problem, the goal is to classify microscopic images of particles in water as one of 121 different classes of plankton. The dataset is 30.000 images large, with varying sizes. The dataset is also imbalanced.\n",
        "\n",
        "In order to solve this problem we will make use of a Convolutional Neural Network using the tensorflow library."
      ]
    },
    {
      "cell_type": "code",
      "execution_count": 4,
      "id": "sNNILgDqcVuS",
      "metadata": {
        "id": "sNNILgDqcVuS",
        "outputId": "eaae4673-a3de-45af-8437-c0c29ba0693e",
        "colab": {
          "base_uri": "https://localhost:8080/"
        }
      },
      "outputs": [
        {
          "output_type": "stream",
          "name": "stdout",
          "text": [
            "Mounted at /content/drive\n"
          ]
        }
      ],
      "source": [
        "from google.colab import drive\n",
        "drive.mount('/content/drive')"
      ]
    },
    {
      "cell_type": "markdown",
      "id": "fb144121",
      "metadata": {
        "id": "fb144121"
      },
      "source": [
        "## Import libraries\n",
        "\n",
        "Firstly, we will import the needed libraries, and check if we are running on a GPU."
      ]
    },
    {
      "cell_type": "code",
      "execution_count": 5,
      "id": "ccc8cd45",
      "metadata": {
        "id": "ccc8cd45",
        "outputId": "ff461fdb-c567-4919-f6f8-acf498bbfb22",
        "colab": {
          "base_uri": "https://localhost:8080/"
        }
      },
      "outputs": [
        {
          "output_type": "stream",
          "name": "stdout",
          "text": [
            "[PhysicalDevice(name='/physical_device:GPU:0', device_type='GPU')]\n"
          ]
        }
      ],
      "source": [
        "import tensorflow as tf \n",
        "import numpy as np\n",
        "import cv2\n",
        "import os\n",
        "import random\n",
        "import matplotlib.pyplot as plt\n",
        "import math\n",
        "import seaborn as sns\n",
        "\n",
        "from tensorflow import math as tfmath\n",
        "from tensorflow.keras import layers, models, preprocessing\n",
        "from sklearn.model_selection import train_test_split, StratifiedKFold\n",
        "from sklearn.utils import class_weight\n",
        "\n",
        "print(tf.config.list_physical_devices('GPU'))"
      ]
    },
    {
      "cell_type": "markdown",
      "id": "0d80ec50",
      "metadata": {
        "id": "0d80ec50"
      },
      "source": [
        "## Loading the training data and training labels\n",
        "\n",
        "We use the cv2 library to load the training images (which are .jpg files), and turn them into arrays. This piece of code was found online:\n",
        "\n",
        "https://stackoverflow.com/questions/30230592/loading-all-images-using-imread-from-a-given-folder\n",
        "https://drive.google.com/file/d/1hAaPzDMVEZ8X1tfRS2ieFEqi0R7Ww7uL/view"
      ]
    },
    {
      "cell_type": "markdown",
      "id": "c851be41",
      "metadata": {
        "id": "c851be41"
      },
      "source": [
        "### Training data\n",
        "\n",
        "Training data is sorted into folders by class, this next piece of code reads in the training data, puts it in an array, and constructs an array for the classes by using the names of the folders. At the end, this array for the labels is turned into a one-hot matrix, so that tensorflow can work with it.\n",
        "\n",
        "We also delete the unnecessary channels here already, all input images consist of 3 channels with exactly the same values, so we drop two of them in order to remove redundant data."
      ]
    },
    {
      "cell_type": "code",
      "execution_count": 6,
      "id": "024ae544",
      "metadata": {
        "id": "024ae544",
        "outputId": "36f6251e-0eac-4e54-a99b-2f42623c41fb",
        "colab": {
          "base_uri": "https://localhost:8080/"
        }
      },
      "outputs": [
        {
          "output_type": "stream",
          "name": "stdout",
          "text": [
            "0\n",
            "1\n",
            "2\n",
            "3\n",
            "4\n",
            "5\n",
            "6\n",
            "7\n",
            "8\n",
            "9\n",
            "10\n",
            "11\n",
            "12\n",
            "13\n",
            "14\n",
            "15\n",
            "16\n",
            "17\n",
            "18\n",
            "19\n",
            "20\n",
            "21\n",
            "22\n",
            "23\n",
            "24\n",
            "25\n",
            "26\n",
            "27\n",
            "28\n",
            "29\n",
            "30\n",
            "31\n",
            "32\n",
            "33\n",
            "34\n",
            "35\n",
            "36\n",
            "37\n",
            "38\n",
            "39\n",
            "40\n",
            "41\n",
            "42\n",
            "43\n",
            "44\n",
            "45\n",
            "46\n",
            "47\n",
            "48\n",
            "49\n",
            "50\n",
            "51\n",
            "52\n",
            "53\n",
            "54\n",
            "55\n",
            "56\n",
            "57\n",
            "58\n",
            "59\n",
            "60\n",
            "61\n",
            "62\n",
            "63\n",
            "64\n",
            "65\n",
            "66\n",
            "67\n",
            "68\n",
            "69\n",
            "70\n",
            "71\n",
            "72\n",
            "73\n",
            "74\n",
            "75\n",
            "76\n",
            "77\n",
            "78\n",
            "79\n",
            "80\n",
            "81\n",
            "82\n",
            "83\n",
            "84\n",
            "85\n",
            "86\n",
            "87\n",
            "88\n",
            "89\n",
            "90\n",
            "91\n",
            "92\n",
            "93\n",
            "94\n",
            "95\n",
            "96\n",
            "97\n",
            "98\n",
            "99\n",
            "100\n",
            "101\n",
            "102\n",
            "103\n",
            "104\n",
            "105\n",
            "106\n",
            "107\n",
            "108\n",
            "109\n",
            "110\n",
            "111\n",
            "112\n",
            "113\n",
            "114\n",
            "115\n",
            "116\n",
            "117\n",
            "118\n",
            "119\n",
            "120\n",
            "121\n"
          ]
        }
      ],
      "source": [
        "def read_data(folder):\n",
        "    # Create empty lists for the not resized training data, the labels (not one hot encoded yet) and the class sizes\n",
        "    train_data = []\n",
        "    train_labels = []\n",
        "    class_size_list = []\n",
        "    categories_list =[]\n",
        "    offset = 0\n",
        "\n",
        "    # Loop through the index (for the one hot matrix) and the categories\n",
        "    for number, categories in enumerate(os.listdir(folder)):\n",
        "        class_size = 0\n",
        "        categories_list.append(categories)\n",
        "        print(number)\n",
        "\n",
        "        # If we come across a hidden folder (starting with \".\") on mac os, we ignore it\n",
        "        if categories[0] == \".\":\n",
        "            offset += 1\n",
        "            continue\n",
        "\n",
        "        # Loop through the images , add 1 to the class size, read the images in in and add them to a list, \n",
        "        # also add the index 'number' to a list for the one hot matrix\n",
        "        for image in os.listdir(f'{folder}/{categories}'):\n",
        "            class_size += 1\n",
        "            train_labels.append(number - offset)\n",
        "            img = cv2.imread(os.path.join(f'{folder}/{categories}', image))\n",
        "            train_data.append(img[:, :, 0])\n",
        "      \n",
        "        # Append the size of the class to the class size list, in order to check the class sizes later, this way we\n",
        "        # can ananlyze the degree of class imbalance\n",
        "        class_size_list.append(class_size)\n",
        "\n",
        "    # Create a one hot matrix from the train labels\n",
        "    train_labels_one_hot = tf.keras.utils.to_categorical(train_labels, num_classes=121)\n",
        "  \n",
        "    return train_data, train_labels_one_hot, class_size_list, categories_list\n",
        "\n",
        "train_data, train_labels, class_size_list, categories_list = read_data('drive/MyDrive/MLP data/train')\n"
      ]
    },
    {
      "cell_type": "markdown",
      "id": "1d7d208c",
      "metadata": {
        "id": "1d7d208c"
      },
      "source": [
        "# Resize input images\n",
        "\n",
        "Because all images are differnt sizes, it is necessary to resize all input data to the same size, in order to make tensorflow be able to work with the data. The first cell below analyzes the sizes of the data, and the second cell actually resizes, based on this analysis. An essential element is explicitly adding a third dimension with a value of 1 to the images, otherwise tensorflow can't work with the data. Lastly, the data is converted into numpy arrays, so tensorflow will be able to work with them"
      ]
    },
    {
      "cell_type": "code",
      "execution_count": 7,
      "id": "5838d255",
      "metadata": {
        "id": "5838d255",
        "outputId": "c5b04c5c-a65b-4e2b-f223-46c49ac209a6",
        "colab": {
          "base_uri": "https://localhost:8080/",
          "height": 323
        }
      },
      "outputs": [
        {
          "output_type": "stream",
          "name": "stdout",
          "text": [
            "Average dimensions: 66.67943150414528, 73.50931043558363\n",
            "Lowest first dimension image (21, 51)\n",
            "Lowest second dimension image (31, 47)\n"
          ]
        },
        {
          "output_type": "display_data",
          "data": {
            "image/png": "[encoded data removed]",
            "text/plain": [
              "<Figure size 432x288 with 1 Axes>"
            ]
          },
          "metadata": {
            "needs_background": "light"
          }
        }
      ],
      "source": [
        "# Start with an infinitely large number\n",
        "value_1 = math.inf\n",
        "value_2 = math.inf\n",
        "sum_1 = 0\n",
        "sum_2 = 0\n",
        "count = 0\n",
        "\n",
        "# This checks for the lowest image size in the first and second dimension\n",
        "for image in train_data:\n",
        "    count+=1\n",
        "    sum_1 += image.shape[0]\n",
        "    sum_2 += image.shape[1]\n",
        "    if image.shape[0] < value_1:\n",
        "        \n",
        "        value_1 = image.shape[0]\n",
        "        hold_1 = image.shape\n",
        "    if image.shape[1] < value_2:\n",
        "        \n",
        "        value_2 = image.shape[0]\n",
        "        hold_2 = image.shape\n",
        "        \n",
        "sum_11 = sum_1 / count\n",
        "sum_22 = sum_2 / count\n",
        "\n",
        "print(f'Average dimensions: {sum_11}, {sum_22}')\n",
        "\n",
        "plt.imshow(train_data[0], cmap = 'gray')\n",
        "\n",
        "print(f'Lowest first dimension image {hold_1}')\n",
        "print(f'Lowest second dimension image {hold_2}')"
      ]
    },
    {
      "cell_type": "markdown",
      "source": [
        "## Make train and validation split"
      ],
      "metadata": {
        "id": "OhwJsuiSYU-A"
      },
      "id": "OhwJsuiSYU-A"
    },
    {
      "cell_type": "code",
      "source": [
        "#Split the data into 70% training and 30% validation\n",
        "im_train, im_val, lab_train, lab_val = train_test_split(train_data, train_labels, train_size=0.7, random_state=1265599650)"
      ],
      "metadata": {
        "id": "_HSAQcXaYXhW"
      },
      "id": "_HSAQcXaYXhW",
      "execution_count": 9,
      "outputs": []
    },
    {
      "cell_type": "markdown",
      "id": "798de0f3",
      "metadata": {
        "id": "798de0f3"
      },
      "source": [
        "## Resizing Function\n",
        "\n",
        "In the cell below, we define a function that resizes a given image to a dimension given the optimal manner of up- or downscaling. "
      ]
    },
    {
      "cell_type": "code",
      "execution_count": 10,
      "id": "ff1a2aa4",
      "metadata": {
        "id": "ff1a2aa4",
        "outputId": "e3364c6e-0dd1-470b-e106-845bc2bbbb34",
        "colab": {
          "base_uri": "https://localhost:8080/"
        }
      },
      "outputs": [
        {
          "output_type": "stream",
          "name": "stdout",
          "text": [
            "(64, 64, 1)\n",
            "(64, 64, 1)\n"
          ]
        }
      ],
      "source": [
        "def resizer(image, target_dimension):\n",
        "    '''\n",
        "    Takes an image and a desired dimension (tuple), and converts the image given the best interpolation method\n",
        "    '''\n",
        "\n",
        "    if len(image[0]) * len(image[1]) > target_dimension[0] * target_dimension[1]:\n",
        "        rescaled_image = np.expand_dims(cv2.resize(image, dsize = target_dimension, interpolation = cv2.INTER_AREA), axis = 2) \n",
        "    else:\n",
        "        rescaled_image = np.expand_dims(cv2.resize(image, dsize = target_dimension, interpolation = cv2.INTER_CUBIC), axis = 2)        \n",
        "    return rescaled_image    \n",
        "    \n",
        "# Create an empty lists\n",
        "train_data_resized = []\n",
        "val_data_resized = []\n",
        "target_dim = (64, 64)\n",
        "\n",
        "# Loop through the images in the training data and resize them to desired dimension\n",
        "for image in im_train:\n",
        "    train_data_resized.append(resizer(image, target_dim))\n",
        "\n",
        "for image in im_val:\n",
        "    val_data_resized.append(resizer(image, target_dim))\n",
        "\n",
        "# Test if the image is resized and show the image\n",
        "print(train_data_resized[0].shape)\n",
        "print(val_data_resized[0].shape)\n",
        "# plt.imshow(train_data_resized[0], cmap = 'gray')\n"
      ]
    },
    {
      "cell_type": "code",
      "execution_count": 11,
      "id": "9cddaa21",
      "metadata": {
        "id": "9cddaa21",
        "outputId": "b6eeb8ba-f70c-4a56-c6fb-afbbafadbfca",
        "colab": {
          "base_uri": "https://localhost:8080/"
        }
      },
      "outputs": [
        {
          "output_type": "stream",
          "name": "stdout",
          "text": [
            "(21277, 64, 64, 1)\n",
            "(21277, 121)\n",
            "(9119, 64, 64, 1)\n",
            "(9119, 121)\n"
          ]
        }
      ],
      "source": [
        "# Convert the data to numpy arrays, so tensorflow can use them\n",
        "image_train = np.array(train_data_resized)\n",
        "label_train = np.array(lab_train)\n",
        "image_val = np.array(val_data_resized)\n",
        "label_val = np.array(lab_val)\n",
        "\n",
        "# Test if the shapes are correct\n",
        "print(image_train.shape)\n",
        "print(label_train.shape)\n",
        "print(image_val.shape)\n",
        "print(label_val.shape)"
      ]
    },
    {
      "cell_type": "markdown",
      "id": "15024880",
      "metadata": {
        "id": "15024880"
      },
      "source": [
        "## Convolutional network\n",
        "\n",
        "We use the function 'train_and_evaluate' which, obviously, trains our model and then evaluates the trained model on the validation data. This function was reused from the CIFAR-assignment from module 6 of ML2."
      ]
    },
    {
      "cell_type": "markdown",
      "id": "e2ce50c7",
      "metadata": {
        "id": "e2ce50c7"
      },
      "source": [
        "Y_ints line: https://datascience.stackexchange.com/questions/13490/how-to-set-class-weights-for-imbalanced-classes-in-keras"
      ]
    },
    {
      "cell_type": "code",
      "execution_count": null,
      "id": "3b49593d",
      "metadata": {
        "id": "3b49593d"
      },
      "outputs": [],
      "source": [
        "def train_and_evaluate(model, train_x, train_y, val_x, val_y, preprocess={}, epochs=20, augment={}, opt=tf.keras.optimizers.Adam(learning_rate=0.00009)):\n",
        "    \n",
        "    model.compile(loss='categorical_crossentropy', optimizer=opt, metrics=['accuracy'])\n",
        "\n",
        "    train_gen = preprocessing.image.ImageDataGenerator(**preprocess, **augment)\n",
        "    train_gen.fit(train_x) \n",
        "\n",
        "    val_gen = preprocessing.image.ImageDataGenerator(**preprocess)\n",
        "    val_gen.fit(train_x)\n",
        "    \n",
        "    # used for k-fold\n",
        "    y_ints = [y.argmax() for y in train_x]\n",
        "    class_weights = class_weight.compute_class_weight('balanced',classes = np.unique(y_ints), y = y_ints)\n",
        "    \n",
        "    history = model.fit(train_gen.flow(train_x, train_y), epochs=epochs, \n",
        "                        validation_data=val_gen.flow(val_x, val_y))\n",
        "\n",
        "    fig, axs = plt.subplots(1,2,figsize=(20,5)) \n",
        "\n",
        "    for i, metric in enumerate(['loss', 'accuracy']):\n",
        "        axs[i].plot(history.history[metric])\n",
        "        axs[i].plot(history.history['val_'+metric])\n",
        "        axs[i].legend(['training', 'validation'], loc='best')\n",
        "\n",
        "        axs[i].set_title('Model '+metric)\n",
        "        axs[i].set_ylabel(metric)\n",
        "        axs[i].set_xlabel('epoch')\n",
        "\n",
        "    plt.show()\n",
        "\n",
        "    print(f\"Validation Accuracy: {model.evaluate(val_gen.flow(val_x, val_y))[1]}\")\n",
        "    return model.evaluate(val_gen.flow(val_x, val_y))[1]"
      ]
    },
    {
      "cell_type": "markdown",
      "id": "3c2820be",
      "metadata": {
        "id": "3c2820be"
      },
      "source": [
        "## The actual model\n",
        "\n",
        "We start with a very simple convolutional neural network, with 2 convolutional layers, both with pooling afterwards, and one dense layer. kernelsize, amount of filters, amount of nodes are specified in the code cell. This first version of the model gives us a validation accuracy of approximately 64%"
      ]
    },
    {
      "cell_type": "code",
      "execution_count": null,
      "id": "74a184d5",
      "metadata": {
        "id": "74a184d5"
      },
      "outputs": [],
      "source": [
        "first_layer_filters = 32\n",
        "second_layer_filters = 64\n",
        "third_layer_filters = 128\n",
        "fourth_layer_filters = 128\n",
        "alpha = 0.15\n",
        "\n",
        "kernelsize = (3,3)\n",
        "inputshape = (64,64, 1)\n",
        "first_hidden_layer_nodes = 1024\n",
        "second_hidden_layer_nodes = 512\n",
        "\n",
        "output_nodes = 121\n",
        "\n",
        "model_1 = models.Sequential()\n",
        "\n",
        "model_1.add(layers.Conv2D(first_layer_filters, kernelsize, activation = layers.LeakyReLU(alpha = alpha), padding = 'same', input_shape = inputshape))\n",
        "model_1.add(layers.Conv2D(first_layer_filters, kernelsize, activation = layers.LeakyReLU(alpha = alpha), padding = 'same'))\n",
        "model_1.add(layers.MaxPooling2D((2, 2)))\n",
        "model_1.add(layers.Dropout(0.5))\n",
        "\n",
        "model_1.add(layers.Conv2D(second_layer_filters, kernelsize, activation = layers.LeakyReLU(alpha = alpha), padding = 'same'))\n",
        "model_1.add(layers.Conv2D(second_layer_filters, kernelsize, activation = layers.LeakyReLU(alpha = alpha), padding = 'same'))\n",
        "model_1.add(layers.MaxPooling2D((2, 2)))\n",
        "model_1.add(layers.Dropout(0.5))\n",
        "\n",
        "model_1.add(layers.Conv2D(third_layer_filters, kernelsize, activation = layers.LeakyReLU(alpha = alpha), padding = 'same'))\n",
        "model_1.add(layers.Conv2D(third_layer_filters, kernelsize, activation = layers.LeakyReLU(alpha = alpha), padding = 'same'))\n",
        "model_1.add(layers.MaxPooling2D((2, 2)))\n",
        "model_1.add(layers.Dropout(0.5))\n",
        "\n",
        "model_1.add(layers.Conv2D(fourth_layer_filters, kernelsize, activation = layers.LeakyReLU(alpha = alpha), padding = 'same'))\n",
        "model_1.add(layers.Conv2D(fourth_layer_filters, kernelsize, activation = layers.LeakyReLU(alpha = alpha), padding = 'same'))\n",
        "model_1.add(layers.MaxPooling2D((2, 2)))\n",
        "model_1.add(layers.Dropout(0.5))\n",
        "\n",
        "model_1.add(layers.Flatten())\n",
        "model_1.add(layers.Dense(first_hidden_layer_nodes, activation = layers.LeakyReLU(alpha = alpha)))\n",
        "model_1.add(layers.Dropout(0.5))\n",
        "model_1.add(layers.Dense(second_hidden_layer_nodes, activation = layers.LeakyReLU(alpha = alpha)))\n",
        "model_1.add(layers.Dropout(0.5))\n",
        "model_1.add(layers.Dense(output_nodes, activation = 'softmax'))\n",
        "\n",
        "train_and_evaluate(model_1, image_train, label_train, image_val, label_val, epochs = 110)"
      ]
    },
    {
      "cell_type": "code",
      "execution_count": null,
      "id": "f8ace847",
      "metadata": {
        "id": "f8ace847"
      },
      "outputs": [],
      "source": [
        "model_1.summary()\n"
      ]
    },
    {
      "cell_type": "markdown",
      "id": "1FV_kXH6EZA_",
      "metadata": {
        "id": "1FV_kXH6EZA_"
      },
      "source": [
        "## Different resizing "
      ]
    },
    {
      "cell_type": "code",
      "execution_count": null,
      "id": "6ed76964",
      "metadata": {
        "id": "6ed76964"
      },
      "outputs": [],
      "source": [
        "# Filter out the largest example (and possibily the second-largest) to illustrate resizing\n",
        "storage_1 = 0 \n",
        "storage_2 = 0\n",
        "store_img1 = None\n",
        "store_img2 = None\n",
        "for image in train_data:\n",
        "    store = image.shape[0]\n",
        "    if store > storage_1 and store > storage_2:\n",
        "        store_img1 = image\n",
        "        storage_1 = image.shape[0]\n",
        "    if store > storage_2 and store != storage_1:\n",
        "        store_img2 = image\n",
        "        storage_2 = image.shape[0]\n",
        "        \n",
        "\n",
        "# Plot the different manners of interpolation for comparison\n",
        "f, axarr = plt.subplots(2,3, figsize=(12, 12))\n",
        "axarr[0,0].imshow(store_img1, cmap = 'gray')\n",
        "axarr[0,0].set_title('Original picture:')\n",
        "axarr[1,0].imshow(cv2.resize(store_img1, dsize = (32, 32), interpolation = cv2.INTER_LINEAR), cmap = 'gray')\n",
        "axarr[1,0].set_title('Bilinear interpolation:')\n",
        "axarr[0,1].imshow(cv2.resize(store_img1, dsize = (32, 32), interpolation = cv2.INTER_AREA), cmap = 'gray')\n",
        "axarr[0,1].set_title('Pixel area relation interpolation:')\n",
        "axarr[1,1].imshow(cv2.resize(store_img1, dsize = (32, 32), interpolation = cv2.INTER_NEAREST), cmap = 'gray')\n",
        "axarr[1,1].set_title('Nearest-neighbor interpolation:')\n",
        "axarr[0,2].imshow(cv2.resize(store_img1, dsize = (32, 32), interpolation = cv2.INTER_CUBIC), cmap = 'gray')\n",
        "axarr[0,2].set_title('Bicubic interpolation:')\n",
        "axarr[1,2].imshow(cv2.resize(store_img1, dsize = (32, 32), interpolation = cv2.INTER_LANCZOS4), cmap = 'gray')\n",
        "axarr[1,2].set_title('Lanczos interpolation:')\n",
        "\n",
        "#plt.savefig('resizingmethods.png')"
      ]
    },
    {
      "cell_type": "code",
      "execution_count": null,
      "id": "c6cebbf9",
      "metadata": {
        "id": "c6cebbf9"
      },
      "outputs": [],
      "source": [
        "# First compute the predictions based on the trained model\n",
        "y_pred = tf.keras.utils.to_categorical(model_1.predict_classes(image_val))\n",
        "\n",
        "\n",
        "# Convert both actual and predict to utilize in conf matrix \n",
        "y_true = tf.argmax(label_val, axis=1)\n",
        "y_pred = tf.argmax(y_pred, axis=1)\n",
        "\n",
        "# Compute matrix\n",
        "conf_matrix = tfmath.confusion_matrix(y_true, y_pred)\n",
        "\n",
        "# Remove the diagonal for clearer image\n",
        "cnf_mtrx = np.array(conf_matrix)\n",
        "np.fill_diagonal(cnf_mtrx, 0)\n",
        "\n",
        "# Compute heatmap for abosulte numbers\n",
        "\n",
        "plt.figure(figsize=(60,60))\n",
        "ax = sns.heatmap(cnf_mtrx, annot=True, fmt=\"d\", xticklabels=categories_list, yticklabels=categories_list)\n",
        "ax.set(xlabel='Predicted Class', ylabel='Actual Class')\n",
        "plt.show()\n",
        "\n",
        "# Compute the relative (%) cf matrix and corresponding heatmap\n",
        "\n",
        "cnf_mtrx = np.nan_to_num((cnf_mtrx / cnf_mtrx.astype(np.float).sum()), copy=True, nan=0.0, posinf=None, neginf=None)\n",
        "plt.figure(figsize=(60,60))\n",
        "ax = sns.heatmap(cnf_mtrx, annot=True, xticklabels=categories_list, yticklabels=categories_list)\n",
        "ax.set(xlabel='Predicted Class', ylabel='Actual Class')\n",
        "\n",
        "plt.show()"
      ]
    },
    {
      "cell_type": "markdown",
      "id": "a30e73cd",
      "metadata": {
        "id": "a30e73cd"
      },
      "source": [
        "## Stratified K-folds\n",
        "\n",
        "In the cell below, we can train the model in K stratified folds, meaning we can test the model over different test and train splits that take the distribution of classes into account when making said splits."
      ]
    },
    {
      "cell_type": "code",
      "execution_count": null,
      "id": "ae9e9d96",
      "metadata": {
        "id": "ae9e9d96"
      },
      "outputs": [],
      "source": [
        "# Convert data to array before split to use in stratified kfolds\n",
        "all_image = np.array(train_data_resized)\n",
        "all_labels = np.array(train_labels)\n",
        "\n",
        "# Convert one hot matrix back to label vector\n",
        "y_ints_all = [y.argmax() for y in all_labels]\n",
        "y_ints_all = np.array(y_ints_all)\n",
        "\n",
        "n_splits = 5\n",
        "\n",
        "# Define stratified kfold and number of splits\n",
        "skf = StratifiedKFold(n_splits= n_splits)\n",
        "skf.get_n_splits(all_image, all_labels)\n",
        "\n",
        "StratifiedKFold(n_splits= n_splits, random_state= None, shuffle= False)\n",
        "\n",
        "val_accuracy_list = []\n",
        "\n",
        "# Iterate over the splits\n",
        "for train_index, test_index in skf.split(all_image, y_ints_all):\n",
        "    print(\"TRAIN:\", train_index, \"TEST:\", test_index)\n",
        "    X_train, X_test = all_image[train_index], all_image[test_index]\n",
        "    y_train, y_test = all_labels[train_index], all_labels[test_index]\n",
        "\n",
        "    \n",
        "    first_layer_filters = 32\n",
        "    second_layer_filters = 64\n",
        "    third_layers_filters = 128\n",
        "\n",
        "    kernelsize = (3,3)\n",
        "    inputshape = (27,27, 1)\n",
        "    first_hidden_layer_nodes = 1024\n",
        "    second_hidden_layer_nodes = 512\n",
        "    output_nodes = 121\n",
        "    optimizer = tf.keras.optimizers.Adam(lr=0.0001)\n",
        "    # optimizer = 'adam'\n",
        "\n",
        "    model_1 = models.Sequential()\n",
        "\n",
        "    model_1.add(layers.Conv2D(first_layer_filters, kernelsize, activation = 'relu', padding = 'same', input_shape = inputshape))\n",
        "    model_1.add(layers.MaxPooling2D((3, 3)))\n",
        "    model_1.add(layers.Dropout(0.2))\n",
        "\n",
        "\n",
        "    model_1.add(layers.Conv2D(second_layer_filters, kernelsize, activation = 'relu', padding = 'same'))\n",
        "    model_1.add(layers.MaxPooling2D((3, 3)))\n",
        "    model_1.add(layers.BatchNormalization())\n",
        "\n",
        "    model_1.add(layers.Flatten())\n",
        "    model_1.add(layers.Dropout(0.35))\n",
        "    model_1.add(layers.Dense(first_hidden_layer_nodes, activation = 'relu'))\n",
        "    model_1.add(layers.Dropout(0.35))\n",
        "    model_1.add(layers.Dense(second_hidden_layer_nodes, activation = 'relu'))\n",
        "    model_1.add(layers.Dropout(0.35))\n",
        "    model_1.add(layers.Dense(output_nodes, activation = 'softmax'))\n",
        "    \n",
        "    # Call train and evaluate for every split\n",
        "    val_accuracy = train_and_evaluate(model_1, X_train, y_train, X_test, y_test, epochs = 80)\n",
        "    val_accuracy_list.append(val_accuracy)\n",
        "print(\"------------------------------------------------------------------\")\n",
        "print(f\"The mean accuracy of {n_splits} folds is {np.mean(val_accuracy_list)}\")"
      ]
    },
    {
      "cell_type": "markdown",
      "source": [
        "## Handling mixed input data"
      ],
      "metadata": {
        "id": "WewbKPm83KUH"
      },
      "id": "WewbKPm83KUH"
    },
    {
      "cell_type": "code",
      "source": [
        "## LABELS AS TEST FEATURES\n",
        "\n",
        "# turn one-hot categorized labels matrix into one-dimensional list of labels\n",
        "train_class_labels = np.argmax(label_train, axis=1);\n",
        "val_class_labels = np.argmax(label_val, axis=1);\n",
        "\n",
        "# transpose so it works with concatenate\n",
        "train_class_labels = np.transpose(train_class_labels);\n",
        "val_class_labels = np.transpose(val_class_labels);\n",
        "\n",
        "# change dtype so it's compatible with the output of convolutional neural network\n",
        "train_class_labels = np.ndarray.astype(train_class_labels, 'float32');\n",
        "val_class_labels = np.ndarray.astype(val_class_labels, 'float32');\n",
        "\n",
        "# test if things worked\n",
        "print(train_class_labels.shape);\n",
        "print(val_class_labels.shape);\n",
        "print(train_class_labels.dtype);\n",
        "\n",
        "\n",
        "## ACTUAL FEATURES\n",
        "\n",
        "train_heights = []\n",
        "train_widths = []\n",
        "train_ratios = []\n",
        "val_heights = []\n",
        "val_widths = []\n",
        "val_ratios = []\n",
        "\n",
        "for img in im_train:\n",
        "  train_heights.append(img.shape[0])\n",
        "  train_widths.append(img.shape[1])\n",
        "  train_ratios.append(img.shape[0] / img.shape[1])\n",
        "\n",
        "for img in im_val:\n",
        "  val_heights.append(img.shape[0])\n",
        "  val_widths.append(img.shape[1])\n",
        "  val_ratios.append(img.shape[0] / img.shape[1])\n",
        "\n",
        "train_features = np.stack((train_heights, train_widths, train_ratios), axis=1)\n",
        "val_features = np.stack((val_heights, val_widths, val_ratios), axis = 1)"
      ],
      "metadata": {
        "id": "VqgDrPZ13Hid",
        "outputId": "38530205-fddb-4335-f92d-9449cab30ba5",
        "colab": {
          "base_uri": "https://localhost:8080/"
        }
      },
      "id": "VqgDrPZ13Hid",
      "execution_count": 15,
      "outputs": [
        {
          "output_type": "stream",
          "name": "stdout",
          "text": [
            "(21277,)\n",
            "(9119,)\n",
            "float32\n"
          ]
        }
      ]
    },
    {
      "cell_type": "code",
      "source": [
        "alpha = 0.15\n",
        "kernelsize = (3,3)\n",
        "num_of_features = 3\n",
        "\n",
        "extra_features = layers.Input(shape=(num_of_features,))\n",
        "\n",
        "conv = models.Sequential()\n",
        "\n",
        "conv.add(layers.Conv2D(32, kernelsize, activation = layers.LeakyReLU(alpha=alpha), padding = 'same', input_shape = (64, 64, 1)))\n",
        "conv.add(layers.Conv2D(32, kernelsize, activation = layers.LeakyReLU(alpha=alpha), padding = 'same'))\n",
        "conv.add(layers.MaxPooling2D((2, 2)))\n",
        "conv.add(layers.Dropout(0.5))\n",
        "\n",
        "conv.add(layers.Conv2D(64, kernelsize, activation = layers.LeakyReLU(alpha = alpha), padding = 'same'))\n",
        "conv.add(layers.Conv2D(64, kernelsize, activation = layers.LeakyReLU(alpha = alpha), padding = 'same'))\n",
        "conv.add(layers.MaxPooling2D((2, 2)))\n",
        "conv.add(layers.Dropout(0.5))\n",
        "\n",
        "conv.add(layers.Conv2D(128, kernelsize, activation = layers.LeakyReLU(alpha = alpha), padding = 'same'))\n",
        "conv.add(layers.Conv2D(128, kernelsize, activation = layers.LeakyReLU(alpha = alpha), padding = 'same'))\n",
        "conv.add(layers.MaxPooling2D((2, 2)))\n",
        "conv.add(layers.Dropout(0.5))\n",
        "\n",
        "conv.add(layers.Conv2D(128, kernelsize, activation = layers.LeakyReLU(alpha = alpha), padding = 'same'))\n",
        "conv.add(layers.Conv2D(128, kernelsize, activation = layers.LeakyReLU(alpha = alpha), padding = 'same'))\n",
        "conv.add(layers.MaxPooling2D((2, 2)))\n",
        "conv.add(layers.Dropout(0.5))\n",
        "\n",
        "conv.add(layers.Flatten())\n",
        "\n",
        "combined_input = layers.concatenate([conv.output, extra_features])\n",
        "\n",
        "final = layers.Dense(1024, activation = layers.LeakyReLU(alpha = alpha))(combined_input)\n",
        "final = layers.Dropout(0.5)(final)\n",
        "final = layers.Dense(512, activation = layers.LeakyReLU(alpha = alpha))(final)\n",
        "final = layers.Dropout(0.5)(final)\n",
        "final = layers.Dense(121, activation = 'softmax')(final)\n",
        "\n",
        "model = models.Model(inputs=[conv.input, extra_features], outputs=final)\n",
        "\n",
        "model.compile(loss='categorical_crossentropy', optimizer=tf.keras.optimizers.Adam(learning_rate=0.00009), metrics=['accuracy'])\n",
        "\n",
        "\n",
        "# TRAIN THE MODEL\n",
        "\n",
        "print(\"[INFO] training model...\")\n",
        "\n",
        "history = model.fit(x=[image_train, train_features],\n",
        "          y=label_train,\n",
        "          validation_data=([image_val, val_features], label_val),\n",
        "          epochs=120)\n",
        "\n",
        "fig, axs = plt.subplots(1,2,figsize=(20,5)) \n",
        "\n",
        "for i, metric in enumerate(['loss', 'accuracy']):\n",
        "        axs[i].plot(history.history[metric])\n",
        "        axs[i].plot(history.history['val_'+metric])\n",
        "        axs[i].legend(['training', 'validation'], loc='best')\n",
        "\n",
        "        axs[i].set_title('Model '+metric)\n",
        "        axs[i].set_ylabel(metric)\n",
        "        axs[i].set_xlabel('epoch')\n"
      ],
      "metadata": {
        "id": "NROlC7VC4LGT",
        "outputId": "9e0cb7db-9b44-433f-f153-4f7a91b7a87d",
        "colab": {
          "base_uri": "https://localhost:8080/",
          "height": 1000
        }
      },
      "id": "NROlC7VC4LGT",
      "execution_count": 18,
      "outputs": [
        {
          "output_type": "stream",
          "name": "stdout",
          "text": [
            "[INFO] training model...\n",
            "Epoch 1/120\n",
            "665/665 [==============================] - 33s 47ms/step - loss: 7.6698 - accuracy: 0.0462 - val_loss: 4.5496 - val_accuracy: 0.0474\n",
            "Epoch 2/120\n",
            "665/665 [==============================] - 31s 46ms/step - loss: 4.3380 - accuracy: 0.0869 - val_loss: 4.5760 - val_accuracy: 0.0475\n",
            "Epoch 3/120\n",
            "665/665 [==============================] - 29s 44ms/step - loss: 4.0860 - accuracy: 0.1099 - val_loss: 4.6156 - val_accuracy: 0.0513\n",
            "Epoch 4/120\n",
            "665/665 [==============================] - 28s 43ms/step - loss: 3.9375 - accuracy: 0.1253 - val_loss: 4.6328 - val_accuracy: 0.0487\n",
            "Epoch 5/120\n",
            "665/665 [==============================] - 28s 42ms/step - loss: 3.8306 - accuracy: 0.1425 - val_loss: 4.5440 - val_accuracy: 0.0500\n",
            "Epoch 6/120\n",
            "665/665 [==============================] - 28s 42ms/step - loss: 3.7117 - accuracy: 0.1604 - val_loss: 4.4378 - val_accuracy: 0.0566\n",
            "Epoch 7/120\n",
            "665/665 [==============================] - 28s 42ms/step - loss: 3.4596 - accuracy: 0.2043 - val_loss: 3.8934 - val_accuracy: 0.1335\n",
            "Epoch 8/120\n",
            "665/665 [==============================] - 30s 45ms/step - loss: 3.2283 - accuracy: 0.2364 - val_loss: 3.5659 - val_accuracy: 0.1737\n",
            "Epoch 9/120\n",
            "665/665 [==============================] - 28s 43ms/step - loss: 3.0027 - accuracy: 0.2714 - val_loss: 3.2878 - val_accuracy: 0.1971\n",
            "Epoch 10/120\n",
            "665/665 [==============================] - 28s 42ms/step - loss: 2.7976 - accuracy: 0.3088 - val_loss: 3.0408 - val_accuracy: 0.2272\n",
            "Epoch 11/120\n",
            "665/665 [==============================] - 28s 42ms/step - loss: 2.6042 - accuracy: 0.3361 - val_loss: 2.6327 - val_accuracy: 0.3126\n",
            "Epoch 12/120\n",
            "665/665 [==============================] - 30s 45ms/step - loss: 2.4546 - accuracy: 0.3607 - val_loss: 2.4818 - val_accuracy: 0.3373\n",
            "Epoch 13/120\n",
            "665/665 [==============================] - 28s 42ms/step - loss: 2.3360 - accuracy: 0.3802 - val_loss: 2.3138 - val_accuracy: 0.3760\n",
            "Epoch 14/120\n",
            "665/665 [==============================] - 28s 42ms/step - loss: 2.2282 - accuracy: 0.4023 - val_loss: 2.1950 - val_accuracy: 0.4036\n",
            "Epoch 15/120\n",
            "665/665 [==============================] - 30s 44ms/step - loss: 2.1524 - accuracy: 0.4187 - val_loss: 2.1425 - val_accuracy: 0.4249\n",
            "Epoch 16/120\n",
            "665/665 [==============================] - 28s 42ms/step - loss: 2.0747 - accuracy: 0.4272 - val_loss: 2.0055 - val_accuracy: 0.4483\n",
            "Epoch 17/120\n",
            "665/665 [==============================] - 28s 42ms/step - loss: 2.0051 - accuracy: 0.4461 - val_loss: 1.9118 - val_accuracy: 0.4761\n",
            "Epoch 18/120\n",
            "665/665 [==============================] - 28s 42ms/step - loss: 1.9525 - accuracy: 0.4565 - val_loss: 1.8807 - val_accuracy: 0.4806\n",
            "Epoch 19/120\n",
            "665/665 [==============================] - 28s 42ms/step - loss: 1.8996 - accuracy: 0.4703 - val_loss: 1.8811 - val_accuracy: 0.4897\n",
            "Epoch 20/120\n",
            "665/665 [==============================] - 28s 42ms/step - loss: 1.8355 - accuracy: 0.4839 - val_loss: 1.7936 - val_accuracy: 0.5005\n",
            "Epoch 21/120\n",
            "665/665 [==============================] - 28s 42ms/step - loss: 1.8107 - accuracy: 0.4909 - val_loss: 1.7088 - val_accuracy: 0.5181\n",
            "Epoch 22/120\n",
            "665/665 [==============================] - 28s 42ms/step - loss: 1.7550 - accuracy: 0.5052 - val_loss: 1.6405 - val_accuracy: 0.5451\n",
            "Epoch 23/120\n",
            "665/665 [==============================] - 30s 44ms/step - loss: 1.7212 - accuracy: 0.5161 - val_loss: 1.6151 - val_accuracy: 0.5501\n",
            "Epoch 24/120\n",
            "665/665 [==============================] - 28s 42ms/step - loss: 1.6791 - accuracy: 0.5247 - val_loss: 1.6393 - val_accuracy: 0.5459\n",
            "Epoch 25/120\n",
            "665/665 [==============================] - 28s 42ms/step - loss: 1.6481 - accuracy: 0.5297 - val_loss: 1.5979 - val_accuracy: 0.5500\n",
            "Epoch 26/120\n",
            "665/665 [==============================] - 30s 44ms/step - loss: 1.6099 - accuracy: 0.5419 - val_loss: 1.5729 - val_accuracy: 0.5617\n",
            "Epoch 27/120\n",
            "665/665 [==============================] - 28s 42ms/step - loss: 1.5883 - accuracy: 0.5457 - val_loss: 1.4361 - val_accuracy: 0.5956\n",
            "Epoch 28/120\n",
            "665/665 [==============================] - 28s 42ms/step - loss: 1.5593 - accuracy: 0.5514 - val_loss: 1.5022 - val_accuracy: 0.5853\n",
            "Epoch 29/120\n",
            "665/665 [==============================] - 28s 42ms/step - loss: 1.5311 - accuracy: 0.5588 - val_loss: 1.3772 - val_accuracy: 0.6100\n",
            "Epoch 30/120\n",
            "665/665 [==============================] - 28s 42ms/step - loss: 1.5005 - accuracy: 0.5669 - val_loss: 1.3823 - val_accuracy: 0.6128\n",
            "Epoch 31/120\n",
            "665/665 [==============================] - 28s 42ms/step - loss: 1.4672 - accuracy: 0.5719 - val_loss: 1.3919 - val_accuracy: 0.6097\n",
            "Epoch 32/120\n",
            "665/665 [==============================] - 29s 44ms/step - loss: 1.4436 - accuracy: 0.5838 - val_loss: 1.3106 - val_accuracy: 0.6262\n",
            "Epoch 33/120\n",
            "665/665 [==============================] - 28s 42ms/step - loss: 1.4215 - accuracy: 0.5787 - val_loss: 1.3494 - val_accuracy: 0.6219\n",
            "Epoch 34/120\n",
            "665/665 [==============================] - 29s 44ms/step - loss: 1.3986 - accuracy: 0.5896 - val_loss: 1.3043 - val_accuracy: 0.6345\n",
            "Epoch 35/120\n",
            "665/665 [==============================] - 28s 42ms/step - loss: 1.3785 - accuracy: 0.5915 - val_loss: 1.3460 - val_accuracy: 0.6208\n",
            "Epoch 36/120\n",
            "665/665 [==============================] - 30s 45ms/step - loss: 1.3538 - accuracy: 0.5986 - val_loss: 1.2806 - val_accuracy: 0.6403\n",
            "Epoch 37/120\n",
            "665/665 [==============================] - 28s 42ms/step - loss: 1.3408 - accuracy: 0.6036 - val_loss: 1.2560 - val_accuracy: 0.6390\n",
            "Epoch 38/120\n",
            "665/665 [==============================] - 28s 42ms/step - loss: 1.3213 - accuracy: 0.6089 - val_loss: 1.2666 - val_accuracy: 0.6392\n",
            "Epoch 39/120\n",
            "665/665 [==============================] - 28s 42ms/step - loss: 1.2924 - accuracy: 0.6149 - val_loss: 1.2386 - val_accuracy: 0.6462\n",
            "Epoch 40/120\n",
            "665/665 [==============================] - 28s 42ms/step - loss: 1.2764 - accuracy: 0.6201 - val_loss: 1.2454 - val_accuracy: 0.6449\n",
            "Epoch 41/120\n",
            "665/665 [==============================] - 28s 42ms/step - loss: 1.2682 - accuracy: 0.6231 - val_loss: 1.2121 - val_accuracy: 0.6524\n",
            "Epoch 42/120\n",
            "665/665 [==============================] - 28s 42ms/step - loss: 1.2416 - accuracy: 0.6288 - val_loss: 1.1766 - val_accuracy: 0.6586\n",
            "Epoch 43/120\n",
            "665/665 [==============================] - 29s 44ms/step - loss: 1.2302 - accuracy: 0.6309 - val_loss: 1.1894 - val_accuracy: 0.6531\n",
            "Epoch 44/120\n",
            "665/665 [==============================] - 28s 42ms/step - loss: 1.2136 - accuracy: 0.6337 - val_loss: 1.1893 - val_accuracy: 0.6583\n",
            "Epoch 45/120\n",
            "665/665 [==============================] - 28s 42ms/step - loss: 1.1974 - accuracy: 0.6365 - val_loss: 1.2000 - val_accuracy: 0.6617\n",
            "Epoch 46/120\n",
            "665/665 [==============================] - 28s 42ms/step - loss: 1.1790 - accuracy: 0.6414 - val_loss: 1.1873 - val_accuracy: 0.6666\n",
            "Epoch 47/120\n",
            "665/665 [==============================] - 28s 42ms/step - loss: 1.1655 - accuracy: 0.6447 - val_loss: 1.1763 - val_accuracy: 0.6695\n",
            "Epoch 48/120\n",
            "665/665 [==============================] - 28s 42ms/step - loss: 1.1619 - accuracy: 0.6481 - val_loss: 1.1774 - val_accuracy: 0.6648\n",
            "Epoch 49/120\n",
            "665/665 [==============================] - 28s 42ms/step - loss: 1.1297 - accuracy: 0.6546 - val_loss: 1.1593 - val_accuracy: 0.6641\n",
            "Epoch 50/120\n",
            "665/665 [==============================] - 28s 42ms/step - loss: 1.1138 - accuracy: 0.6589 - val_loss: 1.1472 - val_accuracy: 0.6711\n",
            "Epoch 51/120\n",
            "665/665 [==============================] - 28s 42ms/step - loss: 1.1194 - accuracy: 0.6575 - val_loss: 1.1617 - val_accuracy: 0.6697\n",
            "Epoch 52/120\n",
            "665/665 [==============================] - 28s 42ms/step - loss: 1.1097 - accuracy: 0.6581 - val_loss: 1.1087 - val_accuracy: 0.6765\n",
            "Epoch 53/120\n",
            "665/665 [==============================] - 29s 44ms/step - loss: 1.0916 - accuracy: 0.6640 - val_loss: 1.1331 - val_accuracy: 0.6731\n",
            "Epoch 54/120\n",
            "665/665 [==============================] - 28s 42ms/step - loss: 1.0675 - accuracy: 0.6708 - val_loss: 1.1278 - val_accuracy: 0.6743\n",
            "Epoch 55/120\n",
            "665/665 [==============================] - 28s 42ms/step - loss: 1.0663 - accuracy: 0.6697 - val_loss: 1.1228 - val_accuracy: 0.6768\n",
            "Epoch 56/120\n",
            "665/665 [==============================] - 28s 42ms/step - loss: 1.0526 - accuracy: 0.6757 - val_loss: 1.1142 - val_accuracy: 0.6785\n",
            "Epoch 57/120\n",
            "665/665 [==============================] - 28s 42ms/step - loss: 1.0416 - accuracy: 0.6722 - val_loss: 1.1516 - val_accuracy: 0.6768\n",
            "Epoch 58/120\n",
            "665/665 [==============================] - 28s 42ms/step - loss: 1.0325 - accuracy: 0.6795 - val_loss: 1.0996 - val_accuracy: 0.6806\n",
            "Epoch 59/120\n",
            "665/665 [==============================] - 28s 42ms/step - loss: 1.0207 - accuracy: 0.6814 - val_loss: 1.1164 - val_accuracy: 0.6768\n",
            "Epoch 60/120\n",
            "665/665 [==============================] - 29s 44ms/step - loss: 1.0008 - accuracy: 0.6888 - val_loss: 1.1177 - val_accuracy: 0.6838\n",
            "Epoch 61/120\n",
            "665/665 [==============================] - 30s 44ms/step - loss: 0.9991 - accuracy: 0.6867 - val_loss: 1.1149 - val_accuracy: 0.6825\n",
            "Epoch 62/120\n",
            "665/665 [==============================] - 30s 44ms/step - loss: 0.9961 - accuracy: 0.6871 - val_loss: 1.0921 - val_accuracy: 0.6868\n",
            "Epoch 63/120\n",
            "665/665 [==============================] - 29s 44ms/step - loss: 0.9830 - accuracy: 0.6873 - val_loss: 1.0856 - val_accuracy: 0.6845\n",
            "Epoch 64/120\n",
            "665/665 [==============================] - 29s 44ms/step - loss: 0.9594 - accuracy: 0.6973 - val_loss: 1.1124 - val_accuracy: 0.6826\n",
            "Epoch 65/120\n",
            "665/665 [==============================] - 28s 42ms/step - loss: 0.9645 - accuracy: 0.6969 - val_loss: 1.0973 - val_accuracy: 0.6874\n",
            "Epoch 66/120\n",
            "665/665 [==============================] - 28s 42ms/step - loss: 0.9433 - accuracy: 0.6991 - val_loss: 1.0938 - val_accuracy: 0.6900\n",
            "Epoch 67/120\n",
            "665/665 [==============================] - 28s 42ms/step - loss: 0.9386 - accuracy: 0.7048 - val_loss: 1.1316 - val_accuracy: 0.6784\n",
            "Epoch 68/120\n",
            "665/665 [==============================] - 29s 44ms/step - loss: 0.9225 - accuracy: 0.7088 - val_loss: 1.0694 - val_accuracy: 0.6932\n",
            "Epoch 69/120\n",
            "665/665 [==============================] - 28s 42ms/step - loss: 0.9270 - accuracy: 0.7079 - val_loss: 1.0816 - val_accuracy: 0.6888\n",
            "Epoch 70/120\n",
            "665/665 [==============================] - 28s 42ms/step - loss: 0.9127 - accuracy: 0.7116 - val_loss: 1.0658 - val_accuracy: 0.6940\n",
            "Epoch 71/120\n",
            "665/665 [==============================] - 28s 42ms/step - loss: 0.9066 - accuracy: 0.7141 - val_loss: 1.0619 - val_accuracy: 0.6942\n",
            "Epoch 72/120\n",
            "665/665 [==============================] - 28s 42ms/step - loss: 0.8887 - accuracy: 0.7164 - val_loss: 1.0576 - val_accuracy: 0.6944\n",
            "Epoch 73/120\n",
            "665/665 [==============================] - 28s 42ms/step - loss: 0.8746 - accuracy: 0.7168 - val_loss: 1.0636 - val_accuracy: 0.6927\n",
            "Epoch 74/120\n",
            "665/665 [==============================] - 28s 42ms/step - loss: 0.8784 - accuracy: 0.7204 - val_loss: 1.0726 - val_accuracy: 0.6915\n",
            "Epoch 75/120\n",
            "665/665 [==============================] - 28s 42ms/step - loss: 0.8815 - accuracy: 0.7210 - val_loss: 1.0992 - val_accuracy: 0.6874\n",
            "Epoch 76/120\n",
            "665/665 [==============================] - 28s 42ms/step - loss: 0.8610 - accuracy: 0.7231 - val_loss: 1.0594 - val_accuracy: 0.6970\n",
            "Epoch 77/120\n",
            "665/665 [==============================] - 28s 42ms/step - loss: 0.8535 - accuracy: 0.7259 - val_loss: 1.0761 - val_accuracy: 0.6978\n",
            "Epoch 78/120\n",
            "665/665 [==============================] - 30s 44ms/step - loss: 0.8462 - accuracy: 0.7252 - val_loss: 1.0832 - val_accuracy: 0.6929\n",
            "Epoch 79/120\n",
            "665/665 [==============================] - 28s 42ms/step - loss: 0.8495 - accuracy: 0.7231 - val_loss: 1.0881 - val_accuracy: 0.6994\n",
            "Epoch 80/120\n",
            "665/665 [==============================] - 29s 44ms/step - loss: 0.8397 - accuracy: 0.7305 - val_loss: 1.0634 - val_accuracy: 0.6989\n",
            "Epoch 81/120\n",
            "665/665 [==============================] - 28s 42ms/step - loss: 0.8363 - accuracy: 0.7299 - val_loss: 1.0769 - val_accuracy: 0.6992\n",
            "Epoch 82/120\n",
            "665/665 [==============================] - 30s 45ms/step - loss: 0.8156 - accuracy: 0.7353 - val_loss: 1.0536 - val_accuracy: 0.6978\n",
            "Epoch 83/120\n",
            "665/665 [==============================] - 28s 42ms/step - loss: 0.8188 - accuracy: 0.7327 - val_loss: 1.0811 - val_accuracy: 0.6938\n",
            "Epoch 84/120\n",
            "665/665 [==============================] - 28s 42ms/step - loss: 0.8142 - accuracy: 0.7348 - val_loss: 1.0881 - val_accuracy: 0.6932\n",
            "Epoch 85/120\n",
            "665/665 [==============================] - 28s 42ms/step - loss: 0.8045 - accuracy: 0.7415 - val_loss: 1.0541 - val_accuracy: 0.6991\n",
            "Epoch 86/120\n",
            "665/665 [==============================] - 30s 44ms/step - loss: 0.7925 - accuracy: 0.7414 - val_loss: 1.0559 - val_accuracy: 0.7021\n",
            "Epoch 87/120\n",
            "665/665 [==============================] - 30s 45ms/step - loss: 0.7875 - accuracy: 0.7428 - val_loss: 1.0670 - val_accuracy: 0.6987\n",
            "Epoch 88/120\n",
            "665/665 [==============================] - 28s 42ms/step - loss: 0.7829 - accuracy: 0.7439 - val_loss: 1.0905 - val_accuracy: 0.6968\n",
            "Epoch 89/120\n",
            "665/665 [==============================] - 28s 42ms/step - loss: 0.7810 - accuracy: 0.7424 - val_loss: 1.0631 - val_accuracy: 0.7019\n",
            "Epoch 90/120\n",
            "665/665 [==============================] - 28s 42ms/step - loss: 0.7816 - accuracy: 0.7479 - val_loss: 1.0656 - val_accuracy: 0.7029\n",
            "Epoch 91/120\n",
            "665/665 [==============================] - 28s 42ms/step - loss: 0.7607 - accuracy: 0.7524 - val_loss: 1.0900 - val_accuracy: 0.7013\n",
            "Epoch 92/120\n",
            "665/665 [==============================] - 30s 45ms/step - loss: 0.7611 - accuracy: 0.7497 - val_loss: 1.0855 - val_accuracy: 0.6979\n",
            "Epoch 93/120\n",
            "665/665 [==============================] - 28s 42ms/step - loss: 0.7615 - accuracy: 0.7484 - val_loss: 1.0688 - val_accuracy: 0.7021\n",
            "Epoch 94/120\n",
            "665/665 [==============================] - 28s 42ms/step - loss: 0.7423 - accuracy: 0.7517 - val_loss: 1.0681 - val_accuracy: 0.7014\n",
            "Epoch 95/120\n",
            "665/665 [==============================] - 28s 42ms/step - loss: 0.7471 - accuracy: 0.7550 - val_loss: 1.0868 - val_accuracy: 0.7018\n",
            "Epoch 96/120\n",
            "665/665 [==============================] - 28s 42ms/step - loss: 0.7378 - accuracy: 0.7568 - val_loss: 1.0703 - val_accuracy: 0.7003\n",
            "Epoch 97/120\n",
            "665/665 [==============================] - 28s 42ms/step - loss: 0.7337 - accuracy: 0.7575 - val_loss: 1.0929 - val_accuracy: 0.6978\n",
            "Epoch 98/120\n",
            "665/665 [==============================] - 30s 45ms/step - loss: 0.7223 - accuracy: 0.7586 - val_loss: 1.0846 - val_accuracy: 0.7044\n",
            "Epoch 99/120\n",
            "665/665 [==============================] - 28s 42ms/step - loss: 0.7106 - accuracy: 0.7629 - val_loss: 1.0624 - val_accuracy: 0.7062\n",
            "Epoch 100/120\n",
            "665/665 [==============================] - 28s 42ms/step - loss: 0.7149 - accuracy: 0.7639 - val_loss: 1.0704 - val_accuracy: 0.7024\n",
            "Epoch 101/120\n",
            "665/665 [==============================] - 28s 42ms/step - loss: 0.7036 - accuracy: 0.7680 - val_loss: 1.0830 - val_accuracy: 0.6989\n",
            "Epoch 102/120\n",
            "665/665 [==============================] - 30s 45ms/step - loss: 0.7086 - accuracy: 0.7664 - val_loss: 1.0736 - val_accuracy: 0.7008\n",
            "Epoch 103/120\n",
            "665/665 [==============================] - 28s 42ms/step - loss: 0.7095 - accuracy: 0.7664 - val_loss: 1.0648 - val_accuracy: 0.7081\n",
            "Epoch 104/120\n",
            "665/665 [==============================] - 28s 42ms/step - loss: 0.6971 - accuracy: 0.7680 - val_loss: 1.0703 - val_accuracy: 0.7068\n",
            "Epoch 105/120\n",
            "665/665 [==============================] - 28s 42ms/step - loss: 0.7044 - accuracy: 0.7677 - val_loss: 1.0741 - val_accuracy: 0.7019\n",
            "Epoch 106/120\n",
            "665/665 [==============================] - 28s 42ms/step - loss: 0.6979 - accuracy: 0.7701 - val_loss: 1.0701 - val_accuracy: 0.7028\n",
            "Epoch 107/120\n",
            "665/665 [==============================] - 28s 42ms/step - loss: 0.6865 - accuracy: 0.7723 - val_loss: 1.0871 - val_accuracy: 0.7023\n",
            "Epoch 108/120\n",
            "665/665 [==============================] - 28s 42ms/step - loss: 0.6797 - accuracy: 0.7748 - val_loss: 1.0814 - val_accuracy: 0.7022\n",
            "Epoch 109/120\n",
            "665/665 [==============================] - 28s 42ms/step - loss: 0.6756 - accuracy: 0.7752 - val_loss: 1.0937 - val_accuracy: 0.7025\n",
            "Epoch 110/120\n",
            "665/665 [==============================] - 28s 42ms/step - loss: 0.6784 - accuracy: 0.7711 - val_loss: 1.0842 - val_accuracy: 0.6994\n",
            "Epoch 111/120\n",
            "665/665 [==============================] - 28s 42ms/step - loss: 0.6685 - accuracy: 0.7746 - val_loss: 1.0911 - val_accuracy: 0.7027\n",
            "Epoch 112/120\n",
            "665/665 [==============================] - 28s 42ms/step - loss: 0.6659 - accuracy: 0.7754 - val_loss: 1.0763 - val_accuracy: 0.7067\n",
            "Epoch 113/120\n",
            "665/665 [==============================] - 28s 42ms/step - loss: 0.6621 - accuracy: 0.7793 - val_loss: 1.0932 - val_accuracy: 0.7081\n",
            "Epoch 114/120\n",
            "665/665 [==============================] - 30s 45ms/step - loss: 0.6492 - accuracy: 0.7835 - val_loss: 1.0655 - val_accuracy: 0.7069\n",
            "Epoch 115/120\n",
            "665/665 [==============================] - 28s 42ms/step - loss: 0.6498 - accuracy: 0.7817 - val_loss: 1.1017 - val_accuracy: 0.7042\n",
            "Epoch 116/120\n",
            "665/665 [==============================] - 28s 42ms/step - loss: 0.6614 - accuracy: 0.7780 - val_loss: 1.0872 - val_accuracy: 0.7035\n",
            "Epoch 117/120\n",
            "665/665 [==============================] - 28s 42ms/step - loss: 0.6428 - accuracy: 0.7818 - val_loss: 1.0682 - val_accuracy: 0.7064\n",
            "Epoch 118/120\n",
            "665/665 [==============================] - 30s 45ms/step - loss: 0.6370 - accuracy: 0.7847 - val_loss: 1.0837 - val_accuracy: 0.7095\n",
            "Epoch 119/120\n",
            "665/665 [==============================] - 28s 42ms/step - loss: 0.6331 - accuracy: 0.7880 - val_loss: 1.0850 - val_accuracy: 0.7067\n",
            "Epoch 120/120\n",
            "665/665 [==============================] - 28s 42ms/step - loss: 0.6271 - accuracy: 0.7914 - val_loss: 1.0756 - val_accuracy: 0.7067\n"
          ]
        },
        {
          "output_type": "display_data",
          "data": {
            "image/png": "[encoded data removed]",
            "text/plain": [
              "<Figure size 1440x360 with 2 Axes>"
            ]
          },
          "metadata": {
            "needs_background": "light"
          }
        }
      ]
    }
  ],
  "metadata": {
    "accelerator": "GPU",
    "colab": {
      "name": "Plankton.ipynb",
      "provenance": []
    },
    "kernelspec": {
      "display_name": "Python 3 (ipykernel)",
      "language": "python",
      "name": "python3"
    },
    "language_info": {
      "codemirror_mode": {
        "name": "ipython",
        "version": 3
      },
      "file_extension": ".py",
      "mimetype": "text/x-python",
      "name": "python",
      "nbconvert_exporter": "python",
      "pygments_lexer": "ipython3",
      "version": "3.7.11"
    }
  },
  "nbformat": 4,
  "nbformat_minor": 5
}